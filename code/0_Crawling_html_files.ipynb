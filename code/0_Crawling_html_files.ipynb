{
 "cells": [
  {
   "cell_type": "code",
   "execution_count": 2,
   "metadata": {},
   "outputs": [],
   "source": [
    "from bs4 import BeautifulSoup\n",
    "import requests\n",
    "import codecs\n",
    "\n",
    "import pandas as pd\n",
    "import numpy as np\n",
    "import re\n",
    "\n",
    "from os import path"
   ]
  },
  {
   "cell_type": "code",
   "execution_count": 15,
   "metadata": {},
   "outputs": [
    {
     "name": "stdout",
     "output_type": "stream",
     "text": [
      "100, 200, 300, 400, 500, 600, 700, 800, 900, 1000, 1100, 1200, 1300, 1400, 1500, 1600, 1700, 1800, \n",
      "Issue in status code : 1826 : http://mashable.com/2014/09/29/sexting-photo-apps/ : 404\n",
      "\n",
      "1900, 2000, 2100, 2200, 2300, 2400, 2500, 2600, 2700, 2800, 2900, 3000, 3100, 3200, 3300, 3400, 3500, 3600, 3700, 3800, 3900, 4000, 4100, 4200, 4300, 4400, 4500, 4600, 4700, 4800, 4900, 5000, 5100, 5200, 5300, 5400, 5500, 5600, 5700, 5800, 5900, 6000, 6100, 6200, 6300, 6400, 6500, 6600, 6700, 6800, 6900, 7000, 7100, \n",
      "Issue in status code : 7184 : http://mashable.com/2014/12/16/los-angeles-cosby-no-charges/ : 404\n",
      "\n",
      "7200, 7300, 7400, 7500, 7600, 7700, \n",
      "7795\n"
     ]
    }
   ],
   "source": [
    "# Method to crawl\n",
    "df = pd.read_excel('../data/input/OnlineNewsPopularity.xlsx')\n",
    "df = df[[\"Id\", \"url\"]]\n",
    "\n",
    "for index, rows in df.iterrows():\n",
    "    doc_id = df.at[ index, \"Id\"]\n",
    "    url = df.at[ index, \"url\"]\n",
    "    \n",
    "    if doc_id == 8000:\n",
    "        break\n",
    "    \n",
    "    if doc_id % 100 == 0:\n",
    "        print( str(doc_id) + \", \", end='')\n",
    "        \n",
    "    out_file_name = \"../data/output/html/\" + str(doc_id) + \".html\"\n",
    "    \n",
    "    if path.exists(out_file_name):\n",
    "        # already processed\n",
    "        continue\n",
    "\n",
    "    resp = requests.get( url)\n",
    "\n",
    "    if resp.status_code != 200:\n",
    "        print(\"\\nIssue in status code : \" + str(doc_id)+ \" : \"+ url + \" : \" + str(resp.status_code)+\"\\n\")\n",
    "        continue\n",
    "        \n",
    "    html_doc = resp.text\n",
    "    \n",
    "    with open(out_file_name, \"w\", encoding=\"utf-8\") as out_file:\n",
    "        out_file.write( html_doc)\n",
    "\n",
    "print()\n",
    "print(df.shape[0])"
   ]
  },
  {
   "cell_type": "code",
   "execution_count": 10,
   "metadata": {},
   "outputs": [],
   "source": [
    "out_file.close()"
   ]
  },
  {
   "cell_type": "code",
   "execution_count": 19,
   "metadata": {},
   "outputs": [],
   "source": [
    "for index, rows in df.iterrows():\n",
    "    doc_id = df.at[ index, \"Id\"]\n",
    "    url = df.at[ index, \"url\"]\n",
    "    \n",
    "    out_file_name = \"../data/output/html/\" + str(doc_id) + \".html\"\n",
    "    \n",
    "    if not path.exists(out_file_name):\n",
    "        print(doc_id, url)"
   ]
  },
  {
   "cell_type": "code",
   "execution_count": null,
   "metadata": {},
   "outputs": [],
   "source": []
  }
 ],
 "metadata": {
  "kernelspec": {
   "display_name": "Python 3",
   "language": "python",
   "name": "python3"
  },
  "language_info": {
   "codemirror_mode": {
    "name": "ipython",
    "version": 3
   },
   "file_extension": ".py",
   "mimetype": "text/x-python",
   "name": "python",
   "nbconvert_exporter": "python",
   "pygments_lexer": "ipython3",
   "version": "3.7.1"
  }
 },
 "nbformat": 4,
 "nbformat_minor": 2
}
