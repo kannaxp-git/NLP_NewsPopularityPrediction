{
 "cells": [
  {
   "cell_type": "code",
   "execution_count": 1,
   "metadata": {
    "scrolled": true
   },
   "outputs": [],
   "source": [
    "#Author: kannan\n",
    "import pandas as pd\n",
    "from textblob import TextBlob\n",
    "from datetime import datetime"
   ]
  },
  {
   "cell_type": "markdown",
   "metadata": {},
   "source": [
    "#### reading from consolidated excel file"
   ]
  },
  {
   "cell_type": "code",
   "execution_count": 2,
   "metadata": {},
   "outputs": [
    {
     "data": {
      "text/html": [
       "<div>\n",
       "<style scoped>\n",
       "    .dataframe tbody tr th:only-of-type {\n",
       "        vertical-align: middle;\n",
       "    }\n",
       "\n",
       "    .dataframe tbody tr th {\n",
       "        vertical-align: top;\n",
       "    }\n",
       "\n",
       "    .dataframe thead th {\n",
       "        text-align: right;\n",
       "    }\n",
       "</style>\n",
       "<table border=\"1\" class=\"dataframe\">\n",
       "  <thead>\n",
       "    <tr style=\"text-align: right;\">\n",
       "      <th></th>\n",
       "      <th>Id</th>\n",
       "      <th>url</th>\n",
       "      <th>title</th>\n",
       "      <th>html</th>\n",
       "      <th>content</th>\n",
       "    </tr>\n",
       "  </thead>\n",
       "  <tbody>\n",
       "    <tr>\n",
       "      <th>0</th>\n",
       "      <td>1</td>\n",
       "      <td>http://mashable.com/2014/09/01/americans-held-...</td>\n",
       "      <td>Americans Held in North Korea Ask U.S. for Ass...</td>\n",
       "      <td>&lt;!DOCTYPE html&gt;\\n&lt;html data-env='production' l...</td>\n",
       "      <td>PYONGYANG, North Korea — North Korea gave fore...</td>\n",
       "    </tr>\n",
       "    <tr>\n",
       "      <th>1</th>\n",
       "      <td>2</td>\n",
       "      <td>http://mashable.com/2014/09/01/apple-visa-mast...</td>\n",
       "      <td>Apple Partners With Visa, MasterCard, AmEx for...</td>\n",
       "      <td>&lt;!DOCTYPE html&gt;\\n&lt;html data-env='production' l...</td>\n",
       "      <td>According to new reports from Bloomberg and ot...</td>\n",
       "    </tr>\n",
       "    <tr>\n",
       "      <th>2</th>\n",
       "      <td>3</td>\n",
       "      <td>http://mashable.com/2014/09/01/aussie-football...</td>\n",
       "      <td>Aussie Football Players Dress Up as Rolf Harri...</td>\n",
       "      <td>&lt;!DOCTYPE html&gt;\\n&lt;html data-env='production' l...</td>\n",
       "      <td>SYDNEY — Two Australian football players are a...</td>\n",
       "    </tr>\n",
       "    <tr>\n",
       "      <th>3</th>\n",
       "      <td>4</td>\n",
       "      <td>http://mashable.com/2014/09/01/australia-gover...</td>\n",
       "      <td>Australia Government Buys Bombproof BMW Fleet ...</td>\n",
       "      <td>&lt;!DOCTYPE html&gt;\\n&lt;html data-env='production' l...</td>\n",
       "      <td>SYDNEY — The Australia Prime Minister has orde...</td>\n",
       "    </tr>\n",
       "    <tr>\n",
       "      <th>4</th>\n",
       "      <td>5</td>\n",
       "      <td>http://mashable.com/2014/09/01/australia-jane-...</td>\n",
       "      <td>Author Compares Women in Traditional Marriages...</td>\n",
       "      <td>&lt;!DOCTYPE html&gt;\\n&lt;html data-env='production' l...</td>\n",
       "      <td>SYDNEY — On Australian panel show Q&amp;A, author ...</td>\n",
       "    </tr>\n",
       "  </tbody>\n",
       "</table>\n",
       "</div>"
      ],
      "text/plain": [
       "   Id                                                url  \\\n",
       "0   1  http://mashable.com/2014/09/01/americans-held-...   \n",
       "1   2  http://mashable.com/2014/09/01/apple-visa-mast...   \n",
       "2   3  http://mashable.com/2014/09/01/aussie-football...   \n",
       "3   4  http://mashable.com/2014/09/01/australia-gover...   \n",
       "4   5  http://mashable.com/2014/09/01/australia-jane-...   \n",
       "\n",
       "                                               title  \\\n",
       "0  Americans Held in North Korea Ask U.S. for Ass...   \n",
       "1  Apple Partners With Visa, MasterCard, AmEx for...   \n",
       "2  Aussie Football Players Dress Up as Rolf Harri...   \n",
       "3  Australia Government Buys Bombproof BMW Fleet ...   \n",
       "4  Author Compares Women in Traditional Marriages...   \n",
       "\n",
       "                                                html  \\\n",
       "0  <!DOCTYPE html>\\n<html data-env='production' l...   \n",
       "1  <!DOCTYPE html>\\n<html data-env='production' l...   \n",
       "2  <!DOCTYPE html>\\n<html data-env='production' l...   \n",
       "3  <!DOCTYPE html>\\n<html data-env='production' l...   \n",
       "4  <!DOCTYPE html>\\n<html data-env='production' l...   \n",
       "\n",
       "                                             content  \n",
       "0  PYONGYANG, North Korea — North Korea gave fore...  \n",
       "1  According to new reports from Bloomberg and ot...  \n",
       "2  SYDNEY — Two Australian football players are a...  \n",
       "3  SYDNEY — The Australia Prime Minister has orde...  \n",
       "4  SYDNEY — On Australian panel show Q&A, author ...  "
      ]
     },
     "execution_count": 2,
     "metadata": {},
     "output_type": "execute_result"
    }
   ],
   "source": [
    "in_filepath='../data/output/SS_Extracted_content.xlsx'\n",
    "out_filepath='../data/output/2_Sentiment_Polarity_Subjectivity.xlsx'\n",
    "df=pd.read_excel(in_filepath)\n",
    "df.head()"
   ]
  },
  {
   "cell_type": "code",
   "execution_count": 3,
   "metadata": {},
   "outputs": [
    {
     "data": {
      "text/plain": [
       "(7795, 5)"
      ]
     },
     "execution_count": 3,
     "metadata": {},
     "output_type": "execute_result"
    }
   ],
   "source": [
    "df.shape"
   ]
  },
  {
   "cell_type": "markdown",
   "metadata": {},
   "source": [
    "#### calculating subjectivity and "
   ]
  },
  {
   "cell_type": "code",
   "execution_count": 4,
   "metadata": {},
   "outputs": [
    {
     "data": {
      "text/plain": [
       "'PYONGYANG, North Korea — North Korea gave foreign media access on Monday to three detained Americans who said they have been able to contact their families and — watched by officials as they spoke — called for Washington to send a high-ranking representative to negotiate for their freedom.\\nJeffrey Fowle and Mathew Miller said they expect to face trial within a month. But they said they do not know what punishment they could face or what the specific charges against them are. Kenneth Bae, who already is serving a 15-year term, said his health has deteriorated at the labor camp where he works eight hours a day.\\nSee also: North Korea\\'s Marathon: A Rare Chance to Tour Pyongyang on Foot\\nThe three were allowed to speak briefly with The Associated Press at a meeting center in Pyongyang. North Korean officials were present during the interviews, conducted separately and in different rooms, but did not censor the questions that were asked. The three said they did not know they were going to be interviewed until immediately beforehand.\\nAll said they believe the only solution to their situation is for a U.S. representative to come to North Korea to make a direct appeal.\\nThat has often been North Korea\\'s bargaining chip in the past, when senior statesmen including former President Bill Clinton made trips to Pyongyang to secure the release of detainees.\\nNorth Korea says Fowle and Miller committed hostile acts which violated their status as tourists. It has announced that authorities are preparing for the trial, but has not announced the date.\\nFowle arrived in North Korea on April 29. He is suspected of leaving a Bible in a nightclub in the northern port city of Chongjin. Christian proselytizing is considered a crime in North Korea. Fowle, 56, lives in Miamisburg, Ohio, where he works in a city streets department. He has a wife and three children aged 9, 10, and 12.\\n\"Within a month I could be sharing a jail cell with Ken Bae,\" he said, adding that he hasn\\'t spoken with his family for three weeks. \"I\\'m desperate to get back to them.\"\\nNorth Korea says Miller, 24, entered the country on April 10 with a tourist visa, but tore it up at the airport and shouted that he wanted to seek asylum. Miller refused to comment on whether he was seeking asylum.\\nBae, a 46-year-old Korean-American missionary, has been held since November 2012. He was moved from a work camp to a hospital because of failing health and weight loss but last month was sent back to the work camp outside of Pyongyang, where he said he does farm-related labor. He said he has lost 15 pounds and has severe back pain, along with a sleep disorder. His family has said his health problems include diabetes, an enlarged heart, liver problems and back pain.\\n\"The only hope that I have is to have someone from the U.S. come,\" he said. \"But so far, the latest I\\'ve heard is that there has been no response yet. So I believe that officials here are waiting for that.\"\\nBae said he did not realize before the trial that he was violating North Korean law, but refused to go into details.\\nHe said the lead up to his trial lasted about four months, but the trial itself only took about an hour. He said he elected not to have a defense attorney because \"at that point there was no sense of me to get a lawyer because the only chance I had was to ask for mercy.\"\\n\"It was very quick,\" he said.\\nThe U.S. has repeatedly offered to send its envoy for North Korean human rights issues, Robert King, to Pyongyang to seek a pardon for Bae and other U.S. detainees, but without success. Washington has no diplomatic ties with North Korea and no embassy in Pyongyang. Instead, the Swedish Embassy takes responsibility for U.S. consular affairs.\\nFowle and Miller said they have met with the Swedish ambassador and have been allowed to make phone calls to their relatives.\\nThough a small number of U.S. citizens visit North Korea each year as tourists, the State Department strongly advises against it. After Miller\\'s detention, Washington updated its travel warning to note that over the past 18 months, \"North Korea detained several U.S. citizens who were part of organized tours.\"\\nOrganized tours with sanctioned travel companies are the only way North Korea permits foreigners to visit.\\nNorth Korea has been strongly pushing tourism lately in an effort to bring in foreign cash.\\nThose efforts include opening up an annual marathon in Pyongyang to amateur foreigners, encouraging foreign attendance at a children\\'s summer camp, and supporting the creation of a travel app.\\nBut despite its efforts it remains highly sensitive to any actions it considers political and is particularly wary of anything it deems to be Christian proselytizing.\\nIn March, North Korea deported an Australian missionary detained for spreading Christianity after he apologized and requested forgiveness.\\n'"
      ]
     },
     "execution_count": 4,
     "metadata": {},
     "output_type": "execute_result"
    }
   ],
   "source": [
    "df.iloc[0]['content']"
   ]
  },
  {
   "cell_type": "code",
   "execution_count": 5,
   "metadata": {},
   "outputs": [
    {
     "data": {
      "text/plain": [
       "Sentiment(polarity=0.013541666666666674, subjectivity=0.3909722222222222)"
      ]
     },
     "execution_count": 5,
     "metadata": {},
     "output_type": "execute_result"
    }
   ],
   "source": [
    "#kannan: TextBlob tutorial: https://textblob.readthedocs.io/en/dev/quickstart.html\n",
    "tmp=TextBlob(df.iloc[0]['content'])\n",
    "tmp.sentiment"
   ]
  },
  {
   "cell_type": "code",
   "execution_count": 6,
   "metadata": {},
   "outputs": [],
   "source": [
    "#kannan: If required we trip the content before calculating sentiment (e.g content=left(content, 1000))\n",
    "def left(s, amount):\n",
    "    return s[:amount]\n",
    "\n",
    "def right(s, amount):\n",
    "    return s[-amount:]\n",
    "\n",
    "def mid(s, offset, amount):\n",
    "    return s[offset:offset+amount]"
   ]
  },
  {
   "cell_type": "code",
   "execution_count": 7,
   "metadata": {},
   "outputs": [
    {
     "name": "stdout",
     "output_type": "stream",
     "text": [
      "Sentiment Polarity & Subjectivity extraction time: 0:00:33.972046\n"
     ]
    }
   ],
   "source": [
    "#Iterate through all documents\n",
    "df['polarity_title']=0\n",
    "df['subjectivity_title']=0\n",
    "df['polarity_content']=0\n",
    "df['subjectivity_content']=0\n",
    "\n",
    "startTimeModule = datetime.now()\n",
    "for idx, row in df.iterrows():\n",
    "    #if idx>100: #exit condition\n",
    "    #    break\n",
    "    title=TextBlob(str(row['title']))\n",
    "    content=TextBlob(str(row['content']))\n",
    "    \n",
    "    df.loc[idx,'polarity_title']=title.sentiment.polarity\n",
    "    df.loc[idx,'subjectivity_title']=title.sentiment.subjectivity\n",
    "    \n",
    "    df.loc[idx,'polarity_content']=content.sentiment.polarity\n",
    "    df.loc[idx,'subjectivity_content']=content.sentiment.subjectivity\n",
    "\n",
    "print ('Sentiment Polarity & Subjectivity extraction time:',(datetime.now() - startTimeModule))"
   ]
  },
  {
   "cell_type": "code",
   "execution_count": 8,
   "metadata": {
    "scrolled": true
   },
   "outputs": [
    {
     "data": {
      "text/html": [
       "<div>\n",
       "<style scoped>\n",
       "    .dataframe tbody tr th:only-of-type {\n",
       "        vertical-align: middle;\n",
       "    }\n",
       "\n",
       "    .dataframe tbody tr th {\n",
       "        vertical-align: top;\n",
       "    }\n",
       "\n",
       "    .dataframe thead th {\n",
       "        text-align: right;\n",
       "    }\n",
       "</style>\n",
       "<table border=\"1\" class=\"dataframe\">\n",
       "  <thead>\n",
       "    <tr style=\"text-align: right;\">\n",
       "      <th></th>\n",
       "      <th>Id</th>\n",
       "      <th>url</th>\n",
       "      <th>title</th>\n",
       "      <th>html</th>\n",
       "      <th>content</th>\n",
       "      <th>polarity_title</th>\n",
       "      <th>subjectivity_title</th>\n",
       "      <th>polarity_content</th>\n",
       "      <th>subjectivity_content</th>\n",
       "    </tr>\n",
       "  </thead>\n",
       "  <tbody>\n",
       "    <tr>\n",
       "      <th>0</th>\n",
       "      <td>1</td>\n",
       "      <td>http://mashable.com/2014/09/01/americans-held-...</td>\n",
       "      <td>Americans Held in North Korea Ask U.S. for Ass...</td>\n",
       "      <td>&lt;!DOCTYPE html&gt;\\n&lt;html data-env='production' l...</td>\n",
       "      <td>PYONGYANG, North Korea — North Korea gave fore...</td>\n",
       "      <td>0.000</td>\n",
       "      <td>0.00</td>\n",
       "      <td>0.013542</td>\n",
       "      <td>0.390972</td>\n",
       "    </tr>\n",
       "    <tr>\n",
       "      <th>1</th>\n",
       "      <td>2</td>\n",
       "      <td>http://mashable.com/2014/09/01/apple-visa-mast...</td>\n",
       "      <td>Apple Partners With Visa, MasterCard, AmEx for...</td>\n",
       "      <td>&lt;!DOCTYPE html&gt;\\n&lt;html data-env='production' l...</td>\n",
       "      <td>According to new reports from Bloomberg and ot...</td>\n",
       "      <td>0.000</td>\n",
       "      <td>0.00</td>\n",
       "      <td>0.056136</td>\n",
       "      <td>0.518788</td>\n",
       "    </tr>\n",
       "    <tr>\n",
       "      <th>2</th>\n",
       "      <td>3</td>\n",
       "      <td>http://mashable.com/2014/09/01/aussie-football...</td>\n",
       "      <td>Aussie Football Players Dress Up as Rolf Harri...</td>\n",
       "      <td>&lt;!DOCTYPE html&gt;\\n&lt;html data-env='production' l...</td>\n",
       "      <td>SYDNEY — Two Australian football players are a...</td>\n",
       "      <td>-0.075</td>\n",
       "      <td>0.05</td>\n",
       "      <td>0.003831</td>\n",
       "      <td>0.348095</td>\n",
       "    </tr>\n",
       "    <tr>\n",
       "      <th>3</th>\n",
       "      <td>4</td>\n",
       "      <td>http://mashable.com/2014/09/01/australia-gover...</td>\n",
       "      <td>Australia Government Buys Bombproof BMW Fleet ...</td>\n",
       "      <td>&lt;!DOCTYPE html&gt;\\n&lt;html data-env='production' l...</td>\n",
       "      <td>SYDNEY — The Australia Prime Minister has orde...</td>\n",
       "      <td>0.000</td>\n",
       "      <td>0.00</td>\n",
       "      <td>0.124162</td>\n",
       "      <td>0.378684</td>\n",
       "    </tr>\n",
       "    <tr>\n",
       "      <th>4</th>\n",
       "      <td>5</td>\n",
       "      <td>http://mashable.com/2014/09/01/australia-jane-...</td>\n",
       "      <td>Author Compares Women in Traditional Marriages...</td>\n",
       "      <td>&lt;!DOCTYPE html&gt;\\n&lt;html data-env='production' l...</td>\n",
       "      <td>SYDNEY — On Australian panel show Q&amp;A, author ...</td>\n",
       "      <td>0.000</td>\n",
       "      <td>0.75</td>\n",
       "      <td>0.070928</td>\n",
       "      <td>0.486269</td>\n",
       "    </tr>\n",
       "  </tbody>\n",
       "</table>\n",
       "</div>"
      ],
      "text/plain": [
       "   Id                                                url  \\\n",
       "0   1  http://mashable.com/2014/09/01/americans-held-...   \n",
       "1   2  http://mashable.com/2014/09/01/apple-visa-mast...   \n",
       "2   3  http://mashable.com/2014/09/01/aussie-football...   \n",
       "3   4  http://mashable.com/2014/09/01/australia-gover...   \n",
       "4   5  http://mashable.com/2014/09/01/australia-jane-...   \n",
       "\n",
       "                                               title  \\\n",
       "0  Americans Held in North Korea Ask U.S. for Ass...   \n",
       "1  Apple Partners With Visa, MasterCard, AmEx for...   \n",
       "2  Aussie Football Players Dress Up as Rolf Harri...   \n",
       "3  Australia Government Buys Bombproof BMW Fleet ...   \n",
       "4  Author Compares Women in Traditional Marriages...   \n",
       "\n",
       "                                                html  \\\n",
       "0  <!DOCTYPE html>\\n<html data-env='production' l...   \n",
       "1  <!DOCTYPE html>\\n<html data-env='production' l...   \n",
       "2  <!DOCTYPE html>\\n<html data-env='production' l...   \n",
       "3  <!DOCTYPE html>\\n<html data-env='production' l...   \n",
       "4  <!DOCTYPE html>\\n<html data-env='production' l...   \n",
       "\n",
       "                                             content  polarity_title  \\\n",
       "0  PYONGYANG, North Korea — North Korea gave fore...           0.000   \n",
       "1  According to new reports from Bloomberg and ot...           0.000   \n",
       "2  SYDNEY — Two Australian football players are a...          -0.075   \n",
       "3  SYDNEY — The Australia Prime Minister has orde...           0.000   \n",
       "4  SYDNEY — On Australian panel show Q&A, author ...           0.000   \n",
       "\n",
       "   subjectivity_title  polarity_content  subjectivity_content  \n",
       "0                0.00          0.013542              0.390972  \n",
       "1                0.00          0.056136              0.518788  \n",
       "2                0.05          0.003831              0.348095  \n",
       "3                0.00          0.124162              0.378684  \n",
       "4                0.75          0.070928              0.486269  "
      ]
     },
     "execution_count": 8,
     "metadata": {},
     "output_type": "execute_result"
    }
   ],
   "source": [
    "df.head()"
   ]
  },
  {
   "cell_type": "code",
   "execution_count": 9,
   "metadata": {},
   "outputs": [],
   "source": [
    "#writing the output\n",
    "#kannan: we can remove url, title, content. just keep id and calculated columns. later we can join using 'id'\n",
    "df.drop(['url', 'title','html','content'], axis=1,inplace=True)\n",
    "df.to_excel(out_filepath, index=False)"
   ]
  },
  {
   "cell_type": "code",
   "execution_count": null,
   "metadata": {},
   "outputs": [],
   "source": []
  }
 ],
 "metadata": {
  "kernelspec": {
   "display_name": "Python 3",
   "language": "python",
   "name": "python3"
  },
  "language_info": {
   "codemirror_mode": {
    "name": "ipython",
    "version": 3
   },
   "file_extension": ".py",
   "mimetype": "text/x-python",
   "name": "python",
   "nbconvert_exporter": "python",
   "pygments_lexer": "ipython3",
   "version": "3.7.6"
  }
 },
 "nbformat": 4,
 "nbformat_minor": 2
}
