{
 "cells": [
  {
   "cell_type": "markdown",
   "metadata": {},
   "source": [
    "Kannan: performing decomposition and representing textual features (Title & Content) in n-components using LDA, NMF and LSI."
   ]
  },
  {
   "cell_type": "code",
   "execution_count": 3,
   "metadata": {},
   "outputs": [],
   "source": [
    "#Author: kannan / extracting LDA, NMF & LSI features\n",
    "import pandas as pd\n",
    "from sklearn.decomposition import NMF, LatentDirichletAllocation, TruncatedSVD\n",
    "from sklearn.feature_extraction.text import CountVectorizer\n",
    "\n",
    "from datetime import datetime\n",
    "import joblib"
   ]
  },
  {
   "cell_type": "markdown",
   "metadata": {},
   "source": [
    "#### Reading from extracted content file"
   ]
  },
  {
   "cell_type": "code",
   "execution_count": 4,
   "metadata": {},
   "outputs": [
    {
     "data": {
      "text/html": [
       "<div>\n",
       "<style scoped>\n",
       "    .dataframe tbody tr th:only-of-type {\n",
       "        vertical-align: middle;\n",
       "    }\n",
       "\n",
       "    .dataframe tbody tr th {\n",
       "        vertical-align: top;\n",
       "    }\n",
       "\n",
       "    .dataframe thead th {\n",
       "        text-align: right;\n",
       "    }\n",
       "</style>\n",
       "<table border=\"1\" class=\"dataframe\">\n",
       "  <thead>\n",
       "    <tr style=\"text-align: right;\">\n",
       "      <th></th>\n",
       "      <th>Id</th>\n",
       "      <th>url</th>\n",
       "      <th>title</th>\n",
       "      <th>html</th>\n",
       "      <th>content</th>\n",
       "    </tr>\n",
       "  </thead>\n",
       "  <tbody>\n",
       "    <tr>\n",
       "      <td>0</td>\n",
       "      <td>1</td>\n",
       "      <td>http://mashable.com/2014/09/01/americans-held-...</td>\n",
       "      <td>Americans Held in North Korea Ask U.S. for Ass...</td>\n",
       "      <td>&lt;!DOCTYPE html&gt;\\n&lt;html data-env='production' l...</td>\n",
       "      <td>PYONGYANG, North Korea — North Korea gave fore...</td>\n",
       "    </tr>\n",
       "    <tr>\n",
       "      <td>1</td>\n",
       "      <td>2</td>\n",
       "      <td>http://mashable.com/2014/09/01/apple-visa-mast...</td>\n",
       "      <td>Apple Partners With Visa, MasterCard, AmEx for...</td>\n",
       "      <td>&lt;!DOCTYPE html&gt;\\n&lt;html data-env='production' l...</td>\n",
       "      <td>According to new reports from Bloomberg and ot...</td>\n",
       "    </tr>\n",
       "    <tr>\n",
       "      <td>2</td>\n",
       "      <td>3</td>\n",
       "      <td>http://mashable.com/2014/09/01/aussie-football...</td>\n",
       "      <td>Aussie Football Players Dress Up as Rolf Harri...</td>\n",
       "      <td>&lt;!DOCTYPE html&gt;\\n&lt;html data-env='production' l...</td>\n",
       "      <td>SYDNEY — Two Australian football players are a...</td>\n",
       "    </tr>\n",
       "    <tr>\n",
       "      <td>3</td>\n",
       "      <td>4</td>\n",
       "      <td>http://mashable.com/2014/09/01/australia-gover...</td>\n",
       "      <td>Australia Government Buys Bombproof BMW Fleet ...</td>\n",
       "      <td>&lt;!DOCTYPE html&gt;\\n&lt;html data-env='production' l...</td>\n",
       "      <td>SYDNEY — The Australia Prime Minister has orde...</td>\n",
       "    </tr>\n",
       "    <tr>\n",
       "      <td>4</td>\n",
       "      <td>5</td>\n",
       "      <td>http://mashable.com/2014/09/01/australia-jane-...</td>\n",
       "      <td>Author Compares Women in Traditional Marriages...</td>\n",
       "      <td>&lt;!DOCTYPE html&gt;\\n&lt;html data-env='production' l...</td>\n",
       "      <td>SYDNEY — On Australian panel show Q&amp;A, author ...</td>\n",
       "    </tr>\n",
       "  </tbody>\n",
       "</table>\n",
       "</div>"
      ],
      "text/plain": [
       "   Id                                                url  \\\n",
       "0   1  http://mashable.com/2014/09/01/americans-held-...   \n",
       "1   2  http://mashable.com/2014/09/01/apple-visa-mast...   \n",
       "2   3  http://mashable.com/2014/09/01/aussie-football...   \n",
       "3   4  http://mashable.com/2014/09/01/australia-gover...   \n",
       "4   5  http://mashable.com/2014/09/01/australia-jane-...   \n",
       "\n",
       "                                               title  \\\n",
       "0  Americans Held in North Korea Ask U.S. for Ass...   \n",
       "1  Apple Partners With Visa, MasterCard, AmEx for...   \n",
       "2  Aussie Football Players Dress Up as Rolf Harri...   \n",
       "3  Australia Government Buys Bombproof BMW Fleet ...   \n",
       "4  Author Compares Women in Traditional Marriages...   \n",
       "\n",
       "                                                html  \\\n",
       "0  <!DOCTYPE html>\\n<html data-env='production' l...   \n",
       "1  <!DOCTYPE html>\\n<html data-env='production' l...   \n",
       "2  <!DOCTYPE html>\\n<html data-env='production' l...   \n",
       "3  <!DOCTYPE html>\\n<html data-env='production' l...   \n",
       "4  <!DOCTYPE html>\\n<html data-env='production' l...   \n",
       "\n",
       "                                             content  \n",
       "0  PYONGYANG, North Korea — North Korea gave fore...  \n",
       "1  According to new reports from Bloomberg and ot...  \n",
       "2  SYDNEY — Two Australian football players are a...  \n",
       "3  SYDNEY — The Australia Prime Minister has orde...  \n",
       "4  SYDNEY — On Australian panel show Q&A, author ...  "
      ]
     },
     "execution_count": 4,
     "metadata": {},
     "output_type": "execute_result"
    }
   ],
   "source": [
    "in_filepath='../data/output/SS_Extracted_content.xlsx'\n",
    "in_filepath_kw='../data/output/2_keywords_list.xlsx'\n",
    "out_filepath='../data/output/2_NLP_LDA_NMF_LSI.xlsx'\n",
    "\n",
    "df=pd.read_excel(in_filepath)\n",
    "df_kw=pd.read_excel(in_filepath_kw)\n",
    "\n",
    "df.head()"
   ]
  },
  {
   "cell_type": "code",
   "execution_count": 5,
   "metadata": {},
   "outputs": [
    {
     "data": {
      "text/html": [
       "<div>\n",
       "<style scoped>\n",
       "    .dataframe tbody tr th:only-of-type {\n",
       "        vertical-align: middle;\n",
       "    }\n",
       "\n",
       "    .dataframe tbody tr th {\n",
       "        vertical-align: top;\n",
       "    }\n",
       "\n",
       "    .dataframe thead th {\n",
       "        text-align: right;\n",
       "    }\n",
       "</style>\n",
       "<table border=\"1\" class=\"dataframe\">\n",
       "  <thead>\n",
       "    <tr style=\"text-align: right;\">\n",
       "      <th></th>\n",
       "      <th>Id</th>\n",
       "      <th>keywords</th>\n",
       "    </tr>\n",
       "  </thead>\n",
       "  <tbody>\n",
       "    <tr>\n",
       "      <td>0</td>\n",
       "      <td>1</td>\n",
       "      <td>north-korea, uncategorized, us-world, world, d...</td>\n",
       "    </tr>\n",
       "    <tr>\n",
       "      <td>1</td>\n",
       "      <td>2</td>\n",
       "      <td>apple, visa, mobile-payments, american-express...</td>\n",
       "    </tr>\n",
       "    <tr>\n",
       "      <td>2</td>\n",
       "      <td>3</td>\n",
       "      <td>australia, uncategorized, us-world, sports, ma...</td>\n",
       "    </tr>\n",
       "    <tr>\n",
       "      <td>3</td>\n",
       "      <td>4</td>\n",
       "      <td>australia, bmw, uncategorized, us-world, tony-...</td>\n",
       "    </tr>\n",
       "    <tr>\n",
       "      <td>4</td>\n",
       "      <td>5</td>\n",
       "      <td>q-a, australia, uncategorized, tv, us-world, j...</td>\n",
       "    </tr>\n",
       "  </tbody>\n",
       "</table>\n",
       "</div>"
      ],
      "text/plain": [
       "   Id                                           keywords\n",
       "0   1  north-korea, uncategorized, us-world, world, d...\n",
       "1   2  apple, visa, mobile-payments, american-express...\n",
       "2   3  australia, uncategorized, us-world, sports, ma...\n",
       "3   4  australia, bmw, uncategorized, us-world, tony-...\n",
       "4   5  q-a, australia, uncategorized, tv, us-world, j..."
      ]
     },
     "execution_count": 5,
     "metadata": {},
     "output_type": "execute_result"
    }
   ],
   "source": [
    "df_kw.head()"
   ]
  },
  {
   "cell_type": "code",
   "execution_count": 6,
   "metadata": {},
   "outputs": [],
   "source": [
    "df=pd.merge(df,df_kw,on='Id',how='left')"
   ]
  },
  {
   "cell_type": "code",
   "execution_count": 7,
   "metadata": {},
   "outputs": [
    {
     "data": {
      "text/html": [
       "<div>\n",
       "<style scoped>\n",
       "    .dataframe tbody tr th:only-of-type {\n",
       "        vertical-align: middle;\n",
       "    }\n",
       "\n",
       "    .dataframe tbody tr th {\n",
       "        vertical-align: top;\n",
       "    }\n",
       "\n",
       "    .dataframe thead th {\n",
       "        text-align: right;\n",
       "    }\n",
       "</style>\n",
       "<table border=\"1\" class=\"dataframe\">\n",
       "  <thead>\n",
       "    <tr style=\"text-align: right;\">\n",
       "      <th></th>\n",
       "      <th>Id</th>\n",
       "      <th>url</th>\n",
       "      <th>title</th>\n",
       "      <th>html</th>\n",
       "      <th>content</th>\n",
       "      <th>keywords</th>\n",
       "    </tr>\n",
       "  </thead>\n",
       "  <tbody>\n",
       "    <tr>\n",
       "      <td>0</td>\n",
       "      <td>1</td>\n",
       "      <td>http://mashable.com/2014/09/01/americans-held-...</td>\n",
       "      <td>Americans Held in North Korea Ask U.S. for Ass...</td>\n",
       "      <td>&lt;!DOCTYPE html&gt;\\n&lt;html data-env='production' l...</td>\n",
       "      <td>PYONGYANG, North Korea — North Korea gave fore...</td>\n",
       "      <td>north-korea, uncategorized, us-world, world, d...</td>\n",
       "    </tr>\n",
       "    <tr>\n",
       "      <td>1</td>\n",
       "      <td>2</td>\n",
       "      <td>http://mashable.com/2014/09/01/apple-visa-mast...</td>\n",
       "      <td>Apple Partners With Visa, MasterCard, AmEx for...</td>\n",
       "      <td>&lt;!DOCTYPE html&gt;\\n&lt;html data-env='production' l...</td>\n",
       "      <td>According to new reports from Bloomberg and ot...</td>\n",
       "      <td>apple, visa, mobile-payments, american-express...</td>\n",
       "    </tr>\n",
       "    <tr>\n",
       "      <td>2</td>\n",
       "      <td>3</td>\n",
       "      <td>http://mashable.com/2014/09/01/aussie-football...</td>\n",
       "      <td>Aussie Football Players Dress Up as Rolf Harri...</td>\n",
       "      <td>&lt;!DOCTYPE html&gt;\\n&lt;html data-env='production' l...</td>\n",
       "      <td>SYDNEY — Two Australian football players are a...</td>\n",
       "      <td>australia, uncategorized, us-world, sports, ma...</td>\n",
       "    </tr>\n",
       "    <tr>\n",
       "      <td>3</td>\n",
       "      <td>4</td>\n",
       "      <td>http://mashable.com/2014/09/01/australia-gover...</td>\n",
       "      <td>Australia Government Buys Bombproof BMW Fleet ...</td>\n",
       "      <td>&lt;!DOCTYPE html&gt;\\n&lt;html data-env='production' l...</td>\n",
       "      <td>SYDNEY — The Australia Prime Minister has orde...</td>\n",
       "      <td>australia, bmw, uncategorized, us-world, tony-...</td>\n",
       "    </tr>\n",
       "    <tr>\n",
       "      <td>4</td>\n",
       "      <td>5</td>\n",
       "      <td>http://mashable.com/2014/09/01/australia-jane-...</td>\n",
       "      <td>Author Compares Women in Traditional Marriages...</td>\n",
       "      <td>&lt;!DOCTYPE html&gt;\\n&lt;html data-env='production' l...</td>\n",
       "      <td>SYDNEY — On Australian panel show Q&amp;A, author ...</td>\n",
       "      <td>q-a, australia, uncategorized, tv, us-world, j...</td>\n",
       "    </tr>\n",
       "  </tbody>\n",
       "</table>\n",
       "</div>"
      ],
      "text/plain": [
       "   Id                                                url  \\\n",
       "0   1  http://mashable.com/2014/09/01/americans-held-...   \n",
       "1   2  http://mashable.com/2014/09/01/apple-visa-mast...   \n",
       "2   3  http://mashable.com/2014/09/01/aussie-football...   \n",
       "3   4  http://mashable.com/2014/09/01/australia-gover...   \n",
       "4   5  http://mashable.com/2014/09/01/australia-jane-...   \n",
       "\n",
       "                                               title  \\\n",
       "0  Americans Held in North Korea Ask U.S. for Ass...   \n",
       "1  Apple Partners With Visa, MasterCard, AmEx for...   \n",
       "2  Aussie Football Players Dress Up as Rolf Harri...   \n",
       "3  Australia Government Buys Bombproof BMW Fleet ...   \n",
       "4  Author Compares Women in Traditional Marriages...   \n",
       "\n",
       "                                                html  \\\n",
       "0  <!DOCTYPE html>\\n<html data-env='production' l...   \n",
       "1  <!DOCTYPE html>\\n<html data-env='production' l...   \n",
       "2  <!DOCTYPE html>\\n<html data-env='production' l...   \n",
       "3  <!DOCTYPE html>\\n<html data-env='production' l...   \n",
       "4  <!DOCTYPE html>\\n<html data-env='production' l...   \n",
       "\n",
       "                                             content  \\\n",
       "0  PYONGYANG, North Korea — North Korea gave fore...   \n",
       "1  According to new reports from Bloomberg and ot...   \n",
       "2  SYDNEY — Two Australian football players are a...   \n",
       "3  SYDNEY — The Australia Prime Minister has orde...   \n",
       "4  SYDNEY — On Australian panel show Q&A, author ...   \n",
       "\n",
       "                                            keywords  \n",
       "0  north-korea, uncategorized, us-world, world, d...  \n",
       "1  apple, visa, mobile-payments, american-express...  \n",
       "2  australia, uncategorized, us-world, sports, ma...  \n",
       "3  australia, bmw, uncategorized, us-world, tony-...  \n",
       "4  q-a, australia, uncategorized, tv, us-world, j...  "
      ]
     },
     "execution_count": 7,
     "metadata": {},
     "output_type": "execute_result"
    }
   ],
   "source": [
    "df.head()"
   ]
  },
  {
   "cell_type": "code",
   "execution_count": 8,
   "metadata": {},
   "outputs": [
    {
     "data": {
      "text/plain": [
       "(7795, 6)"
      ]
     },
     "execution_count": 8,
     "metadata": {},
     "output_type": "execute_result"
    }
   ],
   "source": [
    "df.shape"
   ]
  },
  {
   "cell_type": "markdown",
   "metadata": {},
   "source": [
    "#### feature extraction - decomposition"
   ]
  },
  {
   "cell_type": "code",
   "execution_count": 9,
   "metadata": {},
   "outputs": [],
   "source": [
    "NUM_TOPICS=5"
   ]
  },
  {
   "cell_type": "code",
   "execution_count": 10,
   "metadata": {},
   "outputs": [
    {
     "data": {
      "text/plain": [
       "'Americans Held in North Korea Ask U.S. for Assistance'"
      ]
     },
     "execution_count": 10,
     "metadata": {},
     "output_type": "execute_result"
    }
   ],
   "source": [
    "df.iloc[0]['title']\n",
    "#df.iloc[0]['content']"
   ]
  },
  {
   "cell_type": "code",
   "execution_count": 11,
   "metadata": {},
   "outputs": [
    {
     "data": {
      "text/plain": [
       "['Americans Held in North Korea Ask U.S. for Assistance',\n",
       " 'Apple Partners With Visa, MasterCard, AmEx for iPhone 6 Payments: Reports',\n",
       " 'Aussie Football Players Dress Up as Rolf Harris and Victim',\n",
       " 'Australia Government Buys Bombproof BMW Fleet for G20 Summit',\n",
       " 'Author Compares Women in Traditional Marriages to Prostitutes on TV Panel Show']"
      ]
     },
     "execution_count": 11,
     "metadata": {},
     "output_type": "execute_result"
    }
   ],
   "source": [
    "titles=df['title'].values.astype('U')\n",
    "titles=titles.tolist()\n",
    "titles=list(filter(None,titles))\n",
    "titles[0:5]"
   ]
  },
  {
   "cell_type": "code",
   "execution_count": 12,
   "metadata": {},
   "outputs": [],
   "source": [
    "content=df['content'].values.astype('U')\n",
    "content=content.tolist()\n",
    "content=list(filter(None,content))\n",
    "#content[0:2]"
   ]
  },
  {
   "cell_type": "code",
   "execution_count": 13,
   "metadata": {},
   "outputs": [
    {
     "data": {
      "text/plain": [
       "['north-korea, uncategorized, us-world, world, detainees, matthew-miller, jeffrey-fowle',\n",
       " 'apple, visa, mobile-payments, american-express, mastercard, uncategorized, business, apps-software, mobile',\n",
       " 'australia, uncategorized, us-world, sports, mad-monday, afl',\n",
       " 'australia, bmw, uncategorized, us-world, tony-abbott',\n",
       " 'q-a, australia, uncategorized, tv, us-world, jane-caro']"
      ]
     },
     "execution_count": 13,
     "metadata": {},
     "output_type": "execute_result"
    }
   ],
   "source": [
    "keywords=df['keywords'].values.astype('U')\n",
    "keywords=keywords.tolist()\n",
    "keywords=list(filter(None,keywords))\n",
    "keywords[0:5]"
   ]
  },
  {
   "cell_type": "code",
   "execution_count": 14,
   "metadata": {},
   "outputs": [
    {
     "name": "stdout",
     "output_type": "stream",
     "text": [
      "Wall time: 5.76 s\n"
     ]
    }
   ],
   "source": [
    "%%time\n",
    "#count vectorizing the data\n",
    "#reference: https://scikit-learn.org/stable/modules/generated/sklearn.feature_extraction.text.CountVectorizer.html\n",
    "vectorizerT = CountVectorizer(analyzer='word',min_df=5, max_df=0.95, \n",
    "                             stop_words='english', lowercase=True, encoding='utf-8',\n",
    "                             token_pattern='[a-zA-Z\\-][a-zA-Z\\-]{2,}')\n",
    "vectorizerC = CountVectorizer(analyzer='word',min_df=5, max_df=0.95, \n",
    "                             stop_words='english', lowercase=True, encoding='utf-8',\n",
    "                             token_pattern='[a-zA-Z\\-][a-zA-Z\\-]{2,}')\n",
    "vectorizerK = CountVectorizer(analyzer='word',min_df=5, max_df=0.95, \n",
    "                             stop_words='english', lowercase=True, encoding='utf-8',\n",
    "                             token_pattern='[a-zA-Z\\-][a-zA-Z\\-]{2,}')\n",
    "\n",
    "title_vectorized = vectorizerT.fit_transform(titles)\n",
    "content_vectorized = vectorizerC.fit_transform(content)\n",
    "keyword_vectorized = vectorizerK.fit_transform(keywords)"
   ]
  },
  {
   "cell_type": "code",
   "execution_count": 15,
   "metadata": {},
   "outputs": [
    {
     "data": {
      "text/plain": [
       "['../data/output/models/vectorizerK.pkl']"
      ]
     },
     "execution_count": 15,
     "metadata": {},
     "output_type": "execute_result"
    }
   ],
   "source": [
    "joblib.dump(vectorizerT, '../data/output/models/vectorizerT.pkl')\n",
    "joblib.dump(vectorizerC, '../data/output/models/vectorizerC.pkl')\n",
    "joblib.dump(vectorizerK, '../data/output/models/vectorizerK.pkl')"
   ]
  },
  {
   "cell_type": "code",
   "execution_count": 16,
   "metadata": {},
   "outputs": [
    {
     "name": "stdout",
     "output_type": "stream",
     "text": [
      "(7795, 5)\n",
      "Wall time: 2min 23s\n"
     ]
    }
   ],
   "source": [
    "%%time\n",
    "# Build a Latent Dirichlet Allocation Model\n",
    "lda_modelT = LatentDirichletAllocation(n_components=NUM_TOPICS, max_iter=10, learning_method='online')\n",
    "lda_modelC = LatentDirichletAllocation(n_components=NUM_TOPICS, max_iter=10, learning_method='online')\n",
    "lda_modelK = LatentDirichletAllocation(n_components=NUM_TOPICS, max_iter=10, learning_method='online')\n",
    "lda_title = lda_modelT.fit_transform(title_vectorized)\n",
    "lda_content = lda_modelC.fit_transform(content_vectorized)\n",
    "lda_keyword = lda_modelK.fit_transform(keyword_vectorized)\n",
    "print(lda_title.shape)  # (NO_DOCUMENTS, NO_TOPICS)"
   ]
  },
  {
   "cell_type": "code",
   "execution_count": 17,
   "metadata": {},
   "outputs": [
    {
     "data": {
      "text/plain": [
       "['../data/output/models/lda_modelK.pkl']"
      ]
     },
     "execution_count": 17,
     "metadata": {},
     "output_type": "execute_result"
    }
   ],
   "source": [
    "joblib.dump(lda_modelT, '../data/output/models/lda_modelT.pkl')\n",
    "joblib.dump(lda_modelC, '../data/output/models/lda_modelC.pkl')\n",
    "joblib.dump(lda_modelK, '../data/output/models/lda_modelK.pkl')"
   ]
  },
  {
   "cell_type": "code",
   "execution_count": 18,
   "metadata": {},
   "outputs": [
    {
     "name": "stdout",
     "output_type": "stream",
     "text": [
      "(7795, 5)\n",
      "Wall time: 5.89 s\n"
     ]
    }
   ],
   "source": [
    "%%time\n",
    "# Build a Non-Negative Matrix Factorization Model\n",
    "nmf_modelT = NMF(n_components=NUM_TOPICS)\n",
    "nmf_modelC = NMF(n_components=NUM_TOPICS)\n",
    "nmf_modelK = NMF(n_components=NUM_TOPICS)\n",
    "nmf_title = nmf_modelT.fit_transform(title_vectorized)\n",
    "nmf_content = nmf_modelC.fit_transform(content_vectorized)\n",
    "nmf_keyword = nmf_modelK.fit_transform(keyword_vectorized)\n",
    "print(nmf_title.shape)  # (NO_DOCUMENTS, NO_TOPICS)"
   ]
  },
  {
   "cell_type": "code",
   "execution_count": 19,
   "metadata": {},
   "outputs": [
    {
     "data": {
      "text/plain": [
       "['../data/output/models/nmf_modelK.pkl']"
      ]
     },
     "execution_count": 19,
     "metadata": {},
     "output_type": "execute_result"
    }
   ],
   "source": [
    "joblib.dump(nmf_modelT, '../data/output/models/nmf_modelT.pkl')\n",
    "joblib.dump(nmf_modelC, '../data/output/models/nmf_modelC.pkl')\n",
    "joblib.dump(nmf_modelK, '../data/output/models/nmf_modelK.pkl')"
   ]
  },
  {
   "cell_type": "code",
   "execution_count": 20,
   "metadata": {},
   "outputs": [
    {
     "name": "stdout",
     "output_type": "stream",
     "text": [
      "(7795, 5)\n",
      "Wall time: 1.27 s\n"
     ]
    }
   ],
   "source": [
    "%%time\n",
    "# Build a Latent Semantic Indexing Model\n",
    "lsi_modelT = TruncatedSVD(n_components=NUM_TOPICS)\n",
    "lsi_modelC = TruncatedSVD(n_components=NUM_TOPICS)\n",
    "lsi_modelK = TruncatedSVD(n_components=NUM_TOPICS)\n",
    "lsi_title = lsi_modelT.fit_transform(title_vectorized)\n",
    "lsi_content = lsi_modelC.fit_transform(content_vectorized)\n",
    "lsi_keyword = lsi_modelK.fit_transform(keyword_vectorized)\n",
    "print(lsi_title.shape)  # (NO_DOCUMENTS, NO_TOPICS)"
   ]
  },
  {
   "cell_type": "code",
   "execution_count": 21,
   "metadata": {},
   "outputs": [
    {
     "data": {
      "text/plain": [
       "['../data/output/models/lsi_modelK.pkl']"
      ]
     },
     "execution_count": 21,
     "metadata": {},
     "output_type": "execute_result"
    }
   ],
   "source": [
    "joblib.dump(lsi_modelT, '../data/output/models/lsi_modelT.pkl')\n",
    "joblib.dump(lsi_modelC, '../data/output/models/lsi_modelC.pkl')\n",
    "joblib.dump(lsi_modelK, '../data/output/models/lsi_modelK.pkl')"
   ]
  },
  {
   "cell_type": "code",
   "execution_count": 22,
   "metadata": {},
   "outputs": [],
   "source": [
    "models=[]\n",
    "models.append(('LDA_Title',lda_title))\n",
    "models.append(('NMF_Title',nmf_title))\n",
    "models.append(('LSI_Title',lsi_title))\n",
    "models.append(('LDA_Content',lda_content))\n",
    "models.append(('NMF_Content',nmf_content))\n",
    "models.append(('LSI_Content',lsi_content))\n",
    "models.append(('LDA_Keyword',lda_keyword))\n",
    "models.append(('NMF_Keyword',nmf_keyword))\n",
    "models.append(('LSI_Keyword',lsi_keyword))"
   ]
  },
  {
   "cell_type": "code",
   "execution_count": 23,
   "metadata": {},
   "outputs": [],
   "source": [
    "for name, model in models:\n",
    "    cols=[]\n",
    "    for i in range(NUM_TOPICS):\n",
    "        cols.append(name[:5]+str(i))\n",
    "    tmp=pd.DataFrame(model,columns=cols)\n",
    "    tmp['Id']=tmp.index\n",
    "    tmp['Id']=tmp.Id+1\n",
    "    df=pd.merge(df,tmp,on='Id',how='left')"
   ]
  },
  {
   "cell_type": "code",
   "execution_count": 24,
   "metadata": {},
   "outputs": [
    {
     "data": {
      "text/html": [
       "<div>\n",
       "<style scoped>\n",
       "    .dataframe tbody tr th:only-of-type {\n",
       "        vertical-align: middle;\n",
       "    }\n",
       "\n",
       "    .dataframe tbody tr th {\n",
       "        vertical-align: top;\n",
       "    }\n",
       "\n",
       "    .dataframe thead th {\n",
       "        text-align: right;\n",
       "    }\n",
       "</style>\n",
       "<table border=\"1\" class=\"dataframe\">\n",
       "  <thead>\n",
       "    <tr style=\"text-align: right;\">\n",
       "      <th></th>\n",
       "      <th>Id</th>\n",
       "      <th>url</th>\n",
       "      <th>title</th>\n",
       "      <th>html</th>\n",
       "      <th>content</th>\n",
       "      <th>keywords</th>\n",
       "      <th>LDA_T0</th>\n",
       "      <th>LDA_T1</th>\n",
       "      <th>LDA_T2</th>\n",
       "      <th>LDA_T3</th>\n",
       "      <th>...</th>\n",
       "      <th>NMF_K0</th>\n",
       "      <th>NMF_K1</th>\n",
       "      <th>NMF_K2</th>\n",
       "      <th>NMF_K3</th>\n",
       "      <th>NMF_K4</th>\n",
       "      <th>LSI_K0</th>\n",
       "      <th>LSI_K1</th>\n",
       "      <th>LSI_K2</th>\n",
       "      <th>LSI_K3</th>\n",
       "      <th>LSI_K4</th>\n",
       "    </tr>\n",
       "  </thead>\n",
       "  <tbody>\n",
       "    <tr>\n",
       "      <td>0</td>\n",
       "      <td>1</td>\n",
       "      <td>http://mashable.com/2014/09/01/americans-held-...</td>\n",
       "      <td>Americans Held in North Korea Ask U.S. for Ass...</td>\n",
       "      <td>&lt;!DOCTYPE html&gt;\\n&lt;html data-env='production' l...</td>\n",
       "      <td>PYONGYANG, North Korea — North Korea gave fore...</td>\n",
       "      <td>north-korea, uncategorized, us-world, world, d...</td>\n",
       "      <td>0.033334</td>\n",
       "      <td>0.033334</td>\n",
       "      <td>0.866665</td>\n",
       "      <td>0.033334</td>\n",
       "      <td>...</td>\n",
       "      <td>0.174287</td>\n",
       "      <td>0.0</td>\n",
       "      <td>0.000000</td>\n",
       "      <td>0.000245</td>\n",
       "      <td>0.00000</td>\n",
       "      <td>1.337091</td>\n",
       "      <td>-0.312889</td>\n",
       "      <td>-0.075335</td>\n",
       "      <td>0.014325</td>\n",
       "      <td>-0.025997</td>\n",
       "    </tr>\n",
       "    <tr>\n",
       "      <td>1</td>\n",
       "      <td>2</td>\n",
       "      <td>http://mashable.com/2014/09/01/apple-visa-mast...</td>\n",
       "      <td>Apple Partners With Visa, MasterCard, AmEx for...</td>\n",
       "      <td>&lt;!DOCTYPE html&gt;\\n&lt;html data-env='production' l...</td>\n",
       "      <td>According to new reports from Bloomberg and ot...</td>\n",
       "      <td>apple, visa, mobile-payments, american-express...</td>\n",
       "      <td>0.033334</td>\n",
       "      <td>0.033334</td>\n",
       "      <td>0.866664</td>\n",
       "      <td>0.033334</td>\n",
       "      <td>...</td>\n",
       "      <td>0.000000</td>\n",
       "      <td>0.0</td>\n",
       "      <td>0.141952</td>\n",
       "      <td>0.000000</td>\n",
       "      <td>0.16111</td>\n",
       "      <td>0.108035</td>\n",
       "      <td>0.157401</td>\n",
       "      <td>1.083466</td>\n",
       "      <td>-0.085400</td>\n",
       "      <td>0.860167</td>\n",
       "    </tr>\n",
       "  </tbody>\n",
       "</table>\n",
       "<p>2 rows × 51 columns</p>\n",
       "</div>"
      ],
      "text/plain": [
       "   Id                                                url  \\\n",
       "0   1  http://mashable.com/2014/09/01/americans-held-...   \n",
       "1   2  http://mashable.com/2014/09/01/apple-visa-mast...   \n",
       "\n",
       "                                               title  \\\n",
       "0  Americans Held in North Korea Ask U.S. for Ass...   \n",
       "1  Apple Partners With Visa, MasterCard, AmEx for...   \n",
       "\n",
       "                                                html  \\\n",
       "0  <!DOCTYPE html>\\n<html data-env='production' l...   \n",
       "1  <!DOCTYPE html>\\n<html data-env='production' l...   \n",
       "\n",
       "                                             content  \\\n",
       "0  PYONGYANG, North Korea — North Korea gave fore...   \n",
       "1  According to new reports from Bloomberg and ot...   \n",
       "\n",
       "                                            keywords    LDA_T0    LDA_T1  \\\n",
       "0  north-korea, uncategorized, us-world, world, d...  0.033334  0.033334   \n",
       "1  apple, visa, mobile-payments, american-express...  0.033334  0.033334   \n",
       "\n",
       "     LDA_T2    LDA_T3  ...    NMF_K0  NMF_K1    NMF_K2    NMF_K3   NMF_K4  \\\n",
       "0  0.866665  0.033334  ...  0.174287     0.0  0.000000  0.000245  0.00000   \n",
       "1  0.866664  0.033334  ...  0.000000     0.0  0.141952  0.000000  0.16111   \n",
       "\n",
       "     LSI_K0    LSI_K1    LSI_K2    LSI_K3    LSI_K4  \n",
       "0  1.337091 -0.312889 -0.075335  0.014325 -0.025997  \n",
       "1  0.108035  0.157401  1.083466 -0.085400  0.860167  \n",
       "\n",
       "[2 rows x 51 columns]"
      ]
     },
     "execution_count": 24,
     "metadata": {},
     "output_type": "execute_result"
    }
   ],
   "source": [
    "df.head(2)"
   ]
  },
  {
   "cell_type": "code",
   "execution_count": 25,
   "metadata": {},
   "outputs": [
    {
     "data": {
      "text/plain": [
       "Index(['Id', 'url', 'title', 'html', 'content', 'keywords', 'LDA_T0', 'LDA_T1',\n",
       "       'LDA_T2', 'LDA_T3', 'LDA_T4', 'NMF_T0', 'NMF_T1', 'NMF_T2', 'NMF_T3',\n",
       "       'NMF_T4', 'LSI_T0', 'LSI_T1', 'LSI_T2', 'LSI_T3', 'LSI_T4', 'LDA_C0',\n",
       "       'LDA_C1', 'LDA_C2', 'LDA_C3', 'LDA_C4', 'NMF_C0', 'NMF_C1', 'NMF_C2',\n",
       "       'NMF_C3', 'NMF_C4', 'LSI_C0', 'LSI_C1', 'LSI_C2', 'LSI_C3', 'LSI_C4',\n",
       "       'LDA_K0', 'LDA_K1', 'LDA_K2', 'LDA_K3', 'LDA_K4', 'NMF_K0', 'NMF_K1',\n",
       "       'NMF_K2', 'NMF_K3', 'NMF_K4', 'LSI_K0', 'LSI_K1', 'LSI_K2', 'LSI_K3',\n",
       "       'LSI_K4'],\n",
       "      dtype='object')"
      ]
     },
     "execution_count": 25,
     "metadata": {},
     "output_type": "execute_result"
    }
   ],
   "source": [
    "df.columns"
   ]
  },
  {
   "cell_type": "code",
   "execution_count": 26,
   "metadata": {},
   "outputs": [],
   "source": [
    "#writing the output\n",
    "#kannan: we can remove url, title, content. just keep id and calculated columns. later we can join using 'id'\n",
    "df.drop(['url', 'title','content','html','keywords'], axis=1,inplace=True)\n",
    "df.to_excel(out_filepath, index=False)"
   ]
  },
  {
   "cell_type": "code",
   "execution_count": 27,
   "metadata": {},
   "outputs": [
    {
     "data": {
      "text/plain": [
       "'\\n#Just visualizing the n_components representation of rows/observations\\nprint(lda_title[0])\\nprint(nmf_title[0])\\nprint(lsi_title[0])\\n'"
      ]
     },
     "execution_count": 27,
     "metadata": {},
     "output_type": "execute_result"
    }
   ],
   "source": [
    "\"\"\"\n",
    "#Just visualizing the n_components representation of rows/observations\n",
    "print(lda_title[0])\n",
    "print(nmf_title[0])\n",
    "print(lsi_title[0])\n",
    "\"\"\""
   ]
  },
  {
   "cell_type": "code",
   "execution_count": 28,
   "metadata": {},
   "outputs": [
    {
     "data": {
      "text/plain": [
       "'\\n#Informational (how to extract topics)\\ndef print_topics(model, vectorizer, top_n=10):\\n    for idx, topic in enumerate(model.components_):\\n        print(\"Topic %d:\" % (idx))\\n        print([(vectorizer.get_feature_names()[i], topic[i])\\n                        for i in topic.argsort()[:-top_n - 1:-1]])\\nprint(\"LDA Model:\")\\nprint_topics(lda_model, vectorizer)\\nprint(\"=\" * 20)\\n \\nprint(\"NMF Model:\")\\nprint_topics(nmf_model, vectorizer)\\nprint(\"=\" * 20)\\n \\nprint(\"LSI Model:\")\\nprint_topics(lsi_model, vectorizer)\\nprint(\"=\" * 20)\\n'"
      ]
     },
     "execution_count": 28,
     "metadata": {},
     "output_type": "execute_result"
    }
   ],
   "source": [
    "\"\"\"\n",
    "#Informational (how to extract topics)\n",
    "def print_topics(model, vectorizer, top_n=10):\n",
    "    for idx, topic in enumerate(model.components_):\n",
    "        print(\"Topic %d:\" % (idx))\n",
    "        print([(vectorizer.get_feature_names()[i], topic[i])\n",
    "                        for i in topic.argsort()[:-top_n - 1:-1]])\n",
    "print(\"LDA Model:\")\n",
    "print_topics(lda_model, vectorizer)\n",
    "print(\"=\" * 20)\n",
    " \n",
    "print(\"NMF Model:\")\n",
    "print_topics(nmf_model, vectorizer)\n",
    "print(\"=\" * 20)\n",
    " \n",
    "print(\"LSI Model:\")\n",
    "print_topics(lsi_model, vectorizer)\n",
    "print(\"=\" * 20)\n",
    "\"\"\""
   ]
  },
  {
   "cell_type": "code",
   "execution_count": 29,
   "metadata": {},
   "outputs": [
    {
     "data": {
      "text/plain": [
       "'\\ndef infer_components(model,vectorizer,text):\\n    c=model.transform(vectorizer.transform([text]))[0]\\n    return c.tolist()\\n\\ndef infer_components_all(models,vectorizer,text):\\n    components=[]\\n    for _,model in models:\\n        components.extend(infer_components(model,vectorizer,text))\\n    return components\\n'"
      ]
     },
     "execution_count": 29,
     "metadata": {},
     "output_type": "execute_result"
    }
   ],
   "source": [
    "\"\"\"\n",
    "def infer_components(model,vectorizer,text):\n",
    "    c=model.transform(vectorizer.transform([text]))[0]\n",
    "    return c.tolist()\n",
    "\n",
    "def infer_components_all(models,vectorizer,text):\n",
    "    components=[]\n",
    "    for _,model in models:\n",
    "        components.extend(infer_components(model,vectorizer,text))\n",
    "    return components\n",
    "\"\"\" "
   ]
  },
  {
   "cell_type": "code",
   "execution_count": 30,
   "metadata": {},
   "outputs": [
    {
     "data": {
      "text/plain": [
       "'\\ntext = \"Kannan is a good boy. An example of new sentence\"\\nx = lda_model.transform(vectorizer.transform([text]))[0]\\nprint(x)\\n'"
      ]
     },
     "execution_count": 30,
     "metadata": {},
     "output_type": "execute_result"
    }
   ],
   "source": [
    "\"\"\"\n",
    "text = \"Kannan is a good boy. An example of new sentence\"\n",
    "x = lda_model.transform(vectorizer.transform([text]))[0]\n",
    "print(x)\n",
    "\"\"\""
   ]
  },
  {
   "cell_type": "code",
   "execution_count": 31,
   "metadata": {},
   "outputs": [
    {
     "data": {
      "text/plain": [
       "'\\ninfer_components(lda_model,vectorizer,text)\\n'"
      ]
     },
     "execution_count": 31,
     "metadata": {},
     "output_type": "execute_result"
    }
   ],
   "source": [
    "\"\"\"\n",
    "infer_components(lda_model,vectorizer,text)\n",
    "\"\"\""
   ]
  }
 ],
 "metadata": {
  "kernelspec": {
   "display_name": "Python 3",
   "language": "python",
   "name": "python3"
  },
  "language_info": {
   "codemirror_mode": {
    "name": "ipython",
    "version": 3
   },
   "file_extension": ".py",
   "mimetype": "text/x-python",
   "name": "python",
   "nbconvert_exporter": "python",
   "pygments_lexer": "ipython3",
   "version": "3.7.4"
  }
 },
 "nbformat": 4,
 "nbformat_minor": 2
}
