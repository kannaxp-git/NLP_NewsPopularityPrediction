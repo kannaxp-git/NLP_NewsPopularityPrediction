{
 "cells": [
  {
   "cell_type": "markdown",
   "metadata": {},
   "source": [
    "#### Finding popular / unpopular keywords"
   ]
  },
  {
   "cell_type": "code",
   "execution_count": 1,
   "metadata": {},
   "outputs": [],
   "source": [
    "import pandas as pd\n",
    "import matplotlib.pyplot as plt\n",
    "%matplotlib inline\n",
    "import numpy as np\n",
    "import math"
   ]
  },
  {
   "cell_type": "code",
   "execution_count": 2,
   "metadata": {},
   "outputs": [
    {
     "name": "stdout",
     "output_type": "stream",
     "text": [
      "384\n",
      "0\n",
      "(7795, 3)\n",
      "0\n",
      "384\n"
     ]
    }
   ],
   "source": [
    "df_in = pd.read_excel( '../data/input/OnlineNewsPopularity.xlsx')[[\"Id\", \" shares\"]]\n",
    "df_in[\"shares\"] = df_in[\" shares\"]\n",
    "df_in = df_in.drop( columns=[\" shares\"], axis=1)\n",
    "\n",
    "df_in[\"shares_no_clip\"] = df_in[\"shares\"]\n",
    "\n",
    "# for df_in alone clip it to 95th percentile\n",
    "print( (df_in.shares>9500).astype(int).sum())\n",
    "df_in.shares[ df_in.shares > 9500] = 9500\n",
    "print( (df_in.shares>9500).astype(int).sum())\n",
    "\n",
    "print( df_in.shape)\n",
    "print( (df_in.shares > 9500).astype(int).sum() )\n",
    "print( (df_in.shares_no_clip > 9500).astype(int).sum() )"
   ]
  },
  {
   "cell_type": "code",
   "execution_count": 3,
   "metadata": {},
   "outputs": [
    {
     "data": {
      "text/plain": [
       "(7795, 3)"
      ]
     },
     "execution_count": 3,
     "metadata": {},
     "output_type": "execute_result"
    }
   ],
   "source": [
    "df_keywords = pd.read_excel( '../data/output/2_keywords_list.xlsx')\n",
    "df_keywords.shape"
   ]
  },
  {
   "cell_type": "markdown",
   "metadata": {},
   "source": [
    "#### For each keyword, get the following\n",
    "* Number of articles it appears\n",
    "* Average shares\n",
    "* Min number of shares it received\n",
    "* Max number of shares it received\n",
    "* Average shares (no clipping of 95%)\n",
    "* Min number of shares it received (no clipping of 95%)\n",
    "* Max number of shares it received (no clipping of 95%)"
   ]
  },
  {
   "cell_type": "code",
   "execution_count": 4,
   "metadata": {},
   "outputs": [
    {
     "data": {
      "text/html": [
       "<div>\n",
       "<style scoped>\n",
       "    .dataframe tbody tr th:only-of-type {\n",
       "        vertical-align: middle;\n",
       "    }\n",
       "\n",
       "    .dataframe tbody tr th {\n",
       "        vertical-align: top;\n",
       "    }\n",
       "\n",
       "    .dataframe thead th {\n",
       "        text-align: right;\n",
       "    }\n",
       "</style>\n",
       "<table border=\"1\" class=\"dataframe\">\n",
       "  <thead>\n",
       "    <tr style=\"text-align: right;\">\n",
       "      <th></th>\n",
       "      <th>article_count</th>\n",
       "      <th>shares</th>\n",
       "      <th>min_shares</th>\n",
       "      <th>max_shares</th>\n",
       "      <th>shares_no_clip</th>\n",
       "      <th>min_shares_no_clip</th>\n",
       "      <th>max_shares_no_clip</th>\n",
       "    </tr>\n",
       "    <tr>\n",
       "      <th>keyword</th>\n",
       "      <th></th>\n",
       "      <th></th>\n",
       "      <th></th>\n",
       "      <th></th>\n",
       "      <th></th>\n",
       "      <th></th>\n",
       "      <th></th>\n",
       "    </tr>\n",
       "  </thead>\n",
       "  <tbody>\n",
       "  </tbody>\n",
       "</table>\n",
       "</div>"
      ],
      "text/plain": [
       "Empty DataFrame\n",
       "Columns: [article_count, shares, min_shares, max_shares, shares_no_clip, min_shares_no_clip, max_shares_no_clip]\n",
       "Index: []"
      ]
     },
     "execution_count": 4,
     "metadata": {},
     "output_type": "execute_result"
    }
   ],
   "source": [
    "df_popular = pd.DataFrame( columns=[\"keyword\", \"article_count\", \\\n",
    "                                    \"shares\", \"min_shares\", \"max_shares\", \\\n",
    "                                    \"shares_no_clip\", \"min_shares_no_clip\", \"max_shares_no_clip\" \\\n",
    "                                    ])\n",
    "df_popular.set_index( \"keyword\", inplace=True)\n",
    "df_popular = df_popular.astype({'article_count':int, \\\n",
    "                                'shares':int, 'min_shares':int, 'max_shares':int, \\\n",
    "                                'shares_no_clip':int, 'min_shares_no_clip':int, 'max_shares_no_clip':int \\\n",
    "                               }) \n",
    "df_popular"
   ]
  },
  {
   "cell_type": "code",
   "execution_count": 5,
   "metadata": {},
   "outputs": [
    {
     "data": {
      "text/plain": [
       "(6106, 7)"
      ]
     },
     "execution_count": 5,
     "metadata": {},
     "output_type": "execute_result"
    }
   ],
   "source": [
    "for index, row in df_keywords.iterrows():\n",
    "    id = row.Id\n",
    "    keywords = row.keywords\n",
    "    shares = df_in.at[index, \"shares\"]\n",
    "    shares_no_clip = df_in.at[index, \"shares_no_clip\"]\n",
    "    \n",
    "    for keyword in keywords.split(\", \"):\n",
    "        if df_popular.index.contains(keyword):\n",
    "            df_popular.at[keyword, \"article_count\"] += 1\n",
    "            df_popular.at[keyword, \"shares\"] += shares\n",
    "            df_popular.at[keyword, \"shares_no_clip\"] += shares_no_clip\n",
    "            \n",
    "            if shares > df_popular.at[keyword, \"max_shares\"]:\n",
    "                df_popular.at[keyword, \"max_shares\"] = shares\n",
    "                \n",
    "            if shares < df_popular.at[keyword, \"min_shares\"]:\n",
    "                df_popular.at[keyword, \"min_shares\"] = shares\n",
    "                \n",
    "            if shares_no_clip > df_popular.at[keyword, \"max_shares_no_clip\"]:\n",
    "                df_popular.at[keyword, \"max_shares_no_clip\"] = shares_no_clip\n",
    "                \n",
    "            if shares_no_clip < df_popular.at[keyword, \"min_shares_no_clip\"]:\n",
    "                df_popular.at[keyword, \"min_shares_no_clip\"] = shares_no_clip\n",
    "        else:\n",
    "            df_popular.at[keyword, \"article_count\"] = 1\n",
    "            df_popular.at[keyword, \"shares\"] = shares\n",
    "            df_popular.at[keyword, \"min_shares\"] = shares\n",
    "            df_popular.at[keyword, \"max_shares\"] = shares\n",
    "            \n",
    "            df_popular.at[keyword, \"shares_no_clip\"] = shares_no_clip\n",
    "            df_popular.at[keyword, \"min_shares_no_clip\"] = shares_no_clip\n",
    "            df_popular.at[keyword, \"max_shares_no_clip\"] = shares_no_clip\n",
    "\n",
    "df_popular.shape"
   ]
  },
  {
   "cell_type": "markdown",
   "metadata": {},
   "source": [
    "### Find the maximum values"
   ]
  },
  {
   "cell_type": "code",
   "execution_count": 6,
   "metadata": {},
   "outputs": [
    {
     "data": {
      "text/html": [
       "<div>\n",
       "<style scoped>\n",
       "    .dataframe tbody tr th:only-of-type {\n",
       "        vertical-align: middle;\n",
       "    }\n",
       "\n",
       "    .dataframe tbody tr th {\n",
       "        vertical-align: top;\n",
       "    }\n",
       "\n",
       "    .dataframe thead th {\n",
       "        text-align: right;\n",
       "    }\n",
       "</style>\n",
       "<table border=\"1\" class=\"dataframe\">\n",
       "  <thead>\n",
       "    <tr style=\"text-align: right;\">\n",
       "      <th></th>\n",
       "      <th>article_count</th>\n",
       "      <th>shares</th>\n",
       "      <th>min_shares</th>\n",
       "      <th>max_shares</th>\n",
       "      <th>shares_no_clip</th>\n",
       "      <th>min_shares_no_clip</th>\n",
       "      <th>max_shares_no_clip</th>\n",
       "      <th>avg_shares</th>\n",
       "      <th>avg_shares_no_clip</th>\n",
       "    </tr>\n",
       "    <tr>\n",
       "      <th>keyword</th>\n",
       "      <th></th>\n",
       "      <th></th>\n",
       "      <th></th>\n",
       "      <th></th>\n",
       "      <th></th>\n",
       "      <th></th>\n",
       "      <th></th>\n",
       "      <th></th>\n",
       "      <th></th>\n",
       "    </tr>\n",
       "  </thead>\n",
       "  <tbody>\n",
       "    <tr>\n",
       "      <th>north-korea</th>\n",
       "      <td>46.0</td>\n",
       "      <td>99910.0</td>\n",
       "      <td>582.0</td>\n",
       "      <td>9500.0</td>\n",
       "      <td>101010.0</td>\n",
       "      <td>582.0</td>\n",
       "      <td>10600.0</td>\n",
       "      <td>2171</td>\n",
       "      <td>2195</td>\n",
       "    </tr>\n",
       "    <tr>\n",
       "      <th>uncategorized</th>\n",
       "      <td>7787.0</td>\n",
       "      <td>17320868.0</td>\n",
       "      <td>5.0</td>\n",
       "      <td>9500.0</td>\n",
       "      <td>23585567.0</td>\n",
       "      <td>5.0</td>\n",
       "      <td>284700.0</td>\n",
       "      <td>2224</td>\n",
       "      <td>3028</td>\n",
       "    </tr>\n",
       "    <tr>\n",
       "      <th>us-world</th>\n",
       "      <td>2374.0</td>\n",
       "      <td>5176343.0</td>\n",
       "      <td>22.0</td>\n",
       "      <td>9500.0</td>\n",
       "      <td>7083642.0</td>\n",
       "      <td>22.0</td>\n",
       "      <td>284700.0</td>\n",
       "      <td>2180</td>\n",
       "      <td>2983</td>\n",
       "    </tr>\n",
       "    <tr>\n",
       "      <th>world</th>\n",
       "      <td>1516.0</td>\n",
       "      <td>3373012.0</td>\n",
       "      <td>28.0</td>\n",
       "      <td>9500.0</td>\n",
       "      <td>5086712.0</td>\n",
       "      <td>28.0</td>\n",
       "      <td>284700.0</td>\n",
       "      <td>2224</td>\n",
       "      <td>3355</td>\n",
       "    </tr>\n",
       "    <tr>\n",
       "      <th>detainees</th>\n",
       "      <td>2.0</td>\n",
       "      <td>1758.0</td>\n",
       "      <td>658.0</td>\n",
       "      <td>1100.0</td>\n",
       "      <td>1758.0</td>\n",
       "      <td>658.0</td>\n",
       "      <td>1100.0</td>\n",
       "      <td>879</td>\n",
       "      <td>879</td>\n",
       "    </tr>\n",
       "  </tbody>\n",
       "</table>\n",
       "</div>"
      ],
      "text/plain": [
       "               article_count      shares  min_shares  max_shares  \\\n",
       "keyword                                                            \n",
       "north-korea             46.0     99910.0       582.0      9500.0   \n",
       "uncategorized         7787.0  17320868.0         5.0      9500.0   \n",
       "us-world              2374.0   5176343.0        22.0      9500.0   \n",
       "world                 1516.0   3373012.0        28.0      9500.0   \n",
       "detainees                2.0      1758.0       658.0      1100.0   \n",
       "\n",
       "               shares_no_clip  min_shares_no_clip  max_shares_no_clip  \\\n",
       "keyword                                                                 \n",
       "north-korea          101010.0               582.0             10600.0   \n",
       "uncategorized      23585567.0                 5.0            284700.0   \n",
       "us-world            7083642.0                22.0            284700.0   \n",
       "world               5086712.0                28.0            284700.0   \n",
       "detainees              1758.0               658.0              1100.0   \n",
       "\n",
       "               avg_shares  avg_shares_no_clip  \n",
       "keyword                                        \n",
       "north-korea          2171                2195  \n",
       "uncategorized        2224                3028  \n",
       "us-world             2180                2983  \n",
       "world                2224                3355  \n",
       "detainees             879                 879  "
      ]
     },
     "execution_count": 6,
     "metadata": {},
     "output_type": "execute_result"
    }
   ],
   "source": [
    "df_popular[\"avg_shares\"] = ( df_popular[\"shares\"] / df_popular[\"article_count\"]).astype(int)\n",
    "df_popular[\"avg_shares_no_clip\"] = ( df_popular[\"shares_no_clip\"] / df_popular[\"article_count\"]).astype(int)\n",
    "df_popular.head(5)"
   ]
  },
  {
   "cell_type": "code",
   "execution_count": 7,
   "metadata": {},
   "outputs": [
    {
     "data": {
      "text/plain": [
       "841"
      ]
     },
     "execution_count": 7,
     "metadata": {},
     "output_type": "execute_result"
    }
   ],
   "source": [
    "((df_popular[\"avg_shares\"] - df_popular[\"avg_shares_no_clip\"]) != 0).astype(int).sum()"
   ]
  },
  {
   "cell_type": "markdown",
   "metadata": {},
   "source": [
    "### Keywords to ignore\n",
    "\n",
    "* Max used keywords - anything > 2000 articles\n",
    "    * uncategorized appears in almost all the entries\n",
    "    * us-world appears in almost two thirds of the entries\n",
    "* Anything appeared in lesser than or equal of 3 articles \n",
    "\n",
    "###### We will consider only the keywords which appeared in atleast 4 articles and atmost 2000 articles"
   ]
  },
  {
   "cell_type": "code",
   "execution_count": 8,
   "metadata": {},
   "outputs": [],
   "source": [
    "#df_popular = df_popular[ (df_popular.article_count < 2000) & (df_popular.article_count > 3) ]\n",
    "#df_popular.shape"
   ]
  },
  {
   "cell_type": "code",
   "execution_count": 9,
   "metadata": {},
   "outputs": [
    {
     "data": {
      "text/plain": [
       "(6106, 7)"
      ]
     },
     "execution_count": 9,
     "metadata": {},
     "output_type": "execute_result"
    }
   ],
   "source": [
    "df_popular.drop( columns=[\"shares\", \"shares_no_clip\"], axis=1, inplace=True)\n",
    "df_popular.shape"
   ]
  },
  {
   "cell_type": "code",
   "execution_count": 10,
   "metadata": {},
   "outputs": [],
   "source": [
    "df_popular.to_excel('../data/output/2_keywords_popularity.xlsx', index=True)"
   ]
  },
  {
   "cell_type": "markdown",
   "metadata": {},
   "source": [
    "### Predicting shares based on keywords popularity"
   ]
  },
  {
   "cell_type": "code",
   "execution_count": 1,
   "metadata": {},
   "outputs": [],
   "source": [
    "import pandas as pd\n",
    "import math\n",
    "\n",
    "from KeywordsPopularity import KeyPop\n",
    "keyPop = KeyPop()"
   ]
  },
  {
   "cell_type": "code",
   "execution_count": 2,
   "metadata": {},
   "outputs": [],
   "source": [
    "# Training RMSE\n",
    "df_in = pd.read_excel( '../data/input/OnlineNewsPopularity.xlsx')[[\"Id\", \" shares\"]]\n",
    "df_in[\"shares\"] = df_in[\" shares\"]\n",
    "df_in = df_in.drop( columns=[\" shares\"], axis=1)\n",
    "df_in[\"shares_no_clip\"] = df_in[\"shares\"]\n",
    "df_in.shares[ df_in.shares > 9500] = 9500\n",
    "\n",
    "df_keywords = pd.read_excel( '../data/output/2_keywords_list.xlsx')[[\"Id\", \"keywords\"]]"
   ]
  },
  {
   "cell_type": "code",
   "execution_count": 3,
   "metadata": {},
   "outputs": [
    {
     "data": {
      "text/html": [
       "<div>\n",
       "<style scoped>\n",
       "    .dataframe tbody tr th:only-of-type {\n",
       "        vertical-align: middle;\n",
       "    }\n",
       "\n",
       "    .dataframe tbody tr th {\n",
       "        vertical-align: top;\n",
       "    }\n",
       "\n",
       "    .dataframe thead th {\n",
       "        text-align: right;\n",
       "    }\n",
       "</style>\n",
       "<table border=\"1\" class=\"dataframe\">\n",
       "  <thead>\n",
       "    <tr style=\"text-align: right;\">\n",
       "      <th></th>\n",
       "      <th>Id</th>\n",
       "      <th>shares</th>\n",
       "      <th>shares_no_clip</th>\n",
       "      <th>keywords</th>\n",
       "    </tr>\n",
       "  </thead>\n",
       "  <tbody>\n",
       "    <tr>\n",
       "      <th>0</th>\n",
       "      <td>1</td>\n",
       "      <td>1100</td>\n",
       "      <td>1100</td>\n",
       "      <td>north-korea, uncategorized, us-world, world, d...</td>\n",
       "    </tr>\n",
       "    <tr>\n",
       "      <th>1</th>\n",
       "      <td>2</td>\n",
       "      <td>1100</td>\n",
       "      <td>1100</td>\n",
       "      <td>apple, visa, mobile-payments, american-express...</td>\n",
       "    </tr>\n",
       "    <tr>\n",
       "      <th>2</th>\n",
       "      <td>3</td>\n",
       "      <td>1000</td>\n",
       "      <td>1000</td>\n",
       "      <td>australia, uncategorized, us-world, sports, ma...</td>\n",
       "    </tr>\n",
       "    <tr>\n",
       "      <th>3</th>\n",
       "      <td>4</td>\n",
       "      <td>822</td>\n",
       "      <td>822</td>\n",
       "      <td>australia, bmw, uncategorized, us-world, tony-...</td>\n",
       "    </tr>\n",
       "    <tr>\n",
       "      <th>4</th>\n",
       "      <td>5</td>\n",
       "      <td>841</td>\n",
       "      <td>841</td>\n",
       "      <td>q-a, australia, uncategorized, tv, us-world, j...</td>\n",
       "    </tr>\n",
       "  </tbody>\n",
       "</table>\n",
       "</div>"
      ],
      "text/plain": [
       "   Id  shares  shares_no_clip  \\\n",
       "0   1    1100            1100   \n",
       "1   2    1100            1100   \n",
       "2   3    1000            1000   \n",
       "3   4     822             822   \n",
       "4   5     841             841   \n",
       "\n",
       "                                            keywords  \n",
       "0  north-korea, uncategorized, us-world, world, d...  \n",
       "1  apple, visa, mobile-payments, american-express...  \n",
       "2  australia, uncategorized, us-world, sports, ma...  \n",
       "3  australia, bmw, uncategorized, us-world, tony-...  \n",
       "4  q-a, australia, uncategorized, tv, us-world, j...  "
      ]
     },
     "execution_count": 3,
     "metadata": {},
     "output_type": "execute_result"
    }
   ],
   "source": [
    "df_merged = df_in.merge( df_keywords)\n",
    "df_merged.head()"
   ]
  },
  {
   "cell_type": "code",
   "execution_count": 4,
   "metadata": {},
   "outputs": [
    {
     "name": "stdout",
     "output_type": "stream",
     "text": [
      "2048.4142168009002\n",
      "7433.599397132549\n"
     ]
    }
   ],
   "source": [
    "total_squared_error = 0.0\n",
    "total_squared_error_no_clip = 0.0\n",
    "\n",
    "df_out = pd.DataFrame(columns=[\"Id\", \"kw_avg_avg\", \"kw_min_avg\", \"kw_max_avg\", \\\n",
    "                                   \"kw_avg_avg_no_clip\", \"kw_min_avg_no_clip\", \"kw_max_avg_no_clip\"])\n",
    "\n",
    "df_out.astype({\"Id\":int, \"kw_avg_avg\":int, \"kw_min_avg\":int, \"kw_max_avg\":int, \\\n",
    "                \"kw_avg_avg_no_clip\":int, \"kw_min_avg_no_clip\":int, \"kw_max_avg_no_clip\":int})\n",
    "\n",
    "for index, row in df_merged.iterrows():\n",
    "    shares = row.shares\n",
    "    shares_no_clip = row.shares_no_clip\n",
    "    keywords = row.keywords\n",
    "    \n",
    "    predicted_shares = keyPop.predict_shares(keywords)\n",
    "    \n",
    "    df_out.at[index, \"Id\"] = row.Id\n",
    "    df_out.at[index, \"kw_avg_avg\"] = predicted_shares.avg_avg\n",
    "    df_out.at[index, \"kw_min_avg\"] = predicted_shares.min_avg\n",
    "    df_out.at[index, \"kw_max_avg\"] = predicted_shares.max_avg\n",
    "    df_out.at[index, \"kw_avg_avg_no_clip\"] = predicted_shares.avg_avg_no_clip\n",
    "    df_out.at[index, \"kw_min_avg_no_clip\"] = predicted_shares.min_avg_no_clip\n",
    "    df_out.at[index, \"kw_max_avg_no_clip\"] = predicted_shares.max_avg_no_clip\n",
    "    \n",
    "    total_squared_error += abs( predicted_shares.avg_avg - shares ) ** 2\n",
    "    total_squared_error_no_clip += abs( predicted_shares.avg_avg_no_clip - shares_no_clip ) ** 2\n",
    "    \n",
    "mean_squared_error = total_squared_error / df_merged.shape[0]\n",
    "rmse = math.sqrt( mean_squared_error)\n",
    "\n",
    "mean_squared_error_no_clip = total_squared_error_no_clip / df_merged.shape[0]\n",
    "rmse_no_clip = math.sqrt( mean_squared_error_no_clip)\n",
    "\n",
    "df_out.to_excel('../data/output/2_keywords_popularity_prediction.xlsx', index=False)\n",
    "\n",
    "print( rmse)\n",
    "print( rmse_no_clip)"
   ]
  },
  {
   "cell_type": "markdown",
   "metadata": {},
   "source": [
    "### [Kannan]: calculating additional columns related to keywords"
   ]
  },
  {
   "cell_type": "code",
   "execution_count": 6,
   "metadata": {},
   "outputs": [
    {
     "data": {
      "text/html": [
       "<div>\n",
       "<style scoped>\n",
       "    .dataframe tbody tr th:only-of-type {\n",
       "        vertical-align: middle;\n",
       "    }\n",
       "\n",
       "    .dataframe tbody tr th {\n",
       "        vertical-align: top;\n",
       "    }\n",
       "\n",
       "    .dataframe thead th {\n",
       "        text-align: right;\n",
       "    }\n",
       "</style>\n",
       "<table border=\"1\" class=\"dataframe\">\n",
       "  <thead>\n",
       "    <tr style=\"text-align: right;\">\n",
       "      <th></th>\n",
       "      <th>keyword</th>\n",
       "      <th>min_shares</th>\n",
       "      <th>max_shares</th>\n",
       "      <th>avg_shares</th>\n",
       "    </tr>\n",
       "  </thead>\n",
       "  <tbody>\n",
       "    <tr>\n",
       "      <th>0</th>\n",
       "      <td>north-korea</td>\n",
       "      <td>582</td>\n",
       "      <td>9500</td>\n",
       "      <td>2171</td>\n",
       "    </tr>\n",
       "    <tr>\n",
       "      <th>1</th>\n",
       "      <td>world</td>\n",
       "      <td>28</td>\n",
       "      <td>9500</td>\n",
       "      <td>2224</td>\n",
       "    </tr>\n",
       "    <tr>\n",
       "      <th>2</th>\n",
       "      <td>apple</td>\n",
       "      <td>43</td>\n",
       "      <td>9500</td>\n",
       "      <td>2219</td>\n",
       "    </tr>\n",
       "    <tr>\n",
       "      <th>3</th>\n",
       "      <td>mobile-payments</td>\n",
       "      <td>613</td>\n",
       "      <td>9500</td>\n",
       "      <td>2119</td>\n",
       "    </tr>\n",
       "    <tr>\n",
       "      <th>4</th>\n",
       "      <td>mastercard</td>\n",
       "      <td>859</td>\n",
       "      <td>9500</td>\n",
       "      <td>2971</td>\n",
       "    </tr>\n",
       "  </tbody>\n",
       "</table>\n",
       "</div>"
      ],
      "text/plain": [
       "           keyword  min_shares  max_shares  avg_shares\n",
       "0      north-korea         582        9500        2171\n",
       "1            world          28        9500        2224\n",
       "2            apple          43        9500        2219\n",
       "3  mobile-payments         613        9500        2119\n",
       "4       mastercard         859        9500        2971"
      ]
     },
     "execution_count": 6,
     "metadata": {},
     "output_type": "execute_result"
    }
   ],
   "source": [
    "df_stats=pd.read_excel('../data/output/2_keywords_popularity.xlsx')\n",
    "df_stats.drop(['article_count'],axis=1,inplace=True)\n",
    "df_stats.head()"
   ]
  },
  {
   "cell_type": "code",
   "execution_count": 15,
   "metadata": {},
   "outputs": [
    {
     "data": {
      "text/plain": [
       "(1203, 4)"
      ]
     },
     "execution_count": 15,
     "metadata": {},
     "output_type": "execute_result"
    }
   ],
   "source": [
    "df_stats.shape"
   ]
  },
  {
   "cell_type": "code",
   "execution_count": 7,
   "metadata": {},
   "outputs": [
    {
     "data": {
      "text/html": [
       "<div>\n",
       "<style scoped>\n",
       "    .dataframe tbody tr th:only-of-type {\n",
       "        vertical-align: middle;\n",
       "    }\n",
       "\n",
       "    .dataframe tbody tr th {\n",
       "        vertical-align: top;\n",
       "    }\n",
       "\n",
       "    .dataframe thead th {\n",
       "        text-align: right;\n",
       "    }\n",
       "</style>\n",
       "<table border=\"1\" class=\"dataframe\">\n",
       "  <thead>\n",
       "    <tr style=\"text-align: right;\">\n",
       "      <th></th>\n",
       "      <th>Id</th>\n",
       "      <th>keywords</th>\n",
       "    </tr>\n",
       "  </thead>\n",
       "  <tbody>\n",
       "    <tr>\n",
       "      <th>0</th>\n",
       "      <td>1</td>\n",
       "      <td>north-korea, uncategorized, us-world, world, d...</td>\n",
       "    </tr>\n",
       "    <tr>\n",
       "      <th>1</th>\n",
       "      <td>2</td>\n",
       "      <td>apple, visa, mobile-payments, american-express...</td>\n",
       "    </tr>\n",
       "    <tr>\n",
       "      <th>2</th>\n",
       "      <td>3</td>\n",
       "      <td>australia, uncategorized, us-world, sports, ma...</td>\n",
       "    </tr>\n",
       "    <tr>\n",
       "      <th>3</th>\n",
       "      <td>4</td>\n",
       "      <td>australia, bmw, uncategorized, us-world, tony-...</td>\n",
       "    </tr>\n",
       "    <tr>\n",
       "      <th>4</th>\n",
       "      <td>5</td>\n",
       "      <td>q-a, australia, uncategorized, tv, us-world, j...</td>\n",
       "    </tr>\n",
       "  </tbody>\n",
       "</table>\n",
       "</div>"
      ],
      "text/plain": [
       "   Id                                           keywords\n",
       "0   1  north-korea, uncategorized, us-world, world, d...\n",
       "1   2  apple, visa, mobile-payments, american-express...\n",
       "2   3  australia, uncategorized, us-world, sports, ma...\n",
       "3   4  australia, bmw, uncategorized, us-world, tony-...\n",
       "4   5  q-a, australia, uncategorized, tv, us-world, j..."
      ]
     },
     "execution_count": 7,
     "metadata": {},
     "output_type": "execute_result"
    }
   ],
   "source": [
    "df_kw=pd.read_excel('../data/output/2_keywords_list.xlsx')\n",
    "df_kw.head()"
   ]
  },
  {
   "cell_type": "code",
   "execution_count": 5,
   "metadata": {},
   "outputs": [
    {
     "data": {
      "text/plain": [
       "'north-korea, uncategorized, us-world, world, detainees, matthew-miller, jeffrey-fowle'"
      ]
     },
     "execution_count": 5,
     "metadata": {},
     "output_type": "execute_result"
    }
   ],
   "source": [
    "df_kw.loc[0,'keywords']"
   ]
  },
  {
   "cell_type": "code",
   "execution_count": 14,
   "metadata": {},
   "outputs": [
    {
     "name": "stdout",
     "output_type": "stream",
     "text": [
      "north-korea        keyword  min_shares  max_shares  avg_shares\n",
      "0  north-korea         582        9500        2171\n",
      "uncategorized Empty DataFrame\n",
      "Columns: [keyword, min_shares, max_shares, avg_shares]\n",
      "Index: []\n",
      "us-world Empty DataFrame\n",
      "Columns: [keyword, min_shares, max_shares, avg_shares]\n",
      "Index: []\n",
      "world   keyword  min_shares  max_shares  avg_shares\n",
      "1   world          28        9500        2224\n",
      "detainees Empty DataFrame\n",
      "Columns: [keyword, min_shares, max_shares, avg_shares]\n",
      "Index: []\n",
      "matthew-miller Empty DataFrame\n",
      "Columns: [keyword, min_shares, max_shares, avg_shares]\n",
      "Index: []\n",
      "jeffrey-fowle Empty DataFrame\n",
      "Columns: [keyword, min_shares, max_shares, avg_shares]\n",
      "Index: []\n"
     ]
    }
   ],
   "source": [
    "kws=df_kw.loc[0,'keywords']\n",
    "list_kw=kws.split(',')\n",
    "for kw in list_kw:\n",
    "    kw=kw.strip()\n",
    "    stats=df_stats[df_stats.keyword==kw]\n",
    "    print(kw,stats)"
   ]
  }
 ],
 "metadata": {
  "kernelspec": {
   "display_name": "Python 3",
   "language": "python",
   "name": "python3"
  },
  "language_info": {
   "codemirror_mode": {
    "name": "ipython",
    "version": 3
   },
   "file_extension": ".py",
   "mimetype": "text/x-python",
   "name": "python",
   "nbconvert_exporter": "python",
   "pygments_lexer": "ipython3",
   "version": "3.7.1"
  }
 },
 "nbformat": 4,
 "nbformat_minor": 2
}
