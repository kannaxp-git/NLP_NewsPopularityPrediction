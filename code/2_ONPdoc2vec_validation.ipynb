{
 "cells": [
  {
   "cell_type": "markdown",
   "metadata": {},
   "source": [
    "### Validate ONPdoc2vec.ONPd2v class"
   ]
  },
  {
   "cell_type": "code",
   "execution_count": 1,
   "metadata": {},
   "outputs": [
    {
     "name": "stderr",
     "output_type": "stream",
     "text": [
      "C:\\ProgramData\\Anaconda3\\lib\\site-packages\\gensim\\utils.py:1197: UserWarning: detected Windows; aliasing chunkize to chunkize_serial\n",
      "  warnings.warn(\"detected Windows; aliasing chunkize to chunkize_serial\")\n"
     ]
    }
   ],
   "source": [
    "import numpy as np\n",
    "import pandas as pd\n",
    "import pickle\n",
    "\n",
    "from ONPdoc2vec import ONPd2v"
   ]
  },
  {
   "cell_type": "code",
   "execution_count": 2,
   "metadata": {},
   "outputs": [],
   "source": [
    "text_list = [['OnlineNewsPopularity_keywords.xlsx', 'keywords'],\n",
    "['SS_Extracted_content_NER_text.xlsx', 'NER_list'],\n",
    "['SS_Extracted_content_NER_text.xlsx', 'NER_most_common']\n",
    "]"
   ]
  },
  {
   "cell_type": "code",
   "execution_count": 3,
   "metadata": {},
   "outputs": [
    {
     "name": "stdout",
     "output_type": "stream",
     "text": [
      "Processing ../data/output/OnlineNewsPopularity_keywords.xlsx keywords\n",
      "Number of valid training row entries : 7795\n",
      "Doc2vec model creation completed\n",
      "PCA fitting completed with n_components = 10\n"
     ]
    },
    {
     "name": "stderr",
     "output_type": "stream",
     "text": [
      "C:\\ProgramData\\Anaconda3\\lib\\site-packages\\ipykernel_launcher.py:24: SettingWithCopyWarning: \n",
      "A value is trying to be set on a copy of a slice from a DataFrame.\n",
      "Try using .loc[row_indexer,col_indexer] = value instead\n",
      "\n",
      "See the caveats in the documentation: http://pandas.pydata.org/pandas-docs/stable/indexing.html#indexing-view-versus-copy\n",
      "C:\\ProgramData\\Anaconda3\\lib\\site-packages\\ipykernel_launcher.py:27: SettingWithCopyWarning: \n",
      "A value is trying to be set on a copy of a slice from a DataFrame.\n",
      "Try using .loc[row_indexer,col_indexer] = value instead\n",
      "\n",
      "See the caveats in the documentation: http://pandas.pydata.org/pandas-docs/stable/indexing.html#indexing-view-versus-copy\n"
     ]
    },
    {
     "name": "stdout",
     "output_type": "stream",
     "text": [
      "Processing ../data/output/SS_Extracted_content_NER_text.xlsx NER_list\n",
      "Number of valid training row entries : 7765\n",
      "Doc2vec model creation completed\n",
      "PCA fitting completed with n_components = 10\n"
     ]
    },
    {
     "name": "stderr",
     "output_type": "stream",
     "text": [
      "C:\\ProgramData\\Anaconda3\\lib\\site-packages\\ipykernel_launcher.py:24: SettingWithCopyWarning: \n",
      "A value is trying to be set on a copy of a slice from a DataFrame.\n",
      "Try using .loc[row_indexer,col_indexer] = value instead\n",
      "\n",
      "See the caveats in the documentation: http://pandas.pydata.org/pandas-docs/stable/indexing.html#indexing-view-versus-copy\n"
     ]
    },
    {
     "name": "stdout",
     "output_type": "stream",
     "text": [
      "Processing ../data/output/SS_Extracted_content_NER_text.xlsx NER_most_common\n",
      "Number of valid training row entries : 7765\n",
      "Doc2vec model creation completed\n",
      "PCA fitting completed with n_components = 10\n"
     ]
    },
    {
     "name": "stderr",
     "output_type": "stream",
     "text": [
      "C:\\ProgramData\\Anaconda3\\lib\\site-packages\\ipykernel_launcher.py:24: SettingWithCopyWarning: \n",
      "A value is trying to be set on a copy of a slice from a DataFrame.\n",
      "Try using .loc[row_indexer,col_indexer] = value instead\n",
      "\n",
      "See the caveats in the documentation: http://pandas.pydata.org/pandas-docs/stable/indexing.html#indexing-view-versus-copy\n"
     ]
    }
   ],
   "source": [
    "size = 100\n",
    "pca_count = 10\n",
    "\n",
    "for entry in text_list:\n",
    "    filename = '../data/output/' + entry[0]\n",
    "    column = entry[1]\n",
    "    \n",
    "    print( \"Processing \" + filename + \" \" + column)\n",
    "    df = pd.read_excel(filename)\n",
    "    \n",
    "    d2v_model = ONPd2v( df[column].values, size=size, pca_count=pca_count)\n",
    "    \n",
    "    # Save the model\n",
    "    d2v_model.save_model( '../data/output/d2v_' + column + '.model')\n",
    "    \n",
    "    all_columns_list = [ column + \"_\" + str(i) for i in range(size)]\n",
    "    pca_columns_list = [ column + \"_pca_\" + str(i) for i in range(pca_count)]\n",
    "    \n",
    "    #all_columns = pd.DataFrame( df[column].apply( d2v_model.infer_vector).tolist(), columns=all_columns_list)\n",
    "    #pca_columns = pd.DataFrame( df[column].apply( d2v_model.infer_vector_pca).tolist(), columns=pca_columns_list)\n",
    "    \n",
    "    df_all = df[[\"Id\"]]\n",
    "    for pca_column in pca_columns_list:\n",
    "        df_all[ pca_column] = 0.0\n",
    "\n",
    "    for all_column in all_columns_list:\n",
    "        df_all[ all_column] = 0.0\n",
    "    \n",
    "    for index, row in df_all.iterrows():\n",
    "        pca_values = d2v_model.infer_vector_pca( df.at[ index, column])\n",
    "        for i in range(pca_count):\n",
    "            pca_column = column + \"_pca_\" + str(i)\n",
    "            df_all.at[ index, pca_column] = pca_values[i]\n",
    "\n",
    "        all_values = d2v_model.infer_vector( df.at[ index, column])\n",
    "        for i in range(size):\n",
    "            all_column = column + \"_\" + str(i)\n",
    "            df_all.at[ index, all_column] = all_values[i]\n",
    "    \n",
    "    df_all.to_excel('../data/output/2_d2v_' + column + '.xlsx', index=False)"
   ]
  },
  {
   "cell_type": "code",
   "execution_count": null,
   "metadata": {},
   "outputs": [],
   "source": []
  }
 ],
 "metadata": {
  "kernelspec": {
   "display_name": "Python 3",
   "language": "python",
   "name": "python3"
  },
  "language_info": {
   "codemirror_mode": {
    "name": "ipython",
    "version": 3
   },
   "file_extension": ".py",
   "mimetype": "text/x-python",
   "name": "python",
   "nbconvert_exporter": "python",
   "pygments_lexer": "ipython3",
   "version": "3.7.1"
  }
 },
 "nbformat": 4,
 "nbformat_minor": 2
}
