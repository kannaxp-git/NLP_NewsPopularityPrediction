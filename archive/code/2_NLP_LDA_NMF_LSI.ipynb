{
 "cells": [
  {
   "cell_type": "markdown",
   "metadata": {},
   "source": [
    "Kannan: performing decomposition and representing textual features (Title & Content) in n-components using LDA, NMF and LSI."
   ]
  },
  {
   "cell_type": "code",
   "execution_count": 1,
   "metadata": {
    "scrolled": true
   },
   "outputs": [],
   "source": [
    "#Author: kannan / extracting LDA, NMF & LSI features\n",
    "import pandas as pd\n",
    "from sklearn.decomposition import NMF, LatentDirichletAllocation, TruncatedSVD\n",
    "from sklearn.feature_extraction.text import CountVectorizer\n",
    "\n",
    "from datetime import datetime"
   ]
  },
  {
   "cell_type": "markdown",
   "metadata": {},
   "source": [
    "#### Reading from extracted content file"
   ]
  },
  {
   "cell_type": "code",
   "execution_count": 2,
   "metadata": {},
   "outputs": [
    {
     "data": {
      "text/html": [
       "<div>\n",
       "<style scoped>\n",
       "    .dataframe tbody tr th:only-of-type {\n",
       "        vertical-align: middle;\n",
       "    }\n",
       "\n",
       "    .dataframe tbody tr th {\n",
       "        vertical-align: top;\n",
       "    }\n",
       "\n",
       "    .dataframe thead th {\n",
       "        text-align: right;\n",
       "    }\n",
       "</style>\n",
       "<table border=\"1\" class=\"dataframe\">\n",
       "  <thead>\n",
       "    <tr style=\"text-align: right;\">\n",
       "      <th></th>\n",
       "      <th>Id</th>\n",
       "      <th>url</th>\n",
       "      <th>title</th>\n",
       "      <th>html</th>\n",
       "      <th>content</th>\n",
       "    </tr>\n",
       "  </thead>\n",
       "  <tbody>\n",
       "    <tr>\n",
       "      <th>0</th>\n",
       "      <td>1</td>\n",
       "      <td>http://mashable.com/2014/09/01/americans-held-...</td>\n",
       "      <td>Americans Held in North Korea Ask U.S. for Ass...</td>\n",
       "      <td>&lt;!DOCTYPE html&gt;\\n&lt;html data-env='production' l...</td>\n",
       "      <td>PYONGYANG, North Korea — North Korea gave fore...</td>\n",
       "    </tr>\n",
       "    <tr>\n",
       "      <th>1</th>\n",
       "      <td>2</td>\n",
       "      <td>http://mashable.com/2014/09/01/apple-visa-mast...</td>\n",
       "      <td>Apple Partners With Visa, MasterCard, AmEx for...</td>\n",
       "      <td>&lt;!DOCTYPE html&gt;\\n&lt;html data-env='production' l...</td>\n",
       "      <td>According to new reports from Bloomberg and ot...</td>\n",
       "    </tr>\n",
       "    <tr>\n",
       "      <th>2</th>\n",
       "      <td>3</td>\n",
       "      <td>http://mashable.com/2014/09/01/aussie-football...</td>\n",
       "      <td>Aussie Football Players Dress Up as Rolf Harri...</td>\n",
       "      <td>&lt;!DOCTYPE html&gt;\\n&lt;html data-env='production' l...</td>\n",
       "      <td>SYDNEY — Two Australian football players are a...</td>\n",
       "    </tr>\n",
       "    <tr>\n",
       "      <th>3</th>\n",
       "      <td>4</td>\n",
       "      <td>http://mashable.com/2014/09/01/australia-gover...</td>\n",
       "      <td>Australia Government Buys Bombproof BMW Fleet ...</td>\n",
       "      <td>&lt;!DOCTYPE html&gt;\\n&lt;html data-env='production' l...</td>\n",
       "      <td>SYDNEY — The Australia Prime Minister has orde...</td>\n",
       "    </tr>\n",
       "    <tr>\n",
       "      <th>4</th>\n",
       "      <td>5</td>\n",
       "      <td>http://mashable.com/2014/09/01/australia-jane-...</td>\n",
       "      <td>Author Compares Women in Traditional Marriages...</td>\n",
       "      <td>&lt;!DOCTYPE html&gt;\\n&lt;html data-env='production' l...</td>\n",
       "      <td>SYDNEY — On Australian panel show Q&amp;A, author ...</td>\n",
       "    </tr>\n",
       "  </tbody>\n",
       "</table>\n",
       "</div>"
      ],
      "text/plain": [
       "   Id                                                url  \\\n",
       "0   1  http://mashable.com/2014/09/01/americans-held-...   \n",
       "1   2  http://mashable.com/2014/09/01/apple-visa-mast...   \n",
       "2   3  http://mashable.com/2014/09/01/aussie-football...   \n",
       "3   4  http://mashable.com/2014/09/01/australia-gover...   \n",
       "4   5  http://mashable.com/2014/09/01/australia-jane-...   \n",
       "\n",
       "                                               title  \\\n",
       "0  Americans Held in North Korea Ask U.S. for Ass...   \n",
       "1  Apple Partners With Visa, MasterCard, AmEx for...   \n",
       "2  Aussie Football Players Dress Up as Rolf Harri...   \n",
       "3  Australia Government Buys Bombproof BMW Fleet ...   \n",
       "4  Author Compares Women in Traditional Marriages...   \n",
       "\n",
       "                                                html  \\\n",
       "0  <!DOCTYPE html>\\n<html data-env='production' l...   \n",
       "1  <!DOCTYPE html>\\n<html data-env='production' l...   \n",
       "2  <!DOCTYPE html>\\n<html data-env='production' l...   \n",
       "3  <!DOCTYPE html>\\n<html data-env='production' l...   \n",
       "4  <!DOCTYPE html>\\n<html data-env='production' l...   \n",
       "\n",
       "                                             content  \n",
       "0  PYONGYANG, North Korea — North Korea gave fore...  \n",
       "1  According to new reports from Bloomberg and ot...  \n",
       "2  SYDNEY — Two Australian football players are a...  \n",
       "3  SYDNEY — The Australia Prime Minister has orde...  \n",
       "4  SYDNEY — On Australian panel show Q&A, author ...  "
      ]
     },
     "execution_count": 2,
     "metadata": {},
     "output_type": "execute_result"
    }
   ],
   "source": [
    "in_filepath='../data/output/SS_Extracted_content.xlsx'\n",
    "in_filepath_kw='../data/output/2_keywords_list.xlsx'\n",
    "out_filepath='../data/output/2_NLP_LDA_NMF_LSI.xlsx'\n",
    "\n",
    "df=pd.read_excel(in_filepath)\n",
    "df_kw=pd.read_excel(in_filepath_kw)\n",
    "\n",
    "df.head()"
   ]
  },
  {
   "cell_type": "code",
   "execution_count": 3,
   "metadata": {},
   "outputs": [
    {
     "data": {
      "text/html": [
       "<div>\n",
       "<style scoped>\n",
       "    .dataframe tbody tr th:only-of-type {\n",
       "        vertical-align: middle;\n",
       "    }\n",
       "\n",
       "    .dataframe tbody tr th {\n",
       "        vertical-align: top;\n",
       "    }\n",
       "\n",
       "    .dataframe thead th {\n",
       "        text-align: right;\n",
       "    }\n",
       "</style>\n",
       "<table border=\"1\" class=\"dataframe\">\n",
       "  <thead>\n",
       "    <tr style=\"text-align: right;\">\n",
       "      <th></th>\n",
       "      <th>Id</th>\n",
       "      <th>keywords</th>\n",
       "    </tr>\n",
       "  </thead>\n",
       "  <tbody>\n",
       "    <tr>\n",
       "      <th>0</th>\n",
       "      <td>1</td>\n",
       "      <td>north-korea, uncategorized, us-world, world, d...</td>\n",
       "    </tr>\n",
       "    <tr>\n",
       "      <th>1</th>\n",
       "      <td>2</td>\n",
       "      <td>apple, visa, mobile-payments, american-express...</td>\n",
       "    </tr>\n",
       "    <tr>\n",
       "      <th>2</th>\n",
       "      <td>3</td>\n",
       "      <td>australia, uncategorized, us-world, sports, ma...</td>\n",
       "    </tr>\n",
       "    <tr>\n",
       "      <th>3</th>\n",
       "      <td>4</td>\n",
       "      <td>australia, bmw, uncategorized, us-world, tony-...</td>\n",
       "    </tr>\n",
       "    <tr>\n",
       "      <th>4</th>\n",
       "      <td>5</td>\n",
       "      <td>q-a, australia, uncategorized, tv, us-world, j...</td>\n",
       "    </tr>\n",
       "  </tbody>\n",
       "</table>\n",
       "</div>"
      ],
      "text/plain": [
       "   Id                                           keywords\n",
       "0   1  north-korea, uncategorized, us-world, world, d...\n",
       "1   2  apple, visa, mobile-payments, american-express...\n",
       "2   3  australia, uncategorized, us-world, sports, ma...\n",
       "3   4  australia, bmw, uncategorized, us-world, tony-...\n",
       "4   5  q-a, australia, uncategorized, tv, us-world, j..."
      ]
     },
     "execution_count": 3,
     "metadata": {},
     "output_type": "execute_result"
    }
   ],
   "source": [
    "df_kw.head()"
   ]
  },
  {
   "cell_type": "code",
   "execution_count": 4,
   "metadata": {},
   "outputs": [],
   "source": [
    "df=pd.merge(df,df_kw,on='Id',how='left')"
   ]
  },
  {
   "cell_type": "code",
   "execution_count": 5,
   "metadata": {},
   "outputs": [
    {
     "data": {
      "text/html": [
       "<div>\n",
       "<style scoped>\n",
       "    .dataframe tbody tr th:only-of-type {\n",
       "        vertical-align: middle;\n",
       "    }\n",
       "\n",
       "    .dataframe tbody tr th {\n",
       "        vertical-align: top;\n",
       "    }\n",
       "\n",
       "    .dataframe thead th {\n",
       "        text-align: right;\n",
       "    }\n",
       "</style>\n",
       "<table border=\"1\" class=\"dataframe\">\n",
       "  <thead>\n",
       "    <tr style=\"text-align: right;\">\n",
       "      <th></th>\n",
       "      <th>Id</th>\n",
       "      <th>url</th>\n",
       "      <th>title</th>\n",
       "      <th>html</th>\n",
       "      <th>content</th>\n",
       "      <th>keywords</th>\n",
       "    </tr>\n",
       "  </thead>\n",
       "  <tbody>\n",
       "    <tr>\n",
       "      <th>0</th>\n",
       "      <td>1</td>\n",
       "      <td>http://mashable.com/2014/09/01/americans-held-...</td>\n",
       "      <td>Americans Held in North Korea Ask U.S. for Ass...</td>\n",
       "      <td>&lt;!DOCTYPE html&gt;\\n&lt;html data-env='production' l...</td>\n",
       "      <td>PYONGYANG, North Korea — North Korea gave fore...</td>\n",
       "      <td>north-korea, uncategorized, us-world, world, d...</td>\n",
       "    </tr>\n",
       "    <tr>\n",
       "      <th>1</th>\n",
       "      <td>2</td>\n",
       "      <td>http://mashable.com/2014/09/01/apple-visa-mast...</td>\n",
       "      <td>Apple Partners With Visa, MasterCard, AmEx for...</td>\n",
       "      <td>&lt;!DOCTYPE html&gt;\\n&lt;html data-env='production' l...</td>\n",
       "      <td>According to new reports from Bloomberg and ot...</td>\n",
       "      <td>apple, visa, mobile-payments, american-express...</td>\n",
       "    </tr>\n",
       "    <tr>\n",
       "      <th>2</th>\n",
       "      <td>3</td>\n",
       "      <td>http://mashable.com/2014/09/01/aussie-football...</td>\n",
       "      <td>Aussie Football Players Dress Up as Rolf Harri...</td>\n",
       "      <td>&lt;!DOCTYPE html&gt;\\n&lt;html data-env='production' l...</td>\n",
       "      <td>SYDNEY — Two Australian football players are a...</td>\n",
       "      <td>australia, uncategorized, us-world, sports, ma...</td>\n",
       "    </tr>\n",
       "    <tr>\n",
       "      <th>3</th>\n",
       "      <td>4</td>\n",
       "      <td>http://mashable.com/2014/09/01/australia-gover...</td>\n",
       "      <td>Australia Government Buys Bombproof BMW Fleet ...</td>\n",
       "      <td>&lt;!DOCTYPE html&gt;\\n&lt;html data-env='production' l...</td>\n",
       "      <td>SYDNEY — The Australia Prime Minister has orde...</td>\n",
       "      <td>australia, bmw, uncategorized, us-world, tony-...</td>\n",
       "    </tr>\n",
       "    <tr>\n",
       "      <th>4</th>\n",
       "      <td>5</td>\n",
       "      <td>http://mashable.com/2014/09/01/australia-jane-...</td>\n",
       "      <td>Author Compares Women in Traditional Marriages...</td>\n",
       "      <td>&lt;!DOCTYPE html&gt;\\n&lt;html data-env='production' l...</td>\n",
       "      <td>SYDNEY — On Australian panel show Q&amp;A, author ...</td>\n",
       "      <td>q-a, australia, uncategorized, tv, us-world, j...</td>\n",
       "    </tr>\n",
       "  </tbody>\n",
       "</table>\n",
       "</div>"
      ],
      "text/plain": [
       "   Id                                                url  \\\n",
       "0   1  http://mashable.com/2014/09/01/americans-held-...   \n",
       "1   2  http://mashable.com/2014/09/01/apple-visa-mast...   \n",
       "2   3  http://mashable.com/2014/09/01/aussie-football...   \n",
       "3   4  http://mashable.com/2014/09/01/australia-gover...   \n",
       "4   5  http://mashable.com/2014/09/01/australia-jane-...   \n",
       "\n",
       "                                               title  \\\n",
       "0  Americans Held in North Korea Ask U.S. for Ass...   \n",
       "1  Apple Partners With Visa, MasterCard, AmEx for...   \n",
       "2  Aussie Football Players Dress Up as Rolf Harri...   \n",
       "3  Australia Government Buys Bombproof BMW Fleet ...   \n",
       "4  Author Compares Women in Traditional Marriages...   \n",
       "\n",
       "                                                html  \\\n",
       "0  <!DOCTYPE html>\\n<html data-env='production' l...   \n",
       "1  <!DOCTYPE html>\\n<html data-env='production' l...   \n",
       "2  <!DOCTYPE html>\\n<html data-env='production' l...   \n",
       "3  <!DOCTYPE html>\\n<html data-env='production' l...   \n",
       "4  <!DOCTYPE html>\\n<html data-env='production' l...   \n",
       "\n",
       "                                             content  \\\n",
       "0  PYONGYANG, North Korea — North Korea gave fore...   \n",
       "1  According to new reports from Bloomberg and ot...   \n",
       "2  SYDNEY — Two Australian football players are a...   \n",
       "3  SYDNEY — The Australia Prime Minister has orde...   \n",
       "4  SYDNEY — On Australian panel show Q&A, author ...   \n",
       "\n",
       "                                            keywords  \n",
       "0  north-korea, uncategorized, us-world, world, d...  \n",
       "1  apple, visa, mobile-payments, american-express...  \n",
       "2  australia, uncategorized, us-world, sports, ma...  \n",
       "3  australia, bmw, uncategorized, us-world, tony-...  \n",
       "4  q-a, australia, uncategorized, tv, us-world, j...  "
      ]
     },
     "execution_count": 5,
     "metadata": {},
     "output_type": "execute_result"
    }
   ],
   "source": [
    "df.head()"
   ]
  },
  {
   "cell_type": "code",
   "execution_count": 6,
   "metadata": {},
   "outputs": [
    {
     "data": {
      "text/plain": [
       "(7795, 6)"
      ]
     },
     "execution_count": 6,
     "metadata": {},
     "output_type": "execute_result"
    }
   ],
   "source": [
    "df.shape"
   ]
  },
  {
   "cell_type": "markdown",
   "metadata": {},
   "source": [
    "#### feature extraction - decomposition"
   ]
  },
  {
   "cell_type": "code",
   "execution_count": 7,
   "metadata": {},
   "outputs": [],
   "source": [
    "NUM_TOPICS=10"
   ]
  },
  {
   "cell_type": "code",
   "execution_count": 8,
   "metadata": {},
   "outputs": [
    {
     "data": {
      "text/plain": [
       "'Americans Held in North Korea Ask U.S. for Assistance'"
      ]
     },
     "execution_count": 8,
     "metadata": {},
     "output_type": "execute_result"
    }
   ],
   "source": [
    "df.iloc[0]['title']\n",
    "#df.iloc[0]['content']"
   ]
  },
  {
   "cell_type": "code",
   "execution_count": 9,
   "metadata": {},
   "outputs": [
    {
     "data": {
      "text/plain": [
       "['Americans Held in North Korea Ask U.S. for Assistance',\n",
       " 'Apple Partners With Visa, MasterCard, AmEx for iPhone 6 Payments: Reports',\n",
       " 'Aussie Football Players Dress Up as Rolf Harris and Victim',\n",
       " 'Australia Government Buys Bombproof BMW Fleet for G20 Summit',\n",
       " 'Author Compares Women in Traditional Marriages to Prostitutes on TV Panel Show']"
      ]
     },
     "execution_count": 9,
     "metadata": {},
     "output_type": "execute_result"
    }
   ],
   "source": [
    "titles=df['title'].values.astype('U')\n",
    "titles=titles.tolist()\n",
    "titles=list(filter(None,titles))\n",
    "titles[0:5]"
   ]
  },
  {
   "cell_type": "code",
   "execution_count": 10,
   "metadata": {},
   "outputs": [],
   "source": [
    "content=df['content'].values.astype('U')\n",
    "content=content.tolist()\n",
    "content=list(filter(None,content))\n",
    "#content[0:2]"
   ]
  },
  {
   "cell_type": "code",
   "execution_count": 11,
   "metadata": {},
   "outputs": [
    {
     "data": {
      "text/plain": [
       "['north-korea, uncategorized, us-world, world, detainees, matthew-miller, jeffrey-fowle',\n",
       " 'apple, visa, mobile-payments, american-express, mastercard, uncategorized, business, apps-software, mobile',\n",
       " 'australia, uncategorized, us-world, sports, mad-monday, afl',\n",
       " 'australia, bmw, uncategorized, us-world, tony-abbott',\n",
       " 'q-a, australia, uncategorized, tv, us-world, jane-caro']"
      ]
     },
     "execution_count": 11,
     "metadata": {},
     "output_type": "execute_result"
    }
   ],
   "source": [
    "keywords=df['keywords'].values.astype('U')\n",
    "keywords=keywords.tolist()\n",
    "keywords=list(filter(None,keywords))\n",
    "keywords[0:5]"
   ]
  },
  {
   "cell_type": "code",
   "execution_count": 12,
   "metadata": {},
   "outputs": [
    {
     "name": "stdout",
     "output_type": "stream",
     "text": [
      "Wall time: 2.81 s\n"
     ]
    }
   ],
   "source": [
    "%%time\n",
    "#count vectorizing the data\n",
    "#reference: https://scikit-learn.org/stable/modules/generated/sklearn.feature_extraction.text.CountVectorizer.html\n",
    "vectorizer = CountVectorizer(analyzer='word',min_df=5, max_df=0.95, \n",
    "                             stop_words='english', lowercase=True, encoding='utf-8',\n",
    "                             token_pattern='[a-zA-Z\\-][a-zA-Z\\-]{2,}')\n",
    "\n",
    "title_vectorized = vectorizer.fit_transform(titles)\n",
    "content_vectorized = vectorizer.fit_transform(content)\n",
    "keyword_vectorized = vectorizer.fit_transform(keywords)"
   ]
  },
  {
   "cell_type": "code",
   "execution_count": 13,
   "metadata": {},
   "outputs": [
    {
     "name": "stdout",
     "output_type": "stream",
     "text": [
      "(7795, 10)\n",
      "Wall time: 1min 7s\n"
     ]
    }
   ],
   "source": [
    "%%time\n",
    "# Build a Latent Dirichlet Allocation Model\n",
    "lda_model = LatentDirichletAllocation(n_components=NUM_TOPICS, max_iter=10, learning_method='online')\n",
    "lda_title = lda_model.fit_transform(title_vectorized)\n",
    "lda_content = lda_model.fit_transform(content_vectorized)\n",
    "lda_keyword = lda_model.fit_transform(keyword_vectorized)\n",
    "print(lda_title.shape)  # (NO_DOCUMENTS, NO_TOPICS)"
   ]
  },
  {
   "cell_type": "code",
   "execution_count": 14,
   "metadata": {},
   "outputs": [
    {
     "name": "stdout",
     "output_type": "stream",
     "text": [
      "(7795, 10)\n",
      "Wall time: 3.87 s\n"
     ]
    }
   ],
   "source": [
    "%%time\n",
    "# Build a Non-Negative Matrix Factorization Model\n",
    "nmf_model = NMF(n_components=NUM_TOPICS)\n",
    "nmf_title = nmf_model.fit_transform(title_vectorized)\n",
    "nmf_content = nmf_model.fit_transform(content_vectorized)\n",
    "nmf_keyword = nmf_model.fit_transform(keyword_vectorized)\n",
    "print(nmf_title.shape)  # (NO_DOCUMENTS, NO_TOPICS)"
   ]
  },
  {
   "cell_type": "code",
   "execution_count": 15,
   "metadata": {},
   "outputs": [
    {
     "name": "stdout",
     "output_type": "stream",
     "text": [
      "(7795, 10)\n",
      "Wall time: 661 ms\n"
     ]
    }
   ],
   "source": [
    "%%time\n",
    "# Build a Latent Semantic Indexing Model\n",
    "lsi_model = TruncatedSVD(n_components=NUM_TOPICS)\n",
    "lsi_title = lsi_model.fit_transform(title_vectorized)\n",
    "lsi_content = lsi_model.fit_transform(content_vectorized)\n",
    "lsi_keyword = lsi_model.fit_transform(keyword_vectorized)\n",
    "print(lsi_title.shape)  # (NO_DOCUMENTS, NO_TOPICS)"
   ]
  },
  {
   "cell_type": "code",
   "execution_count": 16,
   "metadata": {},
   "outputs": [],
   "source": [
    "models=[]\n",
    "models.append(('LDA_Title',lda_title))\n",
    "models.append(('NMF_Title',nmf_title))\n",
    "models.append(('LSI_Title',lsi_title))\n",
    "models.append(('LDA_Content',lda_content))\n",
    "models.append(('NMF_Content',nmf_content))\n",
    "models.append(('LSI_Content',lsi_content))\n",
    "models.append(('LDA_Keyword',lda_keyword))\n",
    "models.append(('NMF_Keyword',nmf_keyword))\n",
    "models.append(('LSI_Keyword',lsi_keyword))"
   ]
  },
  {
   "cell_type": "code",
   "execution_count": 17,
   "metadata": {},
   "outputs": [],
   "source": [
    "for name, model in models:\n",
    "    cols=[]\n",
    "    for i in range(NUM_TOPICS):\n",
    "        cols.append(name[:5]+str(i))\n",
    "    tmp=pd.DataFrame(model,columns=cols)\n",
    "    tmp['Id']=tmp.index\n",
    "    tmp['Id']=tmp.Id+1\n",
    "    df=pd.merge(df,tmp,on='Id',how='left')"
   ]
  },
  {
   "cell_type": "code",
   "execution_count": 18,
   "metadata": {},
   "outputs": [
    {
     "data": {
      "text/html": [
       "<div>\n",
       "<style scoped>\n",
       "    .dataframe tbody tr th:only-of-type {\n",
       "        vertical-align: middle;\n",
       "    }\n",
       "\n",
       "    .dataframe tbody tr th {\n",
       "        vertical-align: top;\n",
       "    }\n",
       "\n",
       "    .dataframe thead th {\n",
       "        text-align: right;\n",
       "    }\n",
       "</style>\n",
       "<table border=\"1\" class=\"dataframe\">\n",
       "  <thead>\n",
       "    <tr style=\"text-align: right;\">\n",
       "      <th></th>\n",
       "      <th>Id</th>\n",
       "      <th>url</th>\n",
       "      <th>title</th>\n",
       "      <th>html</th>\n",
       "      <th>content</th>\n",
       "      <th>keywords</th>\n",
       "      <th>LDA_T0</th>\n",
       "      <th>LDA_T1</th>\n",
       "      <th>LDA_T2</th>\n",
       "      <th>LDA_T3</th>\n",
       "      <th>...</th>\n",
       "      <th>LSI_K0</th>\n",
       "      <th>LSI_K1</th>\n",
       "      <th>LSI_K2</th>\n",
       "      <th>LSI_K3</th>\n",
       "      <th>LSI_K4</th>\n",
       "      <th>LSI_K5</th>\n",
       "      <th>LSI_K6</th>\n",
       "      <th>LSI_K7</th>\n",
       "      <th>LSI_K8</th>\n",
       "      <th>LSI_K9</th>\n",
       "    </tr>\n",
       "  </thead>\n",
       "  <tbody>\n",
       "    <tr>\n",
       "      <th>0</th>\n",
       "      <td>1</td>\n",
       "      <td>http://mashable.com/2014/09/01/americans-held-...</td>\n",
       "      <td>Americans Held in North Korea Ask U.S. for Ass...</td>\n",
       "      <td>&lt;!DOCTYPE html&gt;\\n&lt;html data-env='production' l...</td>\n",
       "      <td>PYONGYANG, North Korea — North Korea gave fore...</td>\n",
       "      <td>north-korea, uncategorized, us-world, world, d...</td>\n",
       "      <td>0.016667</td>\n",
       "      <td>0.850000</td>\n",
       "      <td>0.016667</td>\n",
       "      <td>0.016667</td>\n",
       "      <td>...</td>\n",
       "      <td>1.337092</td>\n",
       "      <td>-0.312890</td>\n",
       "      <td>-0.075334</td>\n",
       "      <td>0.014340</td>\n",
       "      <td>-0.026191</td>\n",
       "      <td>-0.018709</td>\n",
       "      <td>0.148285</td>\n",
       "      <td>-0.247328</td>\n",
       "      <td>0.032311</td>\n",
       "      <td>0.013983</td>\n",
       "    </tr>\n",
       "    <tr>\n",
       "      <th>1</th>\n",
       "      <td>2</td>\n",
       "      <td>http://mashable.com/2014/09/01/apple-visa-mast...</td>\n",
       "      <td>Apple Partners With Visa, MasterCard, AmEx for...</td>\n",
       "      <td>&lt;!DOCTYPE html&gt;\\n&lt;html data-env='production' l...</td>\n",
       "      <td>According to new reports from Bloomberg and ot...</td>\n",
       "      <td>apple, visa, mobile-payments, american-express...</td>\n",
       "      <td>0.016667</td>\n",
       "      <td>0.016667</td>\n",
       "      <td>0.016667</td>\n",
       "      <td>0.850000</td>\n",
       "      <td>...</td>\n",
       "      <td>0.108039</td>\n",
       "      <td>0.157399</td>\n",
       "      <td>1.083487</td>\n",
       "      <td>-0.085303</td>\n",
       "      <td>0.859357</td>\n",
       "      <td>-0.107519</td>\n",
       "      <td>-0.243842</td>\n",
       "      <td>-0.126799</td>\n",
       "      <td>-0.184600</td>\n",
       "      <td>-0.059431</td>\n",
       "    </tr>\n",
       "    <tr>\n",
       "      <th>2</th>\n",
       "      <td>3</td>\n",
       "      <td>http://mashable.com/2014/09/01/aussie-football...</td>\n",
       "      <td>Aussie Football Players Dress Up as Rolf Harri...</td>\n",
       "      <td>&lt;!DOCTYPE html&gt;\\n&lt;html data-env='production' l...</td>\n",
       "      <td>SYDNEY — Two Australian football players are a...</td>\n",
       "      <td>australia, uncategorized, us-world, sports, ma...</td>\n",
       "      <td>0.016667</td>\n",
       "      <td>0.016667</td>\n",
       "      <td>0.016667</td>\n",
       "      <td>0.016667</td>\n",
       "      <td>...</td>\n",
       "      <td>0.866041</td>\n",
       "      <td>-0.128184</td>\n",
       "      <td>-0.062708</td>\n",
       "      <td>0.121394</td>\n",
       "      <td>-0.041246</td>\n",
       "      <td>-0.083225</td>\n",
       "      <td>-0.559973</td>\n",
       "      <td>0.589085</td>\n",
       "      <td>-0.031191</td>\n",
       "      <td>-0.294628</td>\n",
       "    </tr>\n",
       "    <tr>\n",
       "      <th>3</th>\n",
       "      <td>4</td>\n",
       "      <td>http://mashable.com/2014/09/01/australia-gover...</td>\n",
       "      <td>Australia Government Buys Bombproof BMW Fleet ...</td>\n",
       "      <td>&lt;!DOCTYPE html&gt;\\n&lt;html data-env='production' l...</td>\n",
       "      <td>SYDNEY — The Australia Prime Minister has orde...</td>\n",
       "      <td>australia, bmw, uncategorized, us-world, tony-...</td>\n",
       "      <td>0.020000</td>\n",
       "      <td>0.620000</td>\n",
       "      <td>0.020000</td>\n",
       "      <td>0.020000</td>\n",
       "      <td>...</td>\n",
       "      <td>0.845023</td>\n",
       "      <td>-0.205620</td>\n",
       "      <td>-0.058375</td>\n",
       "      <td>-0.006827</td>\n",
       "      <td>-0.049797</td>\n",
       "      <td>-0.086334</td>\n",
       "      <td>-0.558895</td>\n",
       "      <td>0.561352</td>\n",
       "      <td>-0.051666</td>\n",
       "      <td>0.001980</td>\n",
       "    </tr>\n",
       "    <tr>\n",
       "      <th>4</th>\n",
       "      <td>5</td>\n",
       "      <td>http://mashable.com/2014/09/01/australia-jane-...</td>\n",
       "      <td>Author Compares Women in Traditional Marriages...</td>\n",
       "      <td>&lt;!DOCTYPE html&gt;\\n&lt;html data-env='production' l...</td>\n",
       "      <td>SYDNEY — On Australian panel show Q&amp;A, author ...</td>\n",
       "      <td>q-a, australia, uncategorized, tv, us-world, j...</td>\n",
       "      <td>0.033333</td>\n",
       "      <td>0.033333</td>\n",
       "      <td>0.700000</td>\n",
       "      <td>0.033333</td>\n",
       "      <td>...</td>\n",
       "      <td>0.841904</td>\n",
       "      <td>-0.205212</td>\n",
       "      <td>-0.057965</td>\n",
       "      <td>-0.006457</td>\n",
       "      <td>-0.049351</td>\n",
       "      <td>-0.085909</td>\n",
       "      <td>-0.551905</td>\n",
       "      <td>0.554571</td>\n",
       "      <td>-0.051252</td>\n",
       "      <td>0.002833</td>\n",
       "    </tr>\n",
       "  </tbody>\n",
       "</table>\n",
       "<p>5 rows × 96 columns</p>\n",
       "</div>"
      ],
      "text/plain": [
       "   Id                                                url  \\\n",
       "0   1  http://mashable.com/2014/09/01/americans-held-...   \n",
       "1   2  http://mashable.com/2014/09/01/apple-visa-mast...   \n",
       "2   3  http://mashable.com/2014/09/01/aussie-football...   \n",
       "3   4  http://mashable.com/2014/09/01/australia-gover...   \n",
       "4   5  http://mashable.com/2014/09/01/australia-jane-...   \n",
       "\n",
       "                                               title  \\\n",
       "0  Americans Held in North Korea Ask U.S. for Ass...   \n",
       "1  Apple Partners With Visa, MasterCard, AmEx for...   \n",
       "2  Aussie Football Players Dress Up as Rolf Harri...   \n",
       "3  Australia Government Buys Bombproof BMW Fleet ...   \n",
       "4  Author Compares Women in Traditional Marriages...   \n",
       "\n",
       "                                                html  \\\n",
       "0  <!DOCTYPE html>\\n<html data-env='production' l...   \n",
       "1  <!DOCTYPE html>\\n<html data-env='production' l...   \n",
       "2  <!DOCTYPE html>\\n<html data-env='production' l...   \n",
       "3  <!DOCTYPE html>\\n<html data-env='production' l...   \n",
       "4  <!DOCTYPE html>\\n<html data-env='production' l...   \n",
       "\n",
       "                                             content  \\\n",
       "0  PYONGYANG, North Korea — North Korea gave fore...   \n",
       "1  According to new reports from Bloomberg and ot...   \n",
       "2  SYDNEY — Two Australian football players are a...   \n",
       "3  SYDNEY — The Australia Prime Minister has orde...   \n",
       "4  SYDNEY — On Australian panel show Q&A, author ...   \n",
       "\n",
       "                                            keywords    LDA_T0    LDA_T1  \\\n",
       "0  north-korea, uncategorized, us-world, world, d...  0.016667  0.850000   \n",
       "1  apple, visa, mobile-payments, american-express...  0.016667  0.016667   \n",
       "2  australia, uncategorized, us-world, sports, ma...  0.016667  0.016667   \n",
       "3  australia, bmw, uncategorized, us-world, tony-...  0.020000  0.620000   \n",
       "4  q-a, australia, uncategorized, tv, us-world, j...  0.033333  0.033333   \n",
       "\n",
       "     LDA_T2    LDA_T3  ...    LSI_K0    LSI_K1    LSI_K2    LSI_K3    LSI_K4  \\\n",
       "0  0.016667  0.016667  ...  1.337092 -0.312890 -0.075334  0.014340 -0.026191   \n",
       "1  0.016667  0.850000  ...  0.108039  0.157399  1.083487 -0.085303  0.859357   \n",
       "2  0.016667  0.016667  ...  0.866041 -0.128184 -0.062708  0.121394 -0.041246   \n",
       "3  0.020000  0.020000  ...  0.845023 -0.205620 -0.058375 -0.006827 -0.049797   \n",
       "4  0.700000  0.033333  ...  0.841904 -0.205212 -0.057965 -0.006457 -0.049351   \n",
       "\n",
       "     LSI_K5    LSI_K6    LSI_K7    LSI_K8    LSI_K9  \n",
       "0 -0.018709  0.148285 -0.247328  0.032311  0.013983  \n",
       "1 -0.107519 -0.243842 -0.126799 -0.184600 -0.059431  \n",
       "2 -0.083225 -0.559973  0.589085 -0.031191 -0.294628  \n",
       "3 -0.086334 -0.558895  0.561352 -0.051666  0.001980  \n",
       "4 -0.085909 -0.551905  0.554571 -0.051252  0.002833  \n",
       "\n",
       "[5 rows x 96 columns]"
      ]
     },
     "execution_count": 18,
     "metadata": {},
     "output_type": "execute_result"
    }
   ],
   "source": [
    "df.head()"
   ]
  },
  {
   "cell_type": "code",
   "execution_count": 19,
   "metadata": {},
   "outputs": [],
   "source": [
    "#writing the output\n",
    "#kannan: we can remove url, title, content. just keep id and calculated columns. later we can join using 'id'\n",
    "df_bak=df.copy()\n",
    "df.drop(['url', 'title','content','html','keywords'], axis=1,inplace=True)\n",
    "df.to_excel(out_filepath, index=False)"
   ]
  },
  {
   "cell_type": "code",
   "execution_count": 178,
   "metadata": {},
   "outputs": [
    {
     "data": {
      "text/plain": [
       "'Americans Held in North Korea Ask U.S. for Assistance'"
      ]
     },
     "execution_count": 178,
     "metadata": {},
     "output_type": "execute_result"
    }
   ],
   "source": [
    "data[0]"
   ]
  },
  {
   "cell_type": "code",
   "execution_count": 179,
   "metadata": {},
   "outputs": [
    {
     "name": "stdout",
     "output_type": "stream",
     "text": [
      "[0.01666667 0.01666667 0.01666667 0.01666667 0.01666667 0.01666667\n",
      " 0.01666667 0.01666667 0.85       0.01666667]\n",
      "[0.         0.         0.00034471 0.00541244 0.         0.\n",
      " 0.03228402 0.00084339 0.         0.00647047]\n",
      "[ 0.00744652  0.00841603  0.01554511  0.07514149  0.03949661  0.01724751\n",
      "  0.13662781 -0.03699941 -0.06677146  0.14270257]\n"
     ]
    }
   ],
   "source": [
    "#Just visualizing the n_components representation of rows/observations\n",
    "print(lda_title[0])\n",
    "print(nmf_title[0])\n",
    "print(lsi_title[0])"
   ]
  },
  {
   "cell_type": "code",
   "execution_count": 180,
   "metadata": {},
   "outputs": [
    {
     "name": "stdout",
     "output_type": "stream",
     "text": [
      "LDA Model:\n",
      "Topic 0:\n",
      "[('said', 7668.455564861905), ('ebola', 2068.384128882067), ('people', 1988.0129055458444), ('government', 1800.7081231436775), ('state', 1724.271322225878), ('according', 1640.177380226889), ('president', 1611.75055422183), ('told', 1386.8573065940584), ('new', 1315.8544347861605), ('obama', 1295.7054856725022)]\n",
      "Topic 1:\n",
      "[('company', 3414.7197332322576), ('people', 3363.0815403441798), ('new', 3226.545453096199), ('like', 2987.4984721971814), ('time', 2797.6119190493864), ('said', 2517.130044903668), ('make', 2328.4810049249354), ('says', 2262.236895724618), ('just', 2249.382635741243), ('work', 2213.3649747501954)]\n",
      "Topic 2:\n",
      "[('mashable', 3181.5885044763495), ('com', 2484.432637360426), ('https', 2311.978687743325), ('video', 1807.0453678507201), ('youtube', 1535.0940393989092), ('music', 1413.9407911664064), ('file', 1280.6440293306855), ('aws', 1191.6966989047423), ('vdist', 1189.9620846358719), ('null', 1164.2373367265245)]\n",
      "Topic 3:\n",
      "[('fail', 2609.5887839988195), ('game', 1118.4197203680517), ('team', 881.2427236091605), ('just', 867.2800636780485), ('nfl', 730.4877521556506), ('sports', 678.9929795122762), ('time', 630.037495348142), ('nba', 617.3657240031068), ('world', 577.404169470088), ('football', 522.6133994940359)]\n",
      "Topic 4:\n",
      "[('just', 1795.1088519091657), ('video', 1684.3745951293156), ('game', 1541.7868276503661), ('like', 1506.7659550829746), ('film', 1459.9186942131098), ('time', 1444.344396169057), ('movie', 1057.538873480277), ('star', 1044.9949205542075), ('season', 1039.388107214201), ('watch', 1025.5019400574272)]\n",
      "Topic 5:\n",
      "[('mashable', 3083.7603472653027), ('image', 2952.6048808712217), ('new', 1612.9659512464027), ('climate', 1077.333770355539), ('year', 961.9456524534345), ('christina', 893.3649320310964), ('ascani', 858.1159451702016), ('world', 836.2223388321429), ('california', 821.832989184093), ('water', 748.8044918640543)]\n",
      "Topic 6:\n",
      "[('twitter', 9181.991644089105), ('document', 6255.781916250634), ('src', 6172.398463130011), ('com', 5501.620631575716), ('script', 4299.379392719539), ('window', 4086.21489419974), ('msla', 4032.5047898924086), ('pic', 3520.8350703871233), ('fjs', 2783.718420209652), ('november', 2454.8282984157368)]\n",
      "Topic 7:\n",
      "[('image', 10411.713780129245), ('instagram', 2694.0234371529073), ('imgur', 1212.8970318372062), ('like', 826.8277597433519), ('tumblr', 776.9793852221726), ('flickr', 775.4135513215068), ('composite', 759.5469243311337), ('photo', 746.4412624311268), ('food', 578.2568454866099), ('make', 548.5831753117127)]\n",
      "Topic 8:\n",
      "[('apple', 5673.241948023683), ('app', 2722.1433392517797), ('iphone', 2277.895964331507), ('image', 2276.1284740744836), ('new', 2139.332114826842), ('google', 1738.228422415529), ('users', 1553.1082463475404), ('apps', 1453.3353042064482), ('phone', 1418.036304497484), ('sony', 1408.884242489499)]\n",
      "Topic 9:\n",
      "[('police', 3485.6584745265604), ('image', 3319.6199312503268), ('images', 1923.3471126805125), ('press', 1825.1629451997305), ('city', 1779.3111091455337), ('associated', 1682.7904520523969), ('getty', 1591.9342007336775), ('protesters', 1247.9980260381049), ('york', 1136.828123907283), ('ferguson', 1136.5132411145585)]\n",
      "====================\n",
      "NMF Model:\n",
      "Topic 0:\n",
      "[('image', 31.91067604449485), ('instagram', 8.08345678637381), ('press', 3.9688309703362292), ('associated', 3.943989486833485), ('imgur', 3.7320709387681323), ('flickr', 1.258592813676008), ('tumblr', 1.2006562906302376), ('mashable', 1.1797717343171457), ('composite', 1.1681712279379515), ('like', 1.1644837108131292)]\n",
      "Topic 1:\n",
      "[('like', 6.789493221029243), ('just', 5.494950780505589), ('time', 4.990113978180557), ('new', 4.964677720551868), ('people', 4.405804773162487), ('make', 3.56876394750271), ('don', 3.1527600176356576), ('says', 3.084333724443048), ('work', 2.8535747859208342), ('company', 2.823647412301122)]\n",
      "Topic 2:\n",
      "[('apple', 18.703709219393996), ('iphone', 5.181989923434136), ('watch', 4.168392605548678), ('new', 2.7875510209243783), ('event', 2.170161768037945), ('ipad', 2.0604142697915893), ('pay', 1.6714876857045988), ('image', 1.5922444702207), ('plus', 1.571992153238758), ('october', 1.505586297381181)]\n",
      "Topic 3:\n",
      "[('twitter', 14.398669992823537), ('com', 8.34069839736127), ('document', 7.747806934533558), ('src', 7.7290755929826656), ('pic', 6.281367493005052), ('script', 5.373628972626003), ('msla', 4.938686361698706), ('window', 4.810257968509568), ('fjs', 4.188235666272745), ('november', 3.81793114784845)]\n",
      "Topic 4:\n",
      "[('mashable', 14.254413873883385), ('image', 9.88593877953039), ('christina', 5.931426178463274), ('ascani', 5.9205282437717), ('luke', 2.5454895286265384), ('leonard', 2.5416338854415077), ('elizabeth', 2.455109756953551), ('pierson', 2.4524068520842994), ('october', 2.3890062670014105), ('event', 2.304433275333278)]\n",
      "Topic 5:\n",
      "[('fail', 13.462686543999684), ('just', 3.484542721371122), ('game', 2.734097225985332), ('time', 2.535352514036643), ('youtube', 2.3307582588707967), ('team', 2.264353071314837), ('summer', 2.196592802316595), ('video', 2.1149690520013285), ('sports', 2.110784788582806), ('nba', 1.9414425823329795)]\n",
      "Topic 6:\n",
      "[('said', 15.770458924976401), ('ebola', 6.020117881647243), ('new', 3.6888960646000717), ('people', 3.3291496272403953), ('health', 3.1061380109848145), ('state', 2.370608604178319), ('according', 2.2499126480553486), ('press', 2.1447275060412854), ('president', 2.1338362030851816), ('climate', 1.9808810666772079)]\n",
      "Topic 7:\n",
      "[('images', 10.527201648673897), ('image', 10.131804851611793), ('getty', 9.907420531121211), ('game', 2.381084204994174), ('nfl', 1.7377290372370846), ('new', 1.5579427167442552), ('rivers', 1.4847626369475864), ('world', 1.389220128281839), ('june', 1.205647445035943), ('joan', 1.0907331754018579)]\n",
      "Topic 8:\n",
      "[('police', 9.004413642087503), ('protesters', 5.43421879439952), ('hong', 5.422829836043849), ('kong', 5.309763897744656), ('ferguson', 3.2080464690455064), ('protests', 2.7734034953103754), ('said', 2.6606121373398013), ('brown', 2.294904960209284), ('officer', 2.281669893638056), ('people', 2.2376437620553022)]\n",
      "Topic 9:\n",
      "[('mashable', 7.590246219102388), ('com', 7.374717381168445), ('https', 7.00426807349139), ('file', 3.9411921696633048), ('aws', 3.908905408985462), ('vdist', 3.9024343714720993), ('null', 3.79683257109883), ('player', 2.6271731947315407), ('false', 2.3586433259816304), ('sec', 1.561415364407673)]\n",
      "====================\n",
      "LSI Model:\n",
      "Topic 0:\n",
      "[('image', 0.6039337817655719), ('mashable', 0.2787566981436515), ('apple', 0.21809638142226523), ('new', 0.18693356364413688), ('said', 0.14556445329308318), ('like', 0.133727554491516), ('just', 0.1244462327084724), ('twitter', 0.11937320034171522), ('time', 0.10768330155259377), ('com', 0.1075793552494275)]\n",
      "Topic 1:\n",
      "[('image', 0.5236997176821937), ('mashable', 0.21102955605938076), ('apple', 0.16925153766286666), ('ascani', 0.10682224058641378), ('christina', 0.1063831737115728), ('images', 0.06609603063715726), ('getty', 0.06458918814647023), ('instagram', 0.05924742296851362), ('leonard', 0.045880243190091055), ('cupertino', 0.04549071769807056)]\n",
      "Topic 2:\n",
      "[('apple', 0.7661434676687174), ('iphone', 0.21679636831868468), ('watch', 0.1627723750536436), ('new', 0.10873553592374621), ('event', 0.10084150091628517), ('ipad', 0.09853832389542429), ('ipod', 0.07674718546007936), ('cupertino', 0.07235431162279968), ('pay', 0.07133468984097827), ('october', 0.06997843073165406)]\n",
      "Topic 3:\n",
      "[('com', 0.29653687519294425), ('mashable', 0.2785421186121321), ('twitter', 0.2746736137750801), ('https', 0.16236653642273507), ('pic', 0.15553290882457332), ('src', 0.14585630317191076), ('document', 0.14554754741482967), ('police', 0.13432471531277013), ('october', 0.11167646000970274), ('script', 0.09569375190631263)]\n",
      "Topic 4:\n",
      "[('mashable', 0.5558011804367603), ('christina', 0.14976127467724057), ('ascani', 0.14964825854095395), ('like', 0.12188475974066029), ('children', 0.08464842413746113), ('job', 0.08108565842053016), ('just', 0.07774979157901778), ('https', 0.0765122797186142), ('luke', 0.07629275783075481), ('leonard', 0.0749817808694491)]\n",
      "Topic 5:\n",
      "[('fail', 0.5463235616003619), ('com', 0.19265901809498487), ('twitter', 0.16940579257556548), ('mashable', 0.11302803111867717), ('apple', 0.11057325251132799), ('https', 0.10030790615297801), ('pic', 0.096485854604437), ('game', 0.09598296061367316), ('summer', 0.0833123158946278), ('src', 0.08253052115097607)]\n",
      "Topic 6:\n",
      "[('said', 0.40690325184676973), ('fail', 0.20645331849230183), ('police', 0.18996740715783358), ('ebola', 0.1703302201866169), ('ascani', 0.15310940954974572), ('christina', 0.152580500049978), ('hong', 0.13154302803224288), ('kong', 0.12864069046214793), ('october', 0.1105594228508716), ('event', 0.10711900884632491)]\n",
      "Topic 7:\n"
     ]
    },
    {
     "name": "stdout",
     "output_type": "stream",
     "text": [
      "[('images', 0.4311959536639149), ('getty', 0.40052456613911963), ('mashable', 0.23051172740123893), ('https', 0.19219659914653042), ('com', 0.14672532213326772), ('new', 0.1362833842295376), ('file', 0.12726212613096938), ('aws', 0.1271379768740413), ('vdist', 0.1268867678107286), ('null', 0.12373193077531718)]\n",
      "Topic 8:\n",
      "[('police', 0.3004195777844155), ('hong', 0.22111829599383037), ('kong', 0.2172126204731776), ('protesters', 0.20047836087031934), ('press', 0.19904839316854223), ('associated', 0.1914877288116558), ('com', 0.12158778860348063), ('https', 0.11300940916914255), ('ferguson', 0.11106334369732355), ('iphone', 0.10395009550516253)]\n",
      "Topic 9:\n",
      "[('police', 0.23511765770998302), ('christina', 0.17988949067537707), ('ascani', 0.17879481007848647), ('hong', 0.17369774584573408), ('kong', 0.1704758247967365), ('protesters', 0.16995749227559706), ('twitter', 0.14207359170368328), ('october', 0.13064096638011274), ('children', 0.12004829753487772), ('job', 0.1197097943685944)]\n",
      "====================\n"
     ]
    }
   ],
   "source": [
    "#Informational (how to extract topics)\n",
    "def print_topics(model, vectorizer, top_n=10):\n",
    "    for idx, topic in enumerate(model.components_):\n",
    "        print(\"Topic %d:\" % (idx))\n",
    "        print([(vectorizer.get_feature_names()[i], topic[i])\n",
    "                        for i in topic.argsort()[:-top_n - 1:-1]])\n",
    "print(\"LDA Model:\")\n",
    "print_topics(lda_model, vectorizer)\n",
    "print(\"=\" * 20)\n",
    " \n",
    "print(\"NMF Model:\")\n",
    "print_topics(nmf_model, vectorizer)\n",
    "print(\"=\" * 20)\n",
    " \n",
    "print(\"LSI Model:\")\n",
    "print_topics(lsi_model, vectorizer)\n",
    "print(\"=\" * 20)\n"
   ]
  },
  {
   "cell_type": "code",
   "execution_count": 181,
   "metadata": {},
   "outputs": [],
   "source": [
    "def infer_components(model,vectorizer,text):\n",
    "    c=model.transform(vectorizer.transform([text]))[0]\n",
    "    return c.tolist()\n",
    "\n",
    "def infer_components_all(models,vectorizer,text):\n",
    "    components=[]\n",
    "    for _,model in models:\n",
    "        components.extend(infer_components(model,vectorizer,text))\n",
    "    return components\n",
    "    "
   ]
  },
  {
   "cell_type": "code",
   "execution_count": 182,
   "metadata": {},
   "outputs": [
    {
     "name": "stdout",
     "output_type": "stream",
     "text": [
      "[0.20151986 0.3781287  0.01666953 0.01666905 0.30366269 0.01667154\n",
      " 0.01666724 0.0166676  0.01667179 0.01667201]\n"
     ]
    }
   ],
   "source": [
    "text = \"Kannan is a good boy. An example of new sentence\"\n",
    "x = lda_model.transform(vectorizer.transform([text]))[0]\n",
    "print(x)"
   ]
  },
  {
   "cell_type": "code",
   "execution_count": 183,
   "metadata": {},
   "outputs": [
    {
     "data": {
      "text/plain": [
       "[0.2015198577492688,\n",
       " 0.3781287021439153,\n",
       " 0.016669531964861407,\n",
       " 0.016669050844705623,\n",
       " 0.30366269018905556,\n",
       " 0.01667153993211631,\n",
       " 0.016667237159911853,\n",
       " 0.01666759513747562,\n",
       " 0.016671787216513707,\n",
       " 0.016672007662175886]"
      ]
     },
     "execution_count": 183,
     "metadata": {},
     "output_type": "execute_result"
    }
   ],
   "source": [
    "infer_components(lda_model,vectorizer,text)"
   ]
  },
  {
   "cell_type": "code",
   "execution_count": 185,
   "metadata": {},
   "outputs": [],
   "source": [
    "#infer_components_all(models,vectorizer,text)"
   ]
  }
 ],
 "metadata": {
  "kernelspec": {
   "display_name": "Python 3",
   "language": "python",
   "name": "python3"
  },
  "language_info": {
   "codemirror_mode": {
    "name": "ipython",
    "version": 3
   },
   "file_extension": ".py",
   "mimetype": "text/x-python",
   "name": "python",
   "nbconvert_exporter": "python",
   "pygments_lexer": "ipython3",
   "version": "3.7.6"
  }
 },
 "nbformat": 4,
 "nbformat_minor": 2
}
