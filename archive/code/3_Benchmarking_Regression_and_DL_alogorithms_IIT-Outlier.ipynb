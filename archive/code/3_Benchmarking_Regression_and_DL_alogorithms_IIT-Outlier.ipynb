{
 "cells": [
  {
   "cell_type": "code",
   "execution_count": 1,
   "metadata": {},
   "outputs": [],
   "source": [
    "import math\n",
    "import numpy as np\n",
    "import pandas as pd\n",
    "from numpy import arange\n",
    "from matplotlib import pyplot\n",
    "from pandas import read_csv\n",
    "from pandas.plotting import scatter_matrix\n",
    "\n",
    "from sklearn.preprocessing import StandardScaler\n",
    "from sklearn.model_selection import train_test_split\n",
    "from sklearn.model_selection import KFold\n",
    "from sklearn.model_selection import cross_val_score\n",
    "from sklearn.model_selection import GridSearchCV\n",
    "from sklearn.metrics import mean_squared_error\n",
    "from sklearn.pipeline import Pipeline\n",
    "\n",
    "from sklearn.linear_model import LinearRegression\n",
    "from sklearn.linear_model import Ridge\n",
    "from sklearn.linear_model import Lasso\n",
    "from sklearn.linear_model import ElasticNet\n",
    "from sklearn.tree import DecisionTreeRegressor\n",
    "from sklearn.neighbors import KNeighborsRegressor\n",
    "from sklearn.svm import SVR\n",
    "from sklearn.ensemble import RandomForestRegressor\n",
    "from sklearn.ensemble import ExtraTreesRegressor\n",
    "from sklearn.ensemble import AdaBoostRegressor\n",
    "from sklearn.ensemble import GradientBoostingRegressor\n",
    "\n",
    "#from sklearn.externals.joblib import dump\n",
    "#from sklearn.externals.joblib import load\n",
    "#from sklearn.feature_selection import RFE\n",
    "\n",
    "from datetime import datetime\n",
    "\n",
    "import warnings\n",
    "warnings.filterwarnings(\"ignore\")\n",
    "\n",
    "# Create one random seed number for reproducible results\n",
    "seedNum = 888\n",
    "\n",
    "# Libraries for neural network\n",
    "import tensorflow\n",
    "import tensorflow.keras\n",
    "from tensorflow.keras.models import Sequential\n",
    "from tensorflow.keras.layers import Dense, Dropout, BatchNormalization\n",
    "from tensorflow.keras.wrappers.scikit_learn import KerasRegressor"
   ]
  },
  {
   "cell_type": "markdown",
   "metadata": {},
   "source": [
    "### Reading data"
   ]
  },
  {
   "cell_type": "code",
   "execution_count": 2,
   "metadata": {},
   "outputs": [
    {
     "name": "stdout",
     "output_type": "stream",
     "text": [
      "(7795, 20)\n"
     ]
    },
    {
     "data": {
      "text/html": [
       "<div>\n",
       "<style scoped>\n",
       "    .dataframe tbody tr th:only-of-type {\n",
       "        vertical-align: middle;\n",
       "    }\n",
       "\n",
       "    .dataframe tbody tr th {\n",
       "        vertical-align: top;\n",
       "    }\n",
       "\n",
       "    .dataframe thead th {\n",
       "        text-align: right;\n",
       "    }\n",
       "</style>\n",
       "<table border=\"1\" class=\"dataframe\">\n",
       "  <thead>\n",
       "    <tr style=\"text-align: right;\">\n",
       "      <th></th>\n",
       "      <th>Id</th>\n",
       "      <th>url</th>\n",
       "      <th>n_tokens_title</th>\n",
       "      <th>n_tokens_content</th>\n",
       "      <th>n_unique_tokens</th>\n",
       "      <th>n_non_stop_words</th>\n",
       "      <th>n_non_stop_unique_tokens</th>\n",
       "      <th>num_hrefs</th>\n",
       "      <th>num_self_hrefs</th>\n",
       "      <th>num_imgs</th>\n",
       "      <th>num_videos</th>\n",
       "      <th>average_token_length</th>\n",
       "      <th>num_keywords</th>\n",
       "      <th>data_channel_is_lifestyle</th>\n",
       "      <th>data_channel_is_entertainment</th>\n",
       "      <th>data_channel_is_bus</th>\n",
       "      <th>data_channel_is_socmed</th>\n",
       "      <th>data_channel_is_tech</th>\n",
       "      <th>data_channel_is_world</th>\n",
       "      <th>shares</th>\n",
       "    </tr>\n",
       "  </thead>\n",
       "  <tbody>\n",
       "    <tr>\n",
       "      <th>0</th>\n",
       "      <td>1</td>\n",
       "      <td>http://mashable.com/2014/09/01/americans-held-...</td>\n",
       "      <td>10</td>\n",
       "      <td>261</td>\n",
       "      <td>0.661355</td>\n",
       "      <td>1.0</td>\n",
       "      <td>0.787500</td>\n",
       "      <td>7</td>\n",
       "      <td>3</td>\n",
       "      <td>1</td>\n",
       "      <td>1</td>\n",
       "      <td>4.873563</td>\n",
       "      <td>7</td>\n",
       "      <td>0</td>\n",
       "      <td>0</td>\n",
       "      <td>0</td>\n",
       "      <td>0</td>\n",
       "      <td>0</td>\n",
       "      <td>1</td>\n",
       "      <td>1100</td>\n",
       "    </tr>\n",
       "    <tr>\n",
       "      <th>1</th>\n",
       "      <td>2</td>\n",
       "      <td>http://mashable.com/2014/09/01/apple-visa-mast...</td>\n",
       "      <td>7</td>\n",
       "      <td>1791</td>\n",
       "      <td>0.370242</td>\n",
       "      <td>1.0</td>\n",
       "      <td>0.535038</td>\n",
       "      <td>74</td>\n",
       "      <td>3</td>\n",
       "      <td>50</td>\n",
       "      <td>0</td>\n",
       "      <td>4.554439</td>\n",
       "      <td>8</td>\n",
       "      <td>0</td>\n",
       "      <td>0</td>\n",
       "      <td>0</td>\n",
       "      <td>0</td>\n",
       "      <td>0</td>\n",
       "      <td>0</td>\n",
       "      <td>1100</td>\n",
       "    </tr>\n",
       "    <tr>\n",
       "      <th>2</th>\n",
       "      <td>3</td>\n",
       "      <td>http://mashable.com/2014/09/01/aussie-football...</td>\n",
       "      <td>7</td>\n",
       "      <td>503</td>\n",
       "      <td>0.524291</td>\n",
       "      <td>1.0</td>\n",
       "      <td>0.704918</td>\n",
       "      <td>3</td>\n",
       "      <td>3</td>\n",
       "      <td>1</td>\n",
       "      <td>0</td>\n",
       "      <td>5.003976</td>\n",
       "      <td>5</td>\n",
       "      <td>0</td>\n",
       "      <td>0</td>\n",
       "      <td>0</td>\n",
       "      <td>0</td>\n",
       "      <td>0</td>\n",
       "      <td>1</td>\n",
       "      <td>1000</td>\n",
       "    </tr>\n",
       "    <tr>\n",
       "      <th>3</th>\n",
       "      <td>4</td>\n",
       "      <td>http://mashable.com/2014/09/01/australia-gover...</td>\n",
       "      <td>10</td>\n",
       "      <td>526</td>\n",
       "      <td>0.536204</td>\n",
       "      <td>1.0</td>\n",
       "      <td>0.654867</td>\n",
       "      <td>17</td>\n",
       "      <td>1</td>\n",
       "      <td>1</td>\n",
       "      <td>0</td>\n",
       "      <td>4.998099</td>\n",
       "      <td>9</td>\n",
       "      <td>0</td>\n",
       "      <td>0</td>\n",
       "      <td>0</td>\n",
       "      <td>0</td>\n",
       "      <td>0</td>\n",
       "      <td>1</td>\n",
       "      <td>822</td>\n",
       "    </tr>\n",
       "    <tr>\n",
       "      <th>4</th>\n",
       "      <td>5</td>\n",
       "      <td>http://mashable.com/2014/09/01/australia-jane-...</td>\n",
       "      <td>13</td>\n",
       "      <td>237</td>\n",
       "      <td>0.619048</td>\n",
       "      <td>1.0</td>\n",
       "      <td>0.807143</td>\n",
       "      <td>5</td>\n",
       "      <td>3</td>\n",
       "      <td>1</td>\n",
       "      <td>0</td>\n",
       "      <td>5.046414</td>\n",
       "      <td>9</td>\n",
       "      <td>0</td>\n",
       "      <td>0</td>\n",
       "      <td>0</td>\n",
       "      <td>0</td>\n",
       "      <td>0</td>\n",
       "      <td>1</td>\n",
       "      <td>841</td>\n",
       "    </tr>\n",
       "  </tbody>\n",
       "</table>\n",
       "</div>"
      ],
      "text/plain": [
       "   Id                                                url  n_tokens_title  \\\n",
       "0   1  http://mashable.com/2014/09/01/americans-held-...              10   \n",
       "1   2  http://mashable.com/2014/09/01/apple-visa-mast...               7   \n",
       "2   3  http://mashable.com/2014/09/01/aussie-football...               7   \n",
       "3   4  http://mashable.com/2014/09/01/australia-gover...              10   \n",
       "4   5  http://mashable.com/2014/09/01/australia-jane-...              13   \n",
       "\n",
       "   n_tokens_content  n_unique_tokens  n_non_stop_words  \\\n",
       "0               261         0.661355               1.0   \n",
       "1              1791         0.370242               1.0   \n",
       "2               503         0.524291               1.0   \n",
       "3               526         0.536204               1.0   \n",
       "4               237         0.619048               1.0   \n",
       "\n",
       "   n_non_stop_unique_tokens  num_hrefs  num_self_hrefs  num_imgs  num_videos  \\\n",
       "0                  0.787500          7               3         1           1   \n",
       "1                  0.535038         74               3        50           0   \n",
       "2                  0.704918          3               3         1           0   \n",
       "3                  0.654867         17               1         1           0   \n",
       "4                  0.807143          5               3         1           0   \n",
       "\n",
       "   average_token_length  num_keywords  data_channel_is_lifestyle  \\\n",
       "0              4.873563             7                          0   \n",
       "1              4.554439             8                          0   \n",
       "2              5.003976             5                          0   \n",
       "3              4.998099             9                          0   \n",
       "4              5.046414             9                          0   \n",
       "\n",
       "   data_channel_is_entertainment  data_channel_is_bus  data_channel_is_socmed  \\\n",
       "0                              0                    0                       0   \n",
       "1                              0                    0                       0   \n",
       "2                              0                    0                       0   \n",
       "3                              0                    0                       0   \n",
       "4                              0                    0                       0   \n",
       "\n",
       "   data_channel_is_tech  data_channel_is_world  shares  \n",
       "0                     0                      1    1100  \n",
       "1                     0                      0    1100  \n",
       "2                     0                      1    1000  \n",
       "3                     0                      1     822  \n",
       "4                     0                      1     841  "
      ]
     },
     "execution_count": 2,
     "metadata": {},
     "output_type": "execute_result"
    }
   ],
   "source": [
    "#[kannan: directly reading the data, later change the pipeline to preprocessed, feature engineered data]\n",
    "#inputFile = '../data/input/OnlineNewsPopularity.csv' #Error tokenizing data. C error: Expected 1 fields in line 6, saw 3\n",
    "#df = pd.read_csv(inputFile)\n",
    "inputFile = '../data/input/OnlineNewsPopularity.xlsx'\n",
    "df = pd.read_excel(inputFile)\n",
    "df.columns = df.columns.str.replace(' ','')\n",
    "print(df.shape)\n",
    "df.head()"
   ]
  },
  {
   "cell_type": "code",
   "execution_count": 3,
   "metadata": {},
   "outputs": [],
   "source": [
    "# Dropping useless attributes\n",
    "df.drop('url', axis=1, inplace=True)\n",
    "df.drop('Id', axis=1, inplace=True)"
   ]
  },
  {
   "cell_type": "code",
   "execution_count": 4,
   "metadata": {},
   "outputs": [],
   "source": [
    "# variables for total columns, total input attributes, target column index and renaming target variable\n",
    "totCol = len(df.columns)\n",
    "totAttr = totCol-1\n",
    "targetCol = totCol #last column\n",
    "df.rename(columns={'shares': 'targetVar'}, inplace=True)"
   ]
  },
  {
   "cell_type": "code",
   "execution_count": 5,
   "metadata": {},
   "outputs": [
    {
     "data": {
      "text/plain": [
       "1100     505\n",
       "1200     431\n",
       "1300     348\n",
       "1400     347\n",
       "1000     280\n",
       "        ... \n",
       "162        1\n",
       "178        1\n",
       "20700      1\n",
       "37100      1\n",
       "12400      1\n",
       "Name: targetVar, Length: 917, dtype: int64"
      ]
     },
     "execution_count": 5,
     "metadata": {},
     "output_type": "execute_result"
    }
   ],
   "source": [
    "df['targetVar'].value_counts()"
   ]
  },
  {
   "cell_type": "code",
   "execution_count": 6,
   "metadata": {},
   "outputs": [
    {
     "name": "stdout",
     "output_type": "stream",
     "text": [
      "(2, 18)\n"
     ]
    }
   ],
   "source": [
    "print(df[(df['targetVar']==25000)].shape)"
   ]
  },
  {
   "cell_type": "code",
   "execution_count": 7,
   "metadata": {},
   "outputs": [
    {
     "name": "stdout",
     "output_type": "stream",
     "text": [
      "(106, 18)\n",
      "(108, 18)\n"
     ]
    }
   ],
   "source": [
    "# Take care of ourlier.Thresholding for value > 25000\n",
    "#df[(df['targetVar']>25000)]['targetVar'] = 5   # not working\n",
    "print(df[(df['targetVar']>25000)].shape)\n",
    "df['targetVar'] = df['targetVar'].clip(upper=25000)\n",
    "print(df[(df['targetVar']==25000)].shape)"
   ]
  },
  {
   "cell_type": "code",
   "execution_count": 8,
   "metadata": {},
   "outputs": [
    {
     "data": {
      "text/plain": [
       "1100     505\n",
       "1200     431\n",
       "1300     348\n",
       "1400     347\n",
       "1000     280\n",
       "        ... \n",
       "20700      1\n",
       "274        1\n",
       "282        1\n",
       "286        1\n",
       "162        1\n",
       "Name: targetVar, Length: 824, dtype: int64"
      ]
     },
     "execution_count": 8,
     "metadata": {},
     "output_type": "execute_result"
    }
   ],
   "source": [
    "df['targetVar'].value_counts()"
   ]
  },
  {
   "cell_type": "code",
   "execution_count": 9,
   "metadata": {},
   "outputs": [
    {
     "data": {
      "text/plain": [
       "(7795, 18)"
      ]
     },
     "execution_count": 9,
     "metadata": {},
     "output_type": "execute_result"
    }
   ],
   "source": [
    "df.shape"
   ]
  },
  {
   "cell_type": "code",
   "execution_count": 10,
   "metadata": {},
   "outputs": [
    {
     "name": "stdout",
     "output_type": "stream",
     "text": [
      "x_df.shape: (7795, 17) y_df.shape: (7795,)\n",
      "x_train.shape: (5456, 17) y_train.shape: (5456,)\n",
      "x_test.shape: (2339, 17) y_test.shape: (2339,)\n"
     ]
    }
   ],
   "source": [
    "#70:30 train test split\n",
    "if targetCol == totCol :\n",
    "    x_df = df.iloc[:,0:totAttr]\n",
    "    y_df = df.iloc[:,totAttr]\n",
    "else :\n",
    "    x_df = df.iloc[:,1:totCol]\n",
    "    y_df = df.iloc[:,0]\n",
    "\n",
    "validation_size = 0.30\n",
    "x_train, x_test, y_train, y_test = train_test_split(x_df, y_df, test_size=validation_size, random_state=seedNum)\n",
    "print(\"x_df.shape: {} y_df.shape: {}\".format(x_df.shape, y_df.shape))\n",
    "print(\"x_train.shape: {} y_train.shape: {}\".format(x_train.shape, y_train.shape))\n",
    "print(\"x_test.shape: {} y_test.shape: {}\".format(x_test.shape, y_test.shape))"
   ]
  },
  {
   "cell_type": "code",
   "execution_count": 11,
   "metadata": {},
   "outputs": [],
   "source": [
    "# visualization configs\n",
    "dispCol = 3\n",
    "if totAttr % dispCol == 0 :\n",
    "    dispRow = totAttr // dispCol\n",
    "else :\n",
    "    dispRow = (totAttr // dispCol) + 1\n",
    "    \n",
    "# Set figure width to 16 and height to 12 (4:3 aspect ratio)\n",
    "fig_size = pyplot.rcParams[\"figure.figsize\"]\n",
    "fig_size[0] = 16\n",
    "fig_size[1] = 12\n",
    "pyplot.rcParams[\"figure.figsize\"] = fig_size"
   ]
  },
  {
   "cell_type": "code",
   "execution_count": 12,
   "metadata": {},
   "outputs": [],
   "source": [
    "#kannan: This is decided from feature engineering / feature selection\n",
    "lowAttributes=[]"
   ]
  },
  {
   "cell_type": "code",
   "execution_count": 13,
   "metadata": {},
   "outputs": [
    {
     "name": "stdout",
     "output_type": "stream",
     "text": [
      "x_newdf.shape: (7795, 17) y_newdf.shape: (7795,)\n",
      "x_train.shape: (5456, 17) y_train.shape: (5456,)\n",
      "x_test.shape: (2339, 17) y_test.shape: (2339,)\n"
     ]
    }
   ],
   "source": [
    "# Removing the unselected attributes from the training and validation dataframes\n",
    "#xy_train <- xy_train[, !(names(xy_train) %in% lowAttributes)]\n",
    "#xy_test <- xy_test[, !(names(xy_test) %in% lowAttributes)]\n",
    "xy_newdf = df.drop(lowAttributes, axis=1)\n",
    "\n",
    "totCol = len(xy_newdf.columns)\n",
    "totAttr = totCol-1\n",
    "targetCol = totCol\n",
    "array = xy_newdf.values\n",
    "\n",
    "if targetCol == totCol :\n",
    "    x_newdf = array[:,0:totAttr]\n",
    "    y_newdf = array[:,totAttr]\n",
    "else :\n",
    "    x_newdf = array[:,1:totCol]\n",
    "    y_newdf = array[:,0]\n",
    "\n",
    "validation_size = 0.30\n",
    "x_train, x_test, y_train, y_test = train_test_split(x_newdf, y_newdf, test_size=validation_size, random_state=seedNum)\n",
    "print(\"x_newdf.shape: {} y_newdf.shape: {}\".format(x_newdf.shape, y_newdf.shape))\n",
    "print(\"x_train.shape: {} y_train.shape: {}\".format(x_train.shape, y_train.shape))\n",
    "print(\"x_test.shape: {} y_test.shape: {}\".format(x_test.shape, y_test.shape))"
   ]
  },
  {
   "cell_type": "markdown",
   "metadata": {},
   "source": [
    "## Traditional ML Models Evaluation"
   ]
  },
  {
   "cell_type": "code",
   "execution_count": 14,
   "metadata": {},
   "outputs": [],
   "source": [
    "# Comparing various types of regression # K-fold cross validation\n",
    "num_folds = 10\n",
    "scoring = 'neg_mean_squared_error'\n",
    "#Other scoring options: https://scikit-learn.org/stable/modules/model_evaluation.html\n",
    "models = []\n",
    "\n",
    "# LINEAR ALGORITHMS\n",
    "# -----------------\n",
    "# Linear Regression\n",
    "models.append(('LR', LinearRegression()))\n",
    "# Ridge Regression\n",
    "models.append(('RR', Ridge(random_state=seedNum)))\n",
    "# Lasso Regression\n",
    "models.append(('LASSO', Lasso(random_state=seedNum)))\n",
    "# Elastic Net\n",
    "models.append(('EN', ElasticNet(random_state=seedNum)))\n",
    "\n",
    "# NON-LINEAR ALGORITHMS\n",
    "# ---------------------\n",
    "# Classification and Regression Trees\n",
    "models.append(('CART', DecisionTreeRegressor(random_state=seedNum)))\n",
    "# K Nearest Neighbor\n",
    "models.append(('KNN', KNeighborsRegressor()))\n",
    "# Suppor Vector machine\n",
    "models.append(('SVM', SVR()))\n",
    "\n",
    "# ENSEMBLE ALGORITHMS\n",
    "# -------------------\n",
    "# Extra Trees\n",
    "models.append(('ETree', ExtraTreesRegressor(random_state=seedNum)))\n",
    "# Random Forest\n",
    "models.append(('RF', RandomForestRegressor(random_state=seedNum)))\n",
    "# Stochastic Gradient Boosting\n",
    "models.append(('GBM', GradientBoostingRegressor(random_state=seedNum)))\n",
    "# Adaptive Boosting\n",
    "models.append(('ABM', AdaBoostRegressor(random_state=seedNum)))\n",
    "\n",
    "results = []\n",
    "names = []\n",
    "metrics1= [] #RMSE_Training\n",
    "metrics2= [] #RMSE_Testing"
   ]
  },
  {
   "cell_type": "markdown",
   "metadata": {},
   "source": [
    "## Adding DL Model"
   ]
  },
  {
   "cell_type": "code",
   "execution_count": 15,
   "metadata": {},
   "outputs": [],
   "source": [
    "def baseline_model(act_function='relu', drop_out=.2):\n",
    "        \n",
    "    model = Sequential()\n",
    "    \n",
    "    model.add(BatchNormalization())\n",
    "    model.add(Dense(10, input_dim=17, kernel_initializer='normal', activation=act_function))\n",
    "    #model.add(Dense(15, kernel_initializer='normal', activation=act_function))\n",
    "    model.add(Dense(6,  kernel_initializer='normal', activation=act_function))\n",
    "    model.add(Dense(1,  kernel_initializer='normal'))\n",
    "    \n",
    "    optimizer = tensorflow.keras.optimizers.Adam(lr=.0001)\n",
    "    model.compile(loss='mean_squared_error', optimizer=optimizer)\n",
    "    \n",
    "    return model\n",
    "\n",
    "estimator = KerasRegressor(build_fn=baseline_model, epochs=50, batch_size=10, verbose=0)"
   ]
  },
  {
   "cell_type": "code",
   "execution_count": 16,
   "metadata": {},
   "outputs": [],
   "source": [
    "models.append(('DL', estimator))"
   ]
  },
  {
   "cell_type": "markdown",
   "metadata": {},
   "source": [
    "## Training"
   ]
  },
  {
   "cell_type": "code",
   "execution_count": 17,
   "metadata": {},
   "outputs": [
    {
     "name": "stdout",
     "output_type": "stream",
     "text": [
      "\n",
      "LR: rmse:3801.585988\n",
      "Model training time: 0:00:00.104670\n",
      "\n",
      "RR: rmse:3801.279540\n",
      "Model training time: 0:00:00.066819\n",
      "\n",
      "LASSO: rmse:3801.675565\n",
      "Model training time: 0:00:00.716167\n",
      "\n",
      "EN: rmse:3840.588755\n",
      "Model training time: 0:00:00.069732\n",
      "\n",
      "CART: rmse:5593.738007\n",
      "Model training time: 0:00:01.108034\n",
      "\n",
      "KNN: rmse:4194.958611\n",
      "Model training time: 0:00:00.510690\n",
      "\n",
      "SVM: rmse:4106.240378\n",
      "Model training time: 0:00:28.437239\n",
      "\n",
      "ETree: rmse:4085.390520\n",
      "Model training time: 0:00:36.073701\n",
      "\n",
      "RF: rmse:3998.902109\n",
      "Model training time: 0:01:09.688973\n",
      "\n",
      "GBM: rmse:3846.693128\n",
      "Model training time: 0:00:19.676364\n",
      "\n",
      "ABM: rmse:4544.731164\n",
      "Model training time: 0:00:02.514270\n",
      "WARNING:tensorflow:From C:\\Users\\schopra\\AppData\\Local\\Continuum\\anaconda3\\envs\\nlp01\\lib\\site-packages\\tensorflow\\python\\keras\\initializers.py:143: calling RandomNormal.__init__ (from tensorflow.python.ops.init_ops) with dtype is deprecated and will be removed in a future version.\n",
      "Instructions for updating:\n",
      "Call initializer instance with the dtype argument instead of passing it to the constructor\n",
      "\n",
      "DL: rmse:3873.795911\n",
      "Model training time: 0:09:35.937669\n"
     ]
    }
   ],
   "source": [
    "for name, model in models:\n",
    "    startTimeModule = datetime.now()\n",
    "    kfold = KFold(n_splits=num_folds, random_state=seedNum)\n",
    "    cv_results = cross_val_score(model, x_train, y_train, cv=kfold, scoring=scoring)\n",
    "    results.append(cv_results)\n",
    "    names.append(name)\n",
    "    rmse=math.sqrt(abs(cv_results.mean()))\n",
    "    metrics1.append(rmse)\n",
    "    print(\"\\n%s: rmse:%f\" % (name, rmse))\n",
    "    print ('Model training time:',(datetime.now() - startTimeModule))"
   ]
  },
  {
   "cell_type": "markdown",
   "metadata": {},
   "source": [
    "## Testing"
   ]
  },
  {
   "cell_type": "code",
   "execution_count": 18,
   "metadata": {
    "scrolled": true
   },
   "outputs": [
    {
     "name": "stdout",
     "output_type": "stream",
     "text": [
      "\n",
      "LR: rmse:4015.755240\n",
      "\n",
      "RR: rmse:4015.663826\n",
      "\n",
      "LASSO: rmse:4016.140082\n",
      "\n",
      "EN: rmse:4060.602705\n",
      "\n",
      "CART: rmse:5869.357817\n",
      "\n",
      "KNN: rmse:4348.275731\n",
      "\n",
      "SVM: rmse:4347.362080\n",
      "\n",
      "ETree: rmse:4345.145499\n",
      "\n",
      "RF: rmse:4262.090496\n",
      "\n",
      "GBM: rmse:4044.639103\n",
      "\n",
      "ABM: rmse:4540.063012\n",
      "\n",
      "DL: rmse:4174.449900\n"
     ]
    }
   ],
   "source": [
    "for name, model in models:\n",
    "    model.fit(x_train, y_train)\n",
    "    predictions=model.predict(x_test)\n",
    "    rmse=math.sqrt(mean_squared_error(y_test, predictions))\n",
    "    metrics2.append(rmse)\n",
    "    print(\"\\n%s: rmse:%f\" % (name, rmse))"
   ]
  },
  {
   "cell_type": "code",
   "execution_count": 19,
   "metadata": {},
   "outputs": [
    {
     "data": {
      "image/png": "[encoded data removed]",
      "text/plain": [
       "<Figure size 1152x864 with 1 Axes>"
      ]
     },
     "metadata": {
      "needs_background": "light"
     },
     "output_type": "display_data"
    }
   ],
   "source": [
    "import matplotlib\n",
    "import matplotlib.pyplot as plt\n",
    "import numpy as np\n",
    "\n",
    "\n",
    "labels = names\n",
    "\n",
    "x = np.arange(len(labels))  # the label locations\n",
    "width = 0.35  # the width of the bars\n",
    "\n",
    "metrics1=[math.floor(item) for item in metrics1]\n",
    "metrics2=[math.floor(item) for item in metrics2]\n",
    "\n",
    "fig, ax = plt.subplots()\n",
    "rects1 = ax.bar(x - width/2, metrics1, width, label='TrainRMSE')\n",
    "rects2 = ax.bar(x + width/2, metrics2, width, label='TestRMSE')\n",
    "\n",
    "# Add some text for labels, title and custom x-axis tick labels, etc.\n",
    "ax.set_ylabel('RMSE')\n",
    "ax.set_title('RMSE by Regression Algorithms')\n",
    "ax.set_xticks(x)\n",
    "ax.set_xticklabels(labels)\n",
    "ax.legend()\n",
    "\n",
    "\n",
    "def autolabel(rects):\n",
    "    \"\"\"Attach a text label above each bar in *rects*, displaying its height.\"\"\"\n",
    "    for rect in rects:\n",
    "        height = rect.get_height()\n",
    "        ax.annotate('{}'.format(height),\n",
    "                    xy=(rect.get_x() + rect.get_width() / 2, height),\n",
    "                    xytext=(0, 3),  # 3 points vertical offset\n",
    "                    textcoords=\"offset points\",\n",
    "                    ha='center', va='bottom')\n",
    "\n",
    "\n",
    "autolabel(rects1)\n",
    "autolabel(rects2)\n",
    "\n",
    "fig.tight_layout()\n",
    "\n",
    "plt.show()"
   ]
  },
  {
   "cell_type": "code",
   "execution_count": null,
   "metadata": {},
   "outputs": [],
   "source": []
  }
 ],
 "metadata": {
  "kernelspec": {
   "display_name": "Python 3",
   "language": "python",
   "name": "python3"
  },
  "language_info": {
   "codemirror_mode": {
    "name": "ipython",
    "version": 3
   },
   "file_extension": ".py",
   "mimetype": "text/x-python",
   "name": "python",
   "nbconvert_exporter": "python",
   "pygments_lexer": "ipython3",
   "version": "3.7.4"
  }
 },
 "nbformat": 4,
 "nbformat_minor": 2
}
