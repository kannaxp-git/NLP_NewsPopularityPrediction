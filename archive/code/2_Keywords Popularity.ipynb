{
 "cells": [
  {
   "cell_type": "markdown",
   "metadata": {},
   "source": [
    "#### Finding popular / unpopular keywords"
   ]
  },
  {
   "cell_type": "code",
   "execution_count": 1,
   "metadata": {},
   "outputs": [],
   "source": [
    "import pandas as pd\n",
    "import matplotlib.pyplot as plt\n",
    "%matplotlib inline\n",
    "import numpy as np\n",
    "import math"
   ]
  },
  {
   "cell_type": "code",
   "execution_count": 2,
   "metadata": {},
   "outputs": [
    {
     "name": "stdout",
     "output_type": "stream",
     "text": [
      "384\n",
      "0\n"
     ]
    },
    {
     "data": {
      "text/plain": [
       "(7795, 2)"
      ]
     },
     "execution_count": 2,
     "metadata": {},
     "output_type": "execute_result"
    }
   ],
   "source": [
    "df_in = pd.read_excel( '../data/input/OnlineNewsPopularity.xlsx')[[\"Id\", \" shares\"]]\n",
    "df_in[\"shares\"] = df_in[\" shares\"]\n",
    "df_in = df_in.drop( columns=[\" shares\"], axis=1)\n",
    "\n",
    "print( (df_in.shares>9500).astype(int).sum())\n",
    "df_in.shares[ df_in.shares > 9500] = 9500\n",
    "print( (df_in.shares>9500).astype(int).sum())\n",
    "\n",
    "df_in.shape"
   ]
  },
  {
   "cell_type": "code",
   "execution_count": 3,
   "metadata": {},
   "outputs": [
    {
     "data": {
      "text/plain": [
       "(7795, 2)"
      ]
     },
     "execution_count": 3,
     "metadata": {},
     "output_type": "execute_result"
    }
   ],
   "source": [
    "df_keywords = pd.read_excel( '../data/output/2_keywords_list.xlsx')\n",
    "df_keywords.shape"
   ]
  },
  {
   "cell_type": "markdown",
   "metadata": {},
   "source": [
    "#### For each keyword, get the following\n",
    "* Average shares\n",
    "* Number of articles it appears\n",
    "* Min number of shares it received\n",
    "* Max number of shares it received"
   ]
  },
  {
   "cell_type": "code",
   "execution_count": 4,
   "metadata": {},
   "outputs": [
    {
     "data": {
      "text/html": [
       "<div>\n",
       "<style scoped>\n",
       "    .dataframe tbody tr th:only-of-type {\n",
       "        vertical-align: middle;\n",
       "    }\n",
       "\n",
       "    .dataframe tbody tr th {\n",
       "        vertical-align: top;\n",
       "    }\n",
       "\n",
       "    .dataframe thead th {\n",
       "        text-align: right;\n",
       "    }\n",
       "</style>\n",
       "<table border=\"1\" class=\"dataframe\">\n",
       "  <thead>\n",
       "    <tr style=\"text-align: right;\">\n",
       "      <th></th>\n",
       "      <th>shares</th>\n",
       "      <th>article_count</th>\n",
       "      <th>min_shares</th>\n",
       "      <th>max_shares</th>\n",
       "    </tr>\n",
       "    <tr>\n",
       "      <th>keyword</th>\n",
       "      <th></th>\n",
       "      <th></th>\n",
       "      <th></th>\n",
       "      <th></th>\n",
       "    </tr>\n",
       "  </thead>\n",
       "  <tbody>\n",
       "  </tbody>\n",
       "</table>\n",
       "</div>"
      ],
      "text/plain": [
       "Empty DataFrame\n",
       "Columns: [shares, article_count, min_shares, max_shares]\n",
       "Index: []"
      ]
     },
     "execution_count": 4,
     "metadata": {},
     "output_type": "execute_result"
    }
   ],
   "source": [
    "df_popular = pd.DataFrame( columns=[\"keyword\", \"shares\", \"article_count\", \"min_shares\", \"max_shares\"])\n",
    "df_popular.set_index( \"keyword\", inplace=True)\n",
    "df_popular = df_popular.astype({'shares':int, 'article_count':int, 'min_shares':int, 'max_shares':int}) \n",
    "df_popular"
   ]
  },
  {
   "cell_type": "code",
   "execution_count": 5,
   "metadata": {},
   "outputs": [
    {
     "data": {
      "text/plain": [
       "(6106, 4)"
      ]
     },
     "execution_count": 5,
     "metadata": {},
     "output_type": "execute_result"
    }
   ],
   "source": [
    "for index, row in df_keywords.iterrows():\n",
    "    id = row.Id\n",
    "    keywords = row.keywords\n",
    "    shares = df_in.at[index, \"shares\"]\n",
    "    \n",
    "    for keyword in keywords.split(\", \"):\n",
    "        if df_popular.index.contains(keyword):\n",
    "            df_popular.at[keyword, \"shares\"] += shares\n",
    "            df_popular.at[keyword, \"article_count\"] += 1\n",
    "            \n",
    "            if shares > df_popular.at[keyword, \"max_shares\"]:\n",
    "                df_popular.at[keyword, \"max_shares\"] = shares\n",
    "                \n",
    "            if shares < df_popular.at[keyword, \"min_shares\"]:\n",
    "                df_popular.at[keyword, \"min_shares\"] = shares\n",
    "        else:\n",
    "            df_popular.at[keyword, \"shares\"] = shares\n",
    "            df_popular.at[keyword, \"article_count\"] = 1\n",
    "            df_popular.at[keyword, \"min_shares\"] = shares\n",
    "            df_popular.at[keyword, \"max_shares\"] = shares\n",
    "\n",
    "df_popular.shape"
   ]
  },
  {
   "cell_type": "code",
   "execution_count": 6,
   "metadata": {},
   "outputs": [
    {
     "data": {
      "text/plain": [
       "2539"
      ]
     },
     "execution_count": 6,
     "metadata": {},
     "output_type": "execute_result"
    }
   ],
   "source": [
    "(df_popular[\"article_count\"] > 1).astype(int).sum()"
   ]
  },
  {
   "cell_type": "markdown",
   "metadata": {},
   "source": [
    "### Find the maximum values"
   ]
  },
  {
   "cell_type": "code",
   "execution_count": 7,
   "metadata": {},
   "outputs": [
    {
     "data": {
      "text/html": [
       "<div>\n",
       "<style scoped>\n",
       "    .dataframe tbody tr th:only-of-type {\n",
       "        vertical-align: middle;\n",
       "    }\n",
       "\n",
       "    .dataframe tbody tr th {\n",
       "        vertical-align: top;\n",
       "    }\n",
       "\n",
       "    .dataframe thead th {\n",
       "        text-align: right;\n",
       "    }\n",
       "</style>\n",
       "<table border=\"1\" class=\"dataframe\">\n",
       "  <thead>\n",
       "    <tr style=\"text-align: right;\">\n",
       "      <th></th>\n",
       "      <th>shares</th>\n",
       "      <th>article_count</th>\n",
       "      <th>min_shares</th>\n",
       "      <th>max_shares</th>\n",
       "      <th>avg_shares</th>\n",
       "    </tr>\n",
       "    <tr>\n",
       "      <th>keyword</th>\n",
       "      <th></th>\n",
       "      <th></th>\n",
       "      <th></th>\n",
       "      <th></th>\n",
       "      <th></th>\n",
       "    </tr>\n",
       "  </thead>\n",
       "  <tbody>\n",
       "    <tr>\n",
       "      <th>north-korea</th>\n",
       "      <td>99910.0</td>\n",
       "      <td>46.0</td>\n",
       "      <td>582.0</td>\n",
       "      <td>9500.0</td>\n",
       "      <td>2171</td>\n",
       "    </tr>\n",
       "    <tr>\n",
       "      <th>uncategorized</th>\n",
       "      <td>17320868.0</td>\n",
       "      <td>7787.0</td>\n",
       "      <td>5.0</td>\n",
       "      <td>9500.0</td>\n",
       "      <td>2224</td>\n",
       "    </tr>\n",
       "    <tr>\n",
       "      <th>us-world</th>\n",
       "      <td>5176343.0</td>\n",
       "      <td>2374.0</td>\n",
       "      <td>22.0</td>\n",
       "      <td>9500.0</td>\n",
       "      <td>2180</td>\n",
       "    </tr>\n",
       "    <tr>\n",
       "      <th>world</th>\n",
       "      <td>3373012.0</td>\n",
       "      <td>1516.0</td>\n",
       "      <td>28.0</td>\n",
       "      <td>9500.0</td>\n",
       "      <td>2224</td>\n",
       "    </tr>\n",
       "    <tr>\n",
       "      <th>detainees</th>\n",
       "      <td>1758.0</td>\n",
       "      <td>2.0</td>\n",
       "      <td>658.0</td>\n",
       "      <td>1100.0</td>\n",
       "      <td>879</td>\n",
       "    </tr>\n",
       "  </tbody>\n",
       "</table>\n",
       "</div>"
      ],
      "text/plain": [
       "                   shares  article_count  min_shares  max_shares  avg_shares\n",
       "keyword                                                                     \n",
       "north-korea       99910.0           46.0       582.0      9500.0        2171\n",
       "uncategorized  17320868.0         7787.0         5.0      9500.0        2224\n",
       "us-world        5176343.0         2374.0        22.0      9500.0        2180\n",
       "world           3373012.0         1516.0        28.0      9500.0        2224\n",
       "detainees          1758.0            2.0       658.0      1100.0         879"
      ]
     },
     "execution_count": 7,
     "metadata": {},
     "output_type": "execute_result"
    }
   ],
   "source": [
    "df_popular[\"avg_shares\"] = ( df_popular[\"shares\"] / df_popular[\"article_count\"]).astype(int)\n",
    "df_popular.head(5)"
   ]
  },
  {
   "cell_type": "code",
   "execution_count": 8,
   "metadata": {},
   "outputs": [
    {
     "data": {
      "text/html": [
       "<div>\n",
       "<style scoped>\n",
       "    .dataframe tbody tr th:only-of-type {\n",
       "        vertical-align: middle;\n",
       "    }\n",
       "\n",
       "    .dataframe tbody tr th {\n",
       "        vertical-align: top;\n",
       "    }\n",
       "\n",
       "    .dataframe thead th {\n",
       "        text-align: right;\n",
       "    }\n",
       "</style>\n",
       "<table border=\"1\" class=\"dataframe\">\n",
       "  <thead>\n",
       "    <tr style=\"text-align: right;\">\n",
       "      <th></th>\n",
       "      <th>shares</th>\n",
       "      <th>article_count</th>\n",
       "      <th>min_shares</th>\n",
       "      <th>max_shares</th>\n",
       "      <th>avg_shares</th>\n",
       "    </tr>\n",
       "    <tr>\n",
       "      <th>keyword</th>\n",
       "      <th></th>\n",
       "      <th></th>\n",
       "      <th></th>\n",
       "      <th></th>\n",
       "      <th></th>\n",
       "    </tr>\n",
       "  </thead>\n",
       "  <tbody>\n",
       "    <tr>\n",
       "      <th>troops</th>\n",
       "      <td>9500.0</td>\n",
       "      <td>1.0</td>\n",
       "      <td>9500.0</td>\n",
       "      <td>9500.0</td>\n",
       "      <td>9500</td>\n",
       "    </tr>\n",
       "    <tr>\n",
       "      <th>candy-crush</th>\n",
       "      <td>9500.0</td>\n",
       "      <td>1.0</td>\n",
       "      <td>9500.0</td>\n",
       "      <td>9500.0</td>\n",
       "      <td>9500</td>\n",
       "    </tr>\n",
       "    <tr>\n",
       "      <th>wickr</th>\n",
       "      <td>9500.0</td>\n",
       "      <td>1.0</td>\n",
       "      <td>9500.0</td>\n",
       "      <td>9500.0</td>\n",
       "      <td>9500</td>\n",
       "    </tr>\n",
       "    <tr>\n",
       "      <th>forecast</th>\n",
       "      <td>9500.0</td>\n",
       "      <td>1.0</td>\n",
       "      <td>9500.0</td>\n",
       "      <td>9500.0</td>\n",
       "      <td>9500</td>\n",
       "    </tr>\n",
       "    <tr>\n",
       "      <th>weather-forecasting</th>\n",
       "      <td>9500.0</td>\n",
       "      <td>1.0</td>\n",
       "      <td>9500.0</td>\n",
       "      <td>9500.0</td>\n",
       "      <td>9500</td>\n",
       "    </tr>\n",
       "    <tr>\n",
       "      <th>computer-model</th>\n",
       "      <td>9500.0</td>\n",
       "      <td>1.0</td>\n",
       "      <td>9500.0</td>\n",
       "      <td>9500.0</td>\n",
       "      <td>9500</td>\n",
       "    </tr>\n",
       "    <tr>\n",
       "      <th>conflict-free-minerals</th>\n",
       "      <td>9500.0</td>\n",
       "      <td>1.0</td>\n",
       "      <td>9500.0</td>\n",
       "      <td>9500.0</td>\n",
       "      <td>9500</td>\n",
       "    </tr>\n",
       "    <tr>\n",
       "      <th>conflict-minerals</th>\n",
       "      <td>9500.0</td>\n",
       "      <td>1.0</td>\n",
       "      <td>9500.0</td>\n",
       "      <td>9500.0</td>\n",
       "      <td>9500</td>\n",
       "    </tr>\n",
       "    <tr>\n",
       "      <th>taxi</th>\n",
       "      <td>9500.0</td>\n",
       "      <td>1.0</td>\n",
       "      <td>9500.0</td>\n",
       "      <td>9500.0</td>\n",
       "      <td>9500</td>\n",
       "    </tr>\n",
       "    <tr>\n",
       "      <th>brian-boitano</th>\n",
       "      <td>9500.0</td>\n",
       "      <td>1.0</td>\n",
       "      <td>9500.0</td>\n",
       "      <td>9500.0</td>\n",
       "      <td>9500</td>\n",
       "    </tr>\n",
       "    <tr>\n",
       "      <th>figure-skating</th>\n",
       "      <td>9500.0</td>\n",
       "      <td>1.0</td>\n",
       "      <td>9500.0</td>\n",
       "      <td>9500.0</td>\n",
       "      <td>9500</td>\n",
       "    </tr>\n",
       "    <tr>\n",
       "      <th>cable-recall</th>\n",
       "      <td>9500.0</td>\n",
       "      <td>1.0</td>\n",
       "      <td>9500.0</td>\n",
       "      <td>9500.0</td>\n",
       "      <td>9500</td>\n",
       "    </tr>\n",
       "    <tr>\n",
       "      <th>chores</th>\n",
       "      <td>9500.0</td>\n",
       "      <td>1.0</td>\n",
       "      <td>9500.0</td>\n",
       "      <td>9500.0</td>\n",
       "      <td>9500</td>\n",
       "    </tr>\n",
       "    <tr>\n",
       "      <th>funeral</th>\n",
       "      <td>9500.0</td>\n",
       "      <td>1.0</td>\n",
       "      <td>9500.0</td>\n",
       "      <td>9500.0</td>\n",
       "      <td>9500</td>\n",
       "    </tr>\n",
       "    <tr>\n",
       "      <th>failarmy</th>\n",
       "      <td>9500.0</td>\n",
       "      <td>1.0</td>\n",
       "      <td>9500.0</td>\n",
       "      <td>9500.0</td>\n",
       "      <td>9500</td>\n",
       "    </tr>\n",
       "    <tr>\n",
       "      <th>joe-biden</th>\n",
       "      <td>9500.0</td>\n",
       "      <td>1.0</td>\n",
       "      <td>9500.0</td>\n",
       "      <td>9500.0</td>\n",
       "      <td>9500</td>\n",
       "    </tr>\n",
       "    <tr>\n",
       "      <th>robert-mcculloch</th>\n",
       "      <td>9500.0</td>\n",
       "      <td>1.0</td>\n",
       "      <td>9500.0</td>\n",
       "      <td>9500.0</td>\n",
       "      <td>9500</td>\n",
       "    </tr>\n",
       "    <tr>\n",
       "      <th>infinity-cable</th>\n",
       "      <td>9500.0</td>\n",
       "      <td>1.0</td>\n",
       "      <td>9500.0</td>\n",
       "      <td>9500.0</td>\n",
       "      <td>9500</td>\n",
       "    </tr>\n",
       "    <tr>\n",
       "      <th>taskrabbit</th>\n",
       "      <td>9500.0</td>\n",
       "      <td>1.0</td>\n",
       "      <td>9500.0</td>\n",
       "      <td>9500.0</td>\n",
       "      <td>9500</td>\n",
       "    </tr>\n",
       "    <tr>\n",
       "      <th>corporate</th>\n",
       "      <td>9500.0</td>\n",
       "      <td>1.0</td>\n",
       "      <td>9500.0</td>\n",
       "      <td>9500.0</td>\n",
       "      <td>9500</td>\n",
       "    </tr>\n",
       "  </tbody>\n",
       "</table>\n",
       "</div>"
      ],
      "text/plain": [
       "                        shares  article_count  min_shares  max_shares  \\\n",
       "keyword                                                                 \n",
       "troops                  9500.0            1.0      9500.0      9500.0   \n",
       "candy-crush             9500.0            1.0      9500.0      9500.0   \n",
       "wickr                   9500.0            1.0      9500.0      9500.0   \n",
       "forecast                9500.0            1.0      9500.0      9500.0   \n",
       "weather-forecasting     9500.0            1.0      9500.0      9500.0   \n",
       "computer-model          9500.0            1.0      9500.0      9500.0   \n",
       "conflict-free-minerals  9500.0            1.0      9500.0      9500.0   \n",
       "conflict-minerals       9500.0            1.0      9500.0      9500.0   \n",
       "taxi                    9500.0            1.0      9500.0      9500.0   \n",
       "brian-boitano           9500.0            1.0      9500.0      9500.0   \n",
       "figure-skating          9500.0            1.0      9500.0      9500.0   \n",
       "cable-recall            9500.0            1.0      9500.0      9500.0   \n",
       "chores                  9500.0            1.0      9500.0      9500.0   \n",
       "funeral                 9500.0            1.0      9500.0      9500.0   \n",
       "failarmy                9500.0            1.0      9500.0      9500.0   \n",
       "joe-biden               9500.0            1.0      9500.0      9500.0   \n",
       "robert-mcculloch        9500.0            1.0      9500.0      9500.0   \n",
       "infinity-cable          9500.0            1.0      9500.0      9500.0   \n",
       "taskrabbit              9500.0            1.0      9500.0      9500.0   \n",
       "corporate               9500.0            1.0      9500.0      9500.0   \n",
       "\n",
       "                        avg_shares  \n",
       "keyword                             \n",
       "troops                        9500  \n",
       "candy-crush                   9500  \n",
       "wickr                         9500  \n",
       "forecast                      9500  \n",
       "weather-forecasting           9500  \n",
       "computer-model                9500  \n",
       "conflict-free-minerals        9500  \n",
       "conflict-minerals             9500  \n",
       "taxi                          9500  \n",
       "brian-boitano                 9500  \n",
       "figure-skating                9500  \n",
       "cable-recall                  9500  \n",
       "chores                        9500  \n",
       "funeral                       9500  \n",
       "failarmy                      9500  \n",
       "joe-biden                     9500  \n",
       "robert-mcculloch              9500  \n",
       "infinity-cable                9500  \n",
       "taskrabbit                    9500  \n",
       "corporate                     9500  "
      ]
     },
     "execution_count": 8,
     "metadata": {},
     "output_type": "execute_result"
    }
   ],
   "source": [
    "df_most_popular = df_popular.sort_values( \"avg_shares\", ascending=False)\n",
    "df_most_popular.head(20)"
   ]
  },
  {
   "cell_type": "code",
   "execution_count": 9,
   "metadata": {},
   "outputs": [
    {
     "data": {
      "image/png": "[encoded data removed]",
      "text/plain": [
       "<Figure size 432x288 with 1 Axes>"
      ]
     },
     "metadata": {
      "needs_background": "light"
     },
     "output_type": "display_data"
    }
   ],
   "source": [
    "nparr = np.array( df_most_popular[\"article_count\"].values.tolist())\n",
    "plt.hist(nparr, bins=50)\n",
    "plt.gca().set(title='Frequency Histogram', ylabel='Frequency');"
   ]
  },
  {
   "cell_type": "code",
   "execution_count": 10,
   "metadata": {},
   "outputs": [
    {
     "data": {
      "text/html": [
       "<div>\n",
       "<style scoped>\n",
       "    .dataframe tbody tr th:only-of-type {\n",
       "        vertical-align: middle;\n",
       "    }\n",
       "\n",
       "    .dataframe tbody tr th {\n",
       "        vertical-align: top;\n",
       "    }\n",
       "\n",
       "    .dataframe thead th {\n",
       "        text-align: right;\n",
       "    }\n",
       "</style>\n",
       "<table border=\"1\" class=\"dataframe\">\n",
       "  <thead>\n",
       "    <tr style=\"text-align: right;\">\n",
       "      <th></th>\n",
       "      <th>shares</th>\n",
       "      <th>article_count</th>\n",
       "      <th>min_shares</th>\n",
       "      <th>max_shares</th>\n",
       "      <th>avg_shares</th>\n",
       "    </tr>\n",
       "    <tr>\n",
       "      <th>keyword</th>\n",
       "      <th></th>\n",
       "      <th></th>\n",
       "      <th></th>\n",
       "      <th></th>\n",
       "      <th></th>\n",
       "    </tr>\n",
       "  </thead>\n",
       "  <tbody>\n",
       "    <tr>\n",
       "      <th>troops</th>\n",
       "      <td>9500.0</td>\n",
       "      <td>1.0</td>\n",
       "      <td>9500.0</td>\n",
       "      <td>9500.0</td>\n",
       "      <td>9500</td>\n",
       "    </tr>\n",
       "    <tr>\n",
       "      <th>candy-crush</th>\n",
       "      <td>9500.0</td>\n",
       "      <td>1.0</td>\n",
       "      <td>9500.0</td>\n",
       "      <td>9500.0</td>\n",
       "      <td>9500</td>\n",
       "    </tr>\n",
       "    <tr>\n",
       "      <th>wickr</th>\n",
       "      <td>9500.0</td>\n",
       "      <td>1.0</td>\n",
       "      <td>9500.0</td>\n",
       "      <td>9500.0</td>\n",
       "      <td>9500</td>\n",
       "    </tr>\n",
       "    <tr>\n",
       "      <th>forecast</th>\n",
       "      <td>9500.0</td>\n",
       "      <td>1.0</td>\n",
       "      <td>9500.0</td>\n",
       "      <td>9500.0</td>\n",
       "      <td>9500</td>\n",
       "    </tr>\n",
       "    <tr>\n",
       "      <th>weather-forecasting</th>\n",
       "      <td>9500.0</td>\n",
       "      <td>1.0</td>\n",
       "      <td>9500.0</td>\n",
       "      <td>9500.0</td>\n",
       "      <td>9500</td>\n",
       "    </tr>\n",
       "    <tr>\n",
       "      <th>computer-model</th>\n",
       "      <td>9500.0</td>\n",
       "      <td>1.0</td>\n",
       "      <td>9500.0</td>\n",
       "      <td>9500.0</td>\n",
       "      <td>9500</td>\n",
       "    </tr>\n",
       "    <tr>\n",
       "      <th>conflict-free-minerals</th>\n",
       "      <td>9500.0</td>\n",
       "      <td>1.0</td>\n",
       "      <td>9500.0</td>\n",
       "      <td>9500.0</td>\n",
       "      <td>9500</td>\n",
       "    </tr>\n",
       "    <tr>\n",
       "      <th>conflict-minerals</th>\n",
       "      <td>9500.0</td>\n",
       "      <td>1.0</td>\n",
       "      <td>9500.0</td>\n",
       "      <td>9500.0</td>\n",
       "      <td>9500</td>\n",
       "    </tr>\n",
       "    <tr>\n",
       "      <th>taxi</th>\n",
       "      <td>9500.0</td>\n",
       "      <td>1.0</td>\n",
       "      <td>9500.0</td>\n",
       "      <td>9500.0</td>\n",
       "      <td>9500</td>\n",
       "    </tr>\n",
       "    <tr>\n",
       "      <th>brian-boitano</th>\n",
       "      <td>9500.0</td>\n",
       "      <td>1.0</td>\n",
       "      <td>9500.0</td>\n",
       "      <td>9500.0</td>\n",
       "      <td>9500</td>\n",
       "    </tr>\n",
       "  </tbody>\n",
       "</table>\n",
       "</div>"
      ],
      "text/plain": [
       "                        shares  article_count  min_shares  max_shares  \\\n",
       "keyword                                                                 \n",
       "troops                  9500.0            1.0      9500.0      9500.0   \n",
       "candy-crush             9500.0            1.0      9500.0      9500.0   \n",
       "wickr                   9500.0            1.0      9500.0      9500.0   \n",
       "forecast                9500.0            1.0      9500.0      9500.0   \n",
       "weather-forecasting     9500.0            1.0      9500.0      9500.0   \n",
       "computer-model          9500.0            1.0      9500.0      9500.0   \n",
       "conflict-free-minerals  9500.0            1.0      9500.0      9500.0   \n",
       "conflict-minerals       9500.0            1.0      9500.0      9500.0   \n",
       "taxi                    9500.0            1.0      9500.0      9500.0   \n",
       "brian-boitano           9500.0            1.0      9500.0      9500.0   \n",
       "\n",
       "                        avg_shares  \n",
       "keyword                             \n",
       "troops                        9500  \n",
       "candy-crush                   9500  \n",
       "wickr                         9500  \n",
       "forecast                      9500  \n",
       "weather-forecasting           9500  \n",
       "computer-model                9500  \n",
       "conflict-free-minerals        9500  \n",
       "conflict-minerals             9500  \n",
       "taxi                          9500  \n",
       "brian-boitano                 9500  "
      ]
     },
     "execution_count": 10,
     "metadata": {},
     "output_type": "execute_result"
    }
   ],
   "source": [
    "df_most_popular = df_popular[ df_popular.avg_shares != 25000].sort_values( \"avg_shares\", ascending=False)\n",
    "df_most_popular.head(10)"
   ]
  },
  {
   "cell_type": "code",
   "execution_count": 11,
   "metadata": {},
   "outputs": [
    {
     "data": {
      "text/html": [
       "<div>\n",
       "<style scoped>\n",
       "    .dataframe tbody tr th:only-of-type {\n",
       "        vertical-align: middle;\n",
       "    }\n",
       "\n",
       "    .dataframe tbody tr th {\n",
       "        vertical-align: top;\n",
       "    }\n",
       "\n",
       "    .dataframe thead th {\n",
       "        text-align: right;\n",
       "    }\n",
       "</style>\n",
       "<table border=\"1\" class=\"dataframe\">\n",
       "  <thead>\n",
       "    <tr style=\"text-align: right;\">\n",
       "      <th></th>\n",
       "      <th>shares</th>\n",
       "      <th>article_count</th>\n",
       "      <th>min_shares</th>\n",
       "      <th>max_shares</th>\n",
       "      <th>avg_shares</th>\n",
       "    </tr>\n",
       "    <tr>\n",
       "      <th>keyword</th>\n",
       "      <th></th>\n",
       "      <th></th>\n",
       "      <th></th>\n",
       "      <th></th>\n",
       "      <th></th>\n",
       "    </tr>\n",
       "  </thead>\n",
       "  <tbody>\n",
       "    <tr>\n",
       "      <th>world</th>\n",
       "      <td>3373012.0</td>\n",
       "      <td>1516.0</td>\n",
       "      <td>28.0</td>\n",
       "      <td>9500.0</td>\n",
       "      <td>2224</td>\n",
       "    </tr>\n",
       "    <tr>\n",
       "      <th>watercooler</th>\n",
       "      <td>3579450.0</td>\n",
       "      <td>1596.0</td>\n",
       "      <td>42.0</td>\n",
       "      <td>9500.0</td>\n",
       "      <td>2242</td>\n",
       "    </tr>\n",
       "    <tr>\n",
       "      <th>entertainment</th>\n",
       "      <td>3549153.0</td>\n",
       "      <td>1608.0</td>\n",
       "      <td>5.0</td>\n",
       "      <td>9500.0</td>\n",
       "      <td>2207</td>\n",
       "    </tr>\n",
       "    <tr>\n",
       "      <th>us-world</th>\n",
       "      <td>5176343.0</td>\n",
       "      <td>2374.0</td>\n",
       "      <td>22.0</td>\n",
       "      <td>9500.0</td>\n",
       "      <td>2180</td>\n",
       "    </tr>\n",
       "    <tr>\n",
       "      <th>uncategorized</th>\n",
       "      <td>17320868.0</td>\n",
       "      <td>7787.0</td>\n",
       "      <td>5.0</td>\n",
       "      <td>9500.0</td>\n",
       "      <td>2224</td>\n",
       "    </tr>\n",
       "  </tbody>\n",
       "</table>\n",
       "</div>"
      ],
      "text/plain": [
       "                   shares  article_count  min_shares  max_shares  avg_shares\n",
       "keyword                                                                     \n",
       "world           3373012.0         1516.0        28.0      9500.0        2224\n",
       "watercooler     3579450.0         1596.0        42.0      9500.0        2242\n",
       "entertainment   3549153.0         1608.0         5.0      9500.0        2207\n",
       "us-world        5176343.0         2374.0        22.0      9500.0        2180\n",
       "uncategorized  17320868.0         7787.0         5.0      9500.0        2224"
      ]
     },
     "execution_count": 11,
     "metadata": {},
     "output_type": "execute_result"
    }
   ],
   "source": [
    "df_most_popular = df_popular.sort_values( \"article_count\", ascending=True)\n",
    "df_most_popular.tail()"
   ]
  },
  {
   "cell_type": "code",
   "execution_count": 12,
   "metadata": {},
   "outputs": [
    {
     "data": {
      "text/html": [
       "<div>\n",
       "<style scoped>\n",
       "    .dataframe tbody tr th:only-of-type {\n",
       "        vertical-align: middle;\n",
       "    }\n",
       "\n",
       "    .dataframe tbody tr th {\n",
       "        vertical-align: top;\n",
       "    }\n",
       "\n",
       "    .dataframe thead th {\n",
       "        text-align: right;\n",
       "    }\n",
       "</style>\n",
       "<table border=\"1\" class=\"dataframe\">\n",
       "  <thead>\n",
       "    <tr style=\"text-align: right;\">\n",
       "      <th></th>\n",
       "      <th>shares</th>\n",
       "      <th>min_shares</th>\n",
       "      <th>max_shares</th>\n",
       "      <th>avg_shares</th>\n",
       "    </tr>\n",
       "    <tr>\n",
       "      <th>article_count</th>\n",
       "      <th></th>\n",
       "      <th></th>\n",
       "      <th></th>\n",
       "      <th></th>\n",
       "    </tr>\n",
       "  </thead>\n",
       "  <tbody>\n",
       "    <tr>\n",
       "      <th>1.0</th>\n",
       "      <td>3567</td>\n",
       "      <td>3567</td>\n",
       "      <td>3567</td>\n",
       "      <td>3567</td>\n",
       "    </tr>\n",
       "    <tr>\n",
       "      <th>2.0</th>\n",
       "      <td>904</td>\n",
       "      <td>904</td>\n",
       "      <td>904</td>\n",
       "      <td>904</td>\n",
       "    </tr>\n",
       "    <tr>\n",
       "      <th>3.0</th>\n",
       "      <td>430</td>\n",
       "      <td>430</td>\n",
       "      <td>430</td>\n",
       "      <td>430</td>\n",
       "    </tr>\n",
       "    <tr>\n",
       "      <th>4.0</th>\n",
       "      <td>232</td>\n",
       "      <td>232</td>\n",
       "      <td>232</td>\n",
       "      <td>232</td>\n",
       "    </tr>\n",
       "    <tr>\n",
       "      <th>5.0</th>\n",
       "      <td>174</td>\n",
       "      <td>174</td>\n",
       "      <td>174</td>\n",
       "      <td>174</td>\n",
       "    </tr>\n",
       "  </tbody>\n",
       "</table>\n",
       "</div>"
      ],
      "text/plain": [
       "               shares  min_shares  max_shares  avg_shares\n",
       "article_count                                            \n",
       "1.0              3567        3567        3567        3567\n",
       "2.0               904         904         904         904\n",
       "3.0               430         430         430         430\n",
       "4.0               232         232         232         232\n",
       "5.0               174         174         174         174"
      ]
     },
     "execution_count": 12,
     "metadata": {},
     "output_type": "execute_result"
    }
   ],
   "source": [
    "df_popular.groupby( [\"article_count\"]).count().head()"
   ]
  },
  {
   "cell_type": "markdown",
   "metadata": {},
   "source": [
    "### From discussion \n",
    "1. ignore the top n% and bottom n% and take the top and bottom in the remaining\n",
    "2. Find min share and max share for each keyword\n",
    "3. Take the combination of pair of keywords - see the popularity (high / low)\n",
    "4. Get the infer function, takes input of keywords and gives out the avg, max and min shares"
   ]
  },
  {
   "cell_type": "markdown",
   "metadata": {},
   "source": [
    "### Keywords to ignore\n",
    "\n",
    "* Max used keywords - anything > 2000 articles\n",
    "    * uncategorized appears in almost all the entries\n",
    "    * us-world appears in almost two thirds of the entries\n",
    "* Anything appeared in lesser than or equal of 3 articles \n",
    "\n",
    "###### We will consider only the keywords which appeared in atleast 4 articles and atmost 2000 articles"
   ]
  },
  {
   "cell_type": "code",
   "execution_count": 13,
   "metadata": {},
   "outputs": [
    {
     "data": {
      "text/plain": [
       "(1203, 5)"
      ]
     },
     "execution_count": 13,
     "metadata": {},
     "output_type": "execute_result"
    }
   ],
   "source": [
    "df_popular = df_popular[ (df_popular.article_count < 2000) & (df_popular.article_count > 3) ]\n",
    "df_popular.shape"
   ]
  },
  {
   "cell_type": "code",
   "execution_count": 14,
   "metadata": {},
   "outputs": [
    {
     "name": "stderr",
     "output_type": "stream",
     "text": [
      "C:\\ProgramData\\Anaconda3\\lib\\site-packages\\pandas\\core\\frame.py:3697: SettingWithCopyWarning: \n",
      "A value is trying to be set on a copy of a slice from a DataFrame\n",
      "\n",
      "See the caveats in the documentation: http://pandas.pydata.org/pandas-docs/stable/indexing.html#indexing-view-versus-copy\n",
      "  errors=errors)\n"
     ]
    },
    {
     "data": {
      "text/plain": [
       "(1203, 4)"
      ]
     },
     "execution_count": 14,
     "metadata": {},
     "output_type": "execute_result"
    }
   ],
   "source": [
    "df_popular.drop( columns=[\"shares\"], inplace=True)\n",
    "df_popular.shape"
   ]
  },
  {
   "cell_type": "code",
   "execution_count": 15,
   "metadata": {},
   "outputs": [],
   "source": [
    "df_popular.to_excel('../data/output/2_keywords_popularity.xlsx', index=True)"
   ]
  },
  {
   "cell_type": "markdown",
   "metadata": {},
   "source": [
    "### Predicting shares based on keywords popularity"
   ]
  },
  {
   "cell_type": "code",
   "execution_count": 16,
   "metadata": {},
   "outputs": [],
   "source": [
    "from KeywordsPopularity import KeyPop\n",
    "keyPop = KeyPop()"
   ]
  },
  {
   "cell_type": "code",
   "execution_count": 17,
   "metadata": {},
   "outputs": [],
   "source": [
    "# Training RMSE\n",
    "df_in = pd.read_excel( '../data/input/OnlineNewsPopularity.xlsx')[[\"Id\", \" shares\"]]\n",
    "df_in[\"shares\"] = df_in[\" shares\"]\n",
    "df_in = df_in.drop( columns=[\" shares\"], axis=1)\n",
    "df_in.shares[ df_in.shares > 9500] = 9500\n",
    "\n",
    "df_keywords = pd.read_excel( '../data/output/2_keywords_list.xlsx')"
   ]
  },
  {
   "cell_type": "code",
   "execution_count": 18,
   "metadata": {},
   "outputs": [
    {
     "data": {
      "text/html": [
       "<div>\n",
       "<style scoped>\n",
       "    .dataframe tbody tr th:only-of-type {\n",
       "        vertical-align: middle;\n",
       "    }\n",
       "\n",
       "    .dataframe tbody tr th {\n",
       "        vertical-align: top;\n",
       "    }\n",
       "\n",
       "    .dataframe thead th {\n",
       "        text-align: right;\n",
       "    }\n",
       "</style>\n",
       "<table border=\"1\" class=\"dataframe\">\n",
       "  <thead>\n",
       "    <tr style=\"text-align: right;\">\n",
       "      <th></th>\n",
       "      <th>Id</th>\n",
       "      <th>shares</th>\n",
       "      <th>keywords</th>\n",
       "    </tr>\n",
       "  </thead>\n",
       "  <tbody>\n",
       "    <tr>\n",
       "      <th>0</th>\n",
       "      <td>1</td>\n",
       "      <td>1100</td>\n",
       "      <td>north-korea, uncategorized, us-world, world, d...</td>\n",
       "    </tr>\n",
       "    <tr>\n",
       "      <th>1</th>\n",
       "      <td>2</td>\n",
       "      <td>1100</td>\n",
       "      <td>apple, visa, mobile-payments, american-express...</td>\n",
       "    </tr>\n",
       "    <tr>\n",
       "      <th>2</th>\n",
       "      <td>3</td>\n",
       "      <td>1000</td>\n",
       "      <td>australia, uncategorized, us-world, sports, ma...</td>\n",
       "    </tr>\n",
       "    <tr>\n",
       "      <th>3</th>\n",
       "      <td>4</td>\n",
       "      <td>822</td>\n",
       "      <td>australia, bmw, uncategorized, us-world, tony-...</td>\n",
       "    </tr>\n",
       "    <tr>\n",
       "      <th>4</th>\n",
       "      <td>5</td>\n",
       "      <td>841</td>\n",
       "      <td>q-a, australia, uncategorized, tv, us-world, j...</td>\n",
       "    </tr>\n",
       "  </tbody>\n",
       "</table>\n",
       "</div>"
      ],
      "text/plain": [
       "   Id  shares                                           keywords\n",
       "0   1    1100  north-korea, uncategorized, us-world, world, d...\n",
       "1   2    1100  apple, visa, mobile-payments, american-express...\n",
       "2   3    1000  australia, uncategorized, us-world, sports, ma...\n",
       "3   4     822  australia, bmw, uncategorized, us-world, tony-...\n",
       "4   5     841  q-a, australia, uncategorized, tv, us-world, j..."
      ]
     },
     "execution_count": 18,
     "metadata": {},
     "output_type": "execute_result"
    }
   ],
   "source": [
    "df_merged = df_in.merge( df_keywords)\n",
    "df_merged.head()"
   ]
  },
  {
   "cell_type": "code",
   "execution_count": 19,
   "metadata": {},
   "outputs": [
    {
     "name": "stdout",
     "output_type": "stream",
     "text": [
      "2244.1339575085763\n"
     ]
    }
   ],
   "source": [
    "total_squared_error = 0.0\n",
    "\n",
    "df_out = pd.DataFrame(columns=[\"Id\", \"keyword_predicted_shares\"])\n",
    "df_out.astype({'Id':int, 'keyword_predicted_shares':int})\n",
    "\n",
    "for index, row in df_merged.iterrows():\n",
    "    shares = row.shares\n",
    "    keywords = row.keywords\n",
    "    \n",
    "    predicted_shares = keyPop.predict_shares(keywords)\n",
    "    \n",
    "    df_out.at[index, \"Id\"] = row.Id\n",
    "    df_out.at[index, \"keyword_predicted_shares\"] = predicted_shares\n",
    "    \n",
    "    total_squared_error += abs( predicted_shares - shares ) ** 2\n",
    "    \n",
    "mean_squared_error = total_squared_error / df_merged.shape[0]\n",
    "rmse = math.sqrt( mean_squared_error)\n",
    "\n",
    "df_out.to_excel('../data/output/2_keywords_popularity_prediction.xlsx', index=False)\n",
    "\n",
    "print( rmse)"
   ]
  },
  {
   "cell_type": "markdown",
   "metadata": {},
   "source": [
    "### [Kannan]: calculating additional columns related to keywords"
   ]
  },
  {
   "cell_type": "code",
   "execution_count": 6,
   "metadata": {},
   "outputs": [
    {
     "data": {
      "text/html": [
       "<div>\n",
       "<style scoped>\n",
       "    .dataframe tbody tr th:only-of-type {\n",
       "        vertical-align: middle;\n",
       "    }\n",
       "\n",
       "    .dataframe tbody tr th {\n",
       "        vertical-align: top;\n",
       "    }\n",
       "\n",
       "    .dataframe thead th {\n",
       "        text-align: right;\n",
       "    }\n",
       "</style>\n",
       "<table border=\"1\" class=\"dataframe\">\n",
       "  <thead>\n",
       "    <tr style=\"text-align: right;\">\n",
       "      <th></th>\n",
       "      <th>keyword</th>\n",
       "      <th>min_shares</th>\n",
       "      <th>max_shares</th>\n",
       "      <th>avg_shares</th>\n",
       "    </tr>\n",
       "  </thead>\n",
       "  <tbody>\n",
       "    <tr>\n",
       "      <th>0</th>\n",
       "      <td>north-korea</td>\n",
       "      <td>582</td>\n",
       "      <td>9500</td>\n",
       "      <td>2171</td>\n",
       "    </tr>\n",
       "    <tr>\n",
       "      <th>1</th>\n",
       "      <td>world</td>\n",
       "      <td>28</td>\n",
       "      <td>9500</td>\n",
       "      <td>2224</td>\n",
       "    </tr>\n",
       "    <tr>\n",
       "      <th>2</th>\n",
       "      <td>apple</td>\n",
       "      <td>43</td>\n",
       "      <td>9500</td>\n",
       "      <td>2219</td>\n",
       "    </tr>\n",
       "    <tr>\n",
       "      <th>3</th>\n",
       "      <td>mobile-payments</td>\n",
       "      <td>613</td>\n",
       "      <td>9500</td>\n",
       "      <td>2119</td>\n",
       "    </tr>\n",
       "    <tr>\n",
       "      <th>4</th>\n",
       "      <td>mastercard</td>\n",
       "      <td>859</td>\n",
       "      <td>9500</td>\n",
       "      <td>2971</td>\n",
       "    </tr>\n",
       "  </tbody>\n",
       "</table>\n",
       "</div>"
      ],
      "text/plain": [
       "           keyword  min_shares  max_shares  avg_shares\n",
       "0      north-korea         582        9500        2171\n",
       "1            world          28        9500        2224\n",
       "2            apple          43        9500        2219\n",
       "3  mobile-payments         613        9500        2119\n",
       "4       mastercard         859        9500        2971"
      ]
     },
     "execution_count": 6,
     "metadata": {},
     "output_type": "execute_result"
    }
   ],
   "source": [
    "df_stats=pd.read_excel('../data/output/2_keywords_popularity.xlsx')\n",
    "df_stats.drop(['article_count'],axis=1,inplace=True)\n",
    "df_stats.head()"
   ]
  },
  {
   "cell_type": "code",
   "execution_count": 15,
   "metadata": {},
   "outputs": [
    {
     "data": {
      "text/plain": [
       "(1203, 4)"
      ]
     },
     "execution_count": 15,
     "metadata": {},
     "output_type": "execute_result"
    }
   ],
   "source": [
    "df_stats.shape"
   ]
  },
  {
   "cell_type": "code",
   "execution_count": 7,
   "metadata": {},
   "outputs": [
    {
     "data": {
      "text/html": [
       "<div>\n",
       "<style scoped>\n",
       "    .dataframe tbody tr th:only-of-type {\n",
       "        vertical-align: middle;\n",
       "    }\n",
       "\n",
       "    .dataframe tbody tr th {\n",
       "        vertical-align: top;\n",
       "    }\n",
       "\n",
       "    .dataframe thead th {\n",
       "        text-align: right;\n",
       "    }\n",
       "</style>\n",
       "<table border=\"1\" class=\"dataframe\">\n",
       "  <thead>\n",
       "    <tr style=\"text-align: right;\">\n",
       "      <th></th>\n",
       "      <th>Id</th>\n",
       "      <th>keywords</th>\n",
       "    </tr>\n",
       "  </thead>\n",
       "  <tbody>\n",
       "    <tr>\n",
       "      <th>0</th>\n",
       "      <td>1</td>\n",
       "      <td>north-korea, uncategorized, us-world, world, d...</td>\n",
       "    </tr>\n",
       "    <tr>\n",
       "      <th>1</th>\n",
       "      <td>2</td>\n",
       "      <td>apple, visa, mobile-payments, american-express...</td>\n",
       "    </tr>\n",
       "    <tr>\n",
       "      <th>2</th>\n",
       "      <td>3</td>\n",
       "      <td>australia, uncategorized, us-world, sports, ma...</td>\n",
       "    </tr>\n",
       "    <tr>\n",
       "      <th>3</th>\n",
       "      <td>4</td>\n",
       "      <td>australia, bmw, uncategorized, us-world, tony-...</td>\n",
       "    </tr>\n",
       "    <tr>\n",
       "      <th>4</th>\n",
       "      <td>5</td>\n",
       "      <td>q-a, australia, uncategorized, tv, us-world, j...</td>\n",
       "    </tr>\n",
       "  </tbody>\n",
       "</table>\n",
       "</div>"
      ],
      "text/plain": [
       "   Id                                           keywords\n",
       "0   1  north-korea, uncategorized, us-world, world, d...\n",
       "1   2  apple, visa, mobile-payments, american-express...\n",
       "2   3  australia, uncategorized, us-world, sports, ma...\n",
       "3   4  australia, bmw, uncategorized, us-world, tony-...\n",
       "4   5  q-a, australia, uncategorized, tv, us-world, j..."
      ]
     },
     "execution_count": 7,
     "metadata": {},
     "output_type": "execute_result"
    }
   ],
   "source": [
    "df_kw=pd.read_excel('../data/output/2_keywords_list.xlsx')\n",
    "df_kw.head()"
   ]
  },
  {
   "cell_type": "code",
   "execution_count": 5,
   "metadata": {},
   "outputs": [
    {
     "data": {
      "text/plain": [
       "'north-korea, uncategorized, us-world, world, detainees, matthew-miller, jeffrey-fowle'"
      ]
     },
     "execution_count": 5,
     "metadata": {},
     "output_type": "execute_result"
    }
   ],
   "source": [
    "df_kw.loc[0,'keywords']"
   ]
  },
  {
   "cell_type": "code",
   "execution_count": 14,
   "metadata": {},
   "outputs": [
    {
     "name": "stdout",
     "output_type": "stream",
     "text": [
      "north-korea        keyword  min_shares  max_shares  avg_shares\n",
      "0  north-korea         582        9500        2171\n",
      "uncategorized Empty DataFrame\n",
      "Columns: [keyword, min_shares, max_shares, avg_shares]\n",
      "Index: []\n",
      "us-world Empty DataFrame\n",
      "Columns: [keyword, min_shares, max_shares, avg_shares]\n",
      "Index: []\n",
      "world   keyword  min_shares  max_shares  avg_shares\n",
      "1   world          28        9500        2224\n",
      "detainees Empty DataFrame\n",
      "Columns: [keyword, min_shares, max_shares, avg_shares]\n",
      "Index: []\n",
      "matthew-miller Empty DataFrame\n",
      "Columns: [keyword, min_shares, max_shares, avg_shares]\n",
      "Index: []\n",
      "jeffrey-fowle Empty DataFrame\n",
      "Columns: [keyword, min_shares, max_shares, avg_shares]\n",
      "Index: []\n"
     ]
    }
   ],
   "source": [
    "kws=df_kw.loc[0,'keywords']\n",
    "list_kw=kws.split(',')\n",
    "for kw in list_kw:\n",
    "    kw=kw.strip()\n",
    "    stats=df_stats[df_stats.keyword==kw]\n",
    "    print(kw,stats)"
   ]
  }
 ],
 "metadata": {
  "kernelspec": {
   "display_name": "Python 3",
   "language": "python",
   "name": "python3"
  },
  "language_info": {
   "codemirror_mode": {
    "name": "ipython",
    "version": 3
   },
   "file_extension": ".py",
   "mimetype": "text/x-python",
   "name": "python",
   "nbconvert_exporter": "python",
   "pygments_lexer": "ipython3",
   "version": "3.7.1"
  }
 },
 "nbformat": 4,
 "nbformat_minor": 2
}
