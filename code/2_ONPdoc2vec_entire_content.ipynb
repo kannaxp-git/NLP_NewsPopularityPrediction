{
 "cells": [
  {
   "cell_type": "markdown",
   "metadata": {},
   "source": [
    "### Validate ONPdoc2vec.ONPd2v class"
   ]
  },
  {
   "cell_type": "code",
   "execution_count": 1,
   "metadata": {},
   "outputs": [],
   "source": [
    "import numpy as np\n",
    "import pandas as pd\n",
    "import pickle\n",
    "\n",
    "import string\n",
    "import nltk\n",
    "from nltk.corpus import stopwords\n",
    "\n",
    "from ONPdoc2vec import ONPd2v"
   ]
  },
  {
   "cell_type": "code",
   "execution_count": 2,
   "metadata": {},
   "outputs": [],
   "source": [
    "cached_stopwords=stopwords.words('english')\n",
    "\n",
    "punc=string.punctuation\n",
    "table=str.maketrans('','',string.punctuation)\n",
    "\n",
    "def prep(text):\n",
    "    #word tokenization\n",
    "    tokens=nltk.word_tokenize(text)\n",
    "    \n",
    "    #converting to lower case\n",
    "    tokens=[t.lower() for t in tokens]\n",
    "    \n",
    "    #removing punctuations\n",
    "    tokens=[t.translate(table) for t in tokens]\n",
    "    \n",
    "    #filter tokens by length (minimum 3 chars)\n",
    "    tokens=[t for t in tokens if len(t)>2]\n",
    "    \n",
    "    #remove stopwords\n",
    "    tokens=[t for t in tokens if t not in cached_stopwords]\n",
    "    \n",
    "    return \",\".join( tokens)"
   ]
  },
  {
   "cell_type": "code",
   "execution_count": 3,
   "metadata": {},
   "outputs": [
    {
     "data": {
      "text/plain": [
       "['testing', 'nlp', 'mini', 'project']"
      ]
     },
     "execution_count": 3,
     "metadata": {},
     "output_type": "execute_result"
    }
   ],
   "source": [
    "prep( \"This is for testing the NLP mini project\").split(\",\")"
   ]
  },
  {
   "cell_type": "code",
   "execution_count": 4,
   "metadata": {},
   "outputs": [
    {
     "name": "stdout",
     "output_type": "stream",
     "text": [
      "Processing ../data/output/SS_Extracted_content_NER_all.xlsx refined_content\n"
     ]
    },
    {
     "data": {
      "text/plain": [
       "'pyongyang,north,korea,north,korea,gave,foreign,media,access,monday,three,detained,americans,said,able,contact,families,watched,officials,spoke,called,washington,send,highranking,representative,negotiate,freedom,jeffrey,fowle,mathew,miller,said,expect,face,trial,within,month,said,know,punishment,could,face,specific,charges,kenneth,bae,already,serving,15year,term,said,health,deteriorated,labor,camp,works,eight,hours,day,see,also,north,korea,marathon,rare,chance,tour,pyongyang,foot,three,allowed,speak,briefly,associated,press,meeting,center,pyongyang,north,korean,officials,present,interviews,conducted,separately,different,rooms,censor,questions,asked,three,said,know,going,interviewed,immediately,beforehand,said,believe,solution,situation,representative,come,north,korea,make,direct,appeal,often,north,korea,bargaining,chip,past,senior,statesmen,including,former,president,bill,clinton,made,trips,pyongyang,secure,release,detainees,north,korea,says,fowle,miller,committed,hostile,acts,violated,status,tourists,announced,authorities,preparing,trial,announced,date,fowle,arrived,north,korea,april,suspected,leaving,bible,nightclub,northern,port,city,chongjin,christian,proselytizing,considered,crime,north,korea,fowle,lives,miamisburg,ohio,works,city,streets,department,wife,three,children,aged,within,month,could,sharing,jail,cell,ken,bae,said,adding,spoken,family,three,weeks,desperate,get,back,north,korea,says,miller,entered,country,april,tourist,visa,tore,airport,shouted,wanted,seek,asylum,miller,refused,comment,whether,seeking,asylum,bae,46yearold,koreanamerican,missionary,held,since,november,2012,moved,work,camp,hospital,failing,health,weight,loss,last,month,sent,back,work,camp,outside,pyongyang,said,farmrelated,labor,said,lost,pounds,severe,back,pain,along,sleep,disorder,family,said,health,problems,include,diabetes,enlarged,heart,liver,problems,back,pain,hope,someone,come,said,far,latest,heard,response,yet,believe,officials,waiting,bae,said,realize,trial,violating,north,korean,law,refused,details,said,lead,trial,lasted,four,months,trial,took,hour,said,elected,defense,attorney,point,sense,get,lawyer,chance,ask,mercy,quick,said,repeatedly,offered,send,envoy,north,korean,human,rights,issues,robert,king,pyongyang,seek,pardon,bae,detainees,without,success,washington,diplomatic,ties,north,korea,embassy,pyongyang,instead,swedish,embassy,takes,responsibility,consular,affairs,fowle,miller,said,met,swedish,ambassador,allowed,make,phone,calls,relatives,though,small,number,citizens,visit,north,korea,year,tourists,state,department,strongly,advises,miller,detention,washington,updated,travel,warning,note,past,months,north,korea,detained,several,citizens,part,organized,tours,organized,tours,sanctioned,travel,companies,way,north,korea,permits,foreigners,visit,north,korea,strongly,pushing,tourism,lately,effort,bring,foreign,cash,efforts,include,opening,annual,marathon,pyongyang,amateur,foreigners,encouraging,foreign,attendance,children,summer,camp,supporting,creation,travel,app,despite,efforts,remains,highly,sensitive,actions,considers,political,particularly,wary,anything,deems,christian,proselytizing,march,north,korea,deported,australian,missionary,detained,spreading,christianity,apologized,requested,forgiveness'"
      ]
     },
     "execution_count": 4,
     "metadata": {},
     "output_type": "execute_result"
    }
   ],
   "source": [
    "size = 100\n",
    "pca_count = 10\n",
    "\n",
    "filename = '../data/output/SS_Extracted_content_NER_all.xlsx'\n",
    "column = 'refined_content'\n",
    "\n",
    "print( \"Processing \" + filename + \" \" + column)\n",
    "df = pd.read_excel(filename)\n",
    "\n",
    "df[\"refined_content\"] = df.refined_content.apply( prep)\n",
    "\n",
    "df.at[0, 'refined_content']\n"
   ]
  },
  {
   "cell_type": "code",
   "execution_count": 5,
   "metadata": {},
   "outputs": [
    {
     "name": "stdout",
     "output_type": "stream",
     "text": [
      "Number of valid training row entries : 7795\n",
      "Doc2vec model creation completed\n",
      "PCA fitting completed with n_components = 10\n"
     ]
    }
   ],
   "source": [
    "d2v_model = ONPd2v( df[column].values, size=size, pca_count=pca_count)\n",
    "\n",
    "# Save the model\n",
    "d2v_model.save_model( '../data/output/models/d2v_content.model')"
   ]
  },
  {
   "cell_type": "code",
   "execution_count": 6,
   "metadata": {},
   "outputs": [
    {
     "name": "stderr",
     "output_type": "stream",
     "text": [
      "C:\\Users\\Sandeepchopra\\.conda\\envs\\nlp01\\lib\\site-packages\\ipykernel_launcher.py:6: SettingWithCopyWarning: \n",
      "A value is trying to be set on a copy of a slice from a DataFrame.\n",
      "Try using .loc[row_indexer,col_indexer] = value instead\n",
      "\n",
      "See the caveats in the documentation: http://pandas.pydata.org/pandas-docs/stable/user_guide/indexing.html#returning-a-view-versus-a-copy\n",
      "  \n",
      "C:\\Users\\Sandeepchopra\\.conda\\envs\\nlp01\\lib\\site-packages\\ipykernel_launcher.py:9: SettingWithCopyWarning: \n",
      "A value is trying to be set on a copy of a slice from a DataFrame.\n",
      "Try using .loc[row_indexer,col_indexer] = value instead\n",
      "\n",
      "See the caveats in the documentation: http://pandas.pydata.org/pandas-docs/stable/user_guide/indexing.html#returning-a-view-versus-a-copy\n",
      "  if __name__ == '__main__':\n"
     ]
    },
    {
     "name": "stdout",
     "output_type": "stream",
     "text": [
      "0, 100, 200, 300, 400, 500, 600, 700, 800, 900, 1000, 1100, 1200, 1300, 1400, 1500, 1600, 1700, 1800, 1900, 2000, 2100, 2200, 2300, 2400, 2500, 2600, 2700, 2800, 2900, 3000, 3100, 3200, 3300, 3400, 3500, 3600, 3700, 3800, 3900, 4000, 4100, 4200, 4300, 4400, 4500, 4600, 4700, 4800, 4900, 5000, 5100, 5200, 5300, 5400, 5500, 5600, 5700, 5800, 5900, 6000, 6100, 6200, 6300, 6400, 6500, 6600, 6700, 6800, 6900, 7000, 7100, 7200, 7300, 7400, 7500, 7600, 7700, \n"
     ]
    },
    {
     "name": "stderr",
     "output_type": "stream",
     "text": [
      "C:\\Users\\Sandeepchopra\\.conda\\envs\\nlp01\\lib\\site-packages\\pandas\\compat\\_optional.py:106: UserWarning: Pandas requires version '0.9.8' or newer of 'xlsxwriter' (version '0.9.6' currently installed).\n",
      "  warnings.warn(msg, UserWarning)\n"
     ]
    },
    {
     "name": "stdout",
     "output_type": "stream",
     "text": [
      "Completed d2v model and matrix for entire content\n"
     ]
    }
   ],
   "source": [
    "all_columns_list = [ \"content_\" + str(i) for i in range(size)]\n",
    "pca_columns_list = [ \"content_pca_\" + str(i) for i in range(pca_count)]\n",
    "\n",
    "df_all = df[[\"Id\"]]\n",
    "for pca_column in pca_columns_list:\n",
    "    df_all[ pca_column] = 0.0\n",
    "\n",
    "for all_column in all_columns_list:\n",
    "    df_all[ all_column] = 0.0\n",
    "\n",
    "for index, row in df_all.iterrows():\n",
    "    pca_values = d2v_model.infer_vector_pca( df.at[ index, column])\n",
    "    for i in range(pca_count):\n",
    "        pca_column = \"content_pca_\" + str(i)\n",
    "        df_all.at[ index, pca_column] = pca_values[i]\n",
    "\n",
    "    all_values = d2v_model.infer_vector( df.at[ index, column])\n",
    "    for i in range(size):\n",
    "        all_column = \"content_\" + str(i)\n",
    "        df_all.at[ index, all_column] = all_values[i]\n",
    "        \n",
    "    if index % 100 == 0:\n",
    "        print( str(index) + \", \", end='')\n",
    "    \n",
    "print()\n",
    "\n",
    "df_all.to_excel('../data/output/2_d2v_content.xlsx', index=False)\n",
    "\n",
    "print( \"Completed d2v model and matrix for entire content\")"
   ]
  },
  {
   "cell_type": "markdown",
   "metadata": {},
   "source": [
    "### for Keywords"
   ]
  },
  {
   "cell_type": "code",
   "execution_count": 7,
   "metadata": {},
   "outputs": [
    {
     "name": "stdout",
     "output_type": "stream",
     "text": [
      "Number of valid training row entries : 7795\n",
      "Doc2vec model creation completed\n",
      "PCA fitting completed with n_components = 10\n"
     ]
    }
   ],
   "source": [
    "df = pd.read_excel('../data/output/2_keywords_list.xlsx')\n",
    "d2v_model = ONPd2v( df['keywords'].values, size=size, pca_count=pca_count)\n",
    "column = \"keywords\"\n",
    "\n",
    "# Save the model\n",
    "d2v_model.save_model( '../data/output/models/d2v_keywords.model')\n"
   ]
  },
  {
   "cell_type": "code",
   "execution_count": 8,
   "metadata": {},
   "outputs": [
    {
     "name": "stdout",
     "output_type": "stream",
     "text": [
      "0, 100, 200, 300, 400, 500, 600, 700, 800, 900, 1000, 1100, 1200, 1300, 1400, 1500, 1600, 1700, 1800, 1900, 2000, 2100, 2200, 2300, 2400, 2500, 2600, 2700, 2800, 2900, 3000, 3100, 3200, 3300, 3400, 3500, 3600, 3700, 3800, 3900, 4000, 4100, 4200, 4300, 4400, 4500, 4600, 4700, 4800, 4900, 5000, 5100, 5200, 5300, 5400, 5500, 5600, 5700, 5800, 5900, 6000, 6100, 6200, 6300, 6400, 6500, 6600, 6700, 6800, 6900, 7000, 7100, 7200, 7300, 7400, 7500, 7600, 7700, \n"
     ]
    },
    {
     "name": "stderr",
     "output_type": "stream",
     "text": [
      "C:\\Users\\Sandeepchopra\\.conda\\envs\\nlp01\\lib\\site-packages\\pandas\\compat\\_optional.py:106: UserWarning: Pandas requires version '0.9.8' or newer of 'xlsxwriter' (version '0.9.6' currently installed).\n",
      "  warnings.warn(msg, UserWarning)\n"
     ]
    },
    {
     "name": "stdout",
     "output_type": "stream",
     "text": [
      "Completed d2v model and matrix for all keywords\n"
     ]
    }
   ],
   "source": [
    "all_columns_list = [ \"keywords_\" + str(i) for i in range(size)]\n",
    "pca_columns_list = [ \"keywords_pca_\" + str(i) for i in range(pca_count)]\n",
    "\n",
    "df_all = df[[\"Id\"]]\n",
    "for pca_column in pca_columns_list:\n",
    "    df_all[ pca_column] = 0.0\n",
    "\n",
    "for all_column in all_columns_list:\n",
    "    df_all[ all_column] = 0.0\n",
    "\n",
    "for index, row in df_all.iterrows():\n",
    "    pca_values = d2v_model.infer_vector_pca( df.at[ index, column])\n",
    "    for i in range(pca_count):\n",
    "        pca_column = \"keywords_pca_\" + str(i)\n",
    "        df_all.at[ index, pca_column] = pca_values[i]\n",
    "\n",
    "    all_values = d2v_model.infer_vector( df.at[ index, column])\n",
    "    for i in range(size):\n",
    "        all_column = \"keywords_\" + str(i)\n",
    "        df_all.at[ index, all_column] = all_values[i]\n",
    "        \n",
    "    if index % 100 == 0:\n",
    "        print( str(index) + \", \", end='')\n",
    "    \n",
    "print()\n",
    "\n",
    "df_all.to_excel('../data/output/2_d2v_keywords.xlsx', index=False)\n",
    "\n",
    "print( \"Completed d2v model and matrix for all keywords\")\n"
   ]
  },
  {
   "cell_type": "markdown",
   "metadata": {},
   "source": [
    "#### NER List d2v model and output"
   ]
  },
  {
   "cell_type": "code",
   "execution_count": 9,
   "metadata": {},
   "outputs": [
    {
     "name": "stdout",
     "output_type": "stream",
     "text": [
      "Number of valid training row entries : 7793\n",
      "Doc2vec model creation completed\n",
      "PCA fitting completed with n_components = 10\n"
     ]
    }
   ],
   "source": [
    "column = \"NER_list\"\n",
    "df = pd.read_excel('../data/output/SS_Extracted_content_NER_text.xlsx')\n",
    "d2v_model = ONPd2v( df[column].values, size=size, pca_count=pca_count)\n",
    "\n",
    "# Save the model\n",
    "d2v_model.save_model( '../data/output/models/d2v_NER_list.model')"
   ]
  },
  {
   "cell_type": "code",
   "execution_count": 10,
   "metadata": {},
   "outputs": [
    {
     "name": "stderr",
     "output_type": "stream",
     "text": [
      "C:\\Users\\Sandeepchopra\\.conda\\envs\\nlp01\\lib\\site-packages\\ipykernel_launcher.py:6: SettingWithCopyWarning: \n",
      "A value is trying to be set on a copy of a slice from a DataFrame.\n",
      "Try using .loc[row_indexer,col_indexer] = value instead\n",
      "\n",
      "See the caveats in the documentation: http://pandas.pydata.org/pandas-docs/stable/user_guide/indexing.html#returning-a-view-versus-a-copy\n",
      "  \n"
     ]
    },
    {
     "name": "stdout",
     "output_type": "stream",
     "text": [
      "0, 100, 200, 300, 400, 500, 600, 700, 800, 900, 1000, 1100, 1200, 1300, 1400, 1500, 1600, 1700, 1800, 1900, 2000, 2100, 2200, 2300, 2400, 2500, 2600, 2700, 2800, 2900, 3000, 3100, 3200, 3300, 3400, 3500, 3600, 3700, 3800, 3900, 4000, 4100, 4200, 4300, 4400, 4500, 4600, 4700, 4800, 4900, 5000, 5100, 5200, 5300, 5400, 5500, 5600, 5700, 5800, 5900, 6000, 6100, 6200, 6300, 6400, 6500, 6600, 6700, 6800, 6900, 7000, 7100, 7200, 7300, 7400, 7500, 7600, 7700, \n"
     ]
    },
    {
     "name": "stderr",
     "output_type": "stream",
     "text": [
      "C:\\Users\\Sandeepchopra\\.conda\\envs\\nlp01\\lib\\site-packages\\pandas\\compat\\_optional.py:106: UserWarning: Pandas requires version '0.9.8' or newer of 'xlsxwriter' (version '0.9.6' currently installed).\n",
      "  warnings.warn(msg, UserWarning)\n"
     ]
    },
    {
     "name": "stdout",
     "output_type": "stream",
     "text": [
      "Completed d2v model and matrix for all NER list\n"
     ]
    }
   ],
   "source": [
    "all_columns_list = [ \"NER_list_\" + str(i) for i in range(size)]\n",
    "pca_columns_list = [ \"NER_list_pca_\" + str(i) for i in range(pca_count)]\n",
    "\n",
    "df_all = df[[\"Id\"]]\n",
    "for pca_column in pca_columns_list:\n",
    "    df_all[ pca_column] = 0.0\n",
    "\n",
    "for all_column in all_columns_list:\n",
    "    df_all[ all_column] = 0.0\n",
    "\n",
    "for index, row in df_all.iterrows():\n",
    "    pca_values = d2v_model.infer_vector_pca( df.at[ index, column])\n",
    "    for i in range(pca_count):\n",
    "        pca_column = \"NER_list_pca_\" + str(i)\n",
    "        df_all.at[ index, pca_column] = pca_values[i]\n",
    "\n",
    "    all_values = d2v_model.infer_vector( df.at[ index, column])\n",
    "    for i in range(size):\n",
    "        all_column = \"NER_list_\" + str(i)\n",
    "        df_all.at[ index, all_column] = all_values[i]\n",
    "        \n",
    "    if index % 100 == 0:\n",
    "        print( str(index) + \", \", end='')\n",
    "    \n",
    "print()\n",
    "\n",
    "df_all.to_excel('../data/output/2_d2v_NER_list.xlsx', index=False)\n",
    "\n",
    "print( \"Completed d2v model and matrix for all NER list\")"
   ]
  },
  {
   "cell_type": "markdown",
   "metadata": {},
   "source": [
    "### NER most common"
   ]
  },
  {
   "cell_type": "code",
   "execution_count": 11,
   "metadata": {},
   "outputs": [
    {
     "name": "stdout",
     "output_type": "stream",
     "text": [
      "Number of valid training row entries : 7793\n",
      "Doc2vec model creation completed\n",
      "PCA fitting completed with n_components = 10\n"
     ]
    }
   ],
   "source": [
    "column = \"NER_most_common\"\n",
    "df = pd.read_excel('../data/output/SS_Extracted_content_NER_text.xlsx')\n",
    "d2v_model = ONPd2v( df[column].values, size=size, pca_count=pca_count)\n",
    "\n",
    "# Save the model\n",
    "d2v_model.save_model( '../data/output/models/d2v_NER_most_common.model')"
   ]
  },
  {
   "cell_type": "code",
   "execution_count": 12,
   "metadata": {},
   "outputs": [
    {
     "name": "stderr",
     "output_type": "stream",
     "text": [
      "C:\\Users\\Sandeepchopra\\.conda\\envs\\nlp01\\lib\\site-packages\\ipykernel_launcher.py:6: SettingWithCopyWarning: \n",
      "A value is trying to be set on a copy of a slice from a DataFrame.\n",
      "Try using .loc[row_indexer,col_indexer] = value instead\n",
      "\n",
      "See the caveats in the documentation: http://pandas.pydata.org/pandas-docs/stable/user_guide/indexing.html#returning-a-view-versus-a-copy\n",
      "  \n"
     ]
    },
    {
     "name": "stdout",
     "output_type": "stream",
     "text": [
      "0, 100, 200, 300, 400, 500, 600, 700, 800, 900, 1000, 1100, 1200, 1300, 1400, 1500, 1600, 1700, 1800, 1900, 2000, 2100, 2200, 2300, 2400, 2500, 2600, 2700, 2800, 2900, 3000, 3100, 3200, 3300, 3400, 3500, 3600, 3700, 3800, 3900, 4000, 4100, 4200, 4300, 4400, 4500, 4600, 4700, 4800, 4900, 5000, 5100, 5200, 5300, 5400, 5500, 5600, 5700, 5800, 5900, 6000, 6100, 6200, 6300, 6400, 6500, 6600, 6700, 6800, 6900, 7000, 7100, 7200, 7300, 7400, 7500, 7600, 7700, \n"
     ]
    },
    {
     "name": "stderr",
     "output_type": "stream",
     "text": [
      "C:\\Users\\Sandeepchopra\\.conda\\envs\\nlp01\\lib\\site-packages\\pandas\\compat\\_optional.py:106: UserWarning: Pandas requires version '0.9.8' or newer of 'xlsxwriter' (version '0.9.6' currently installed).\n",
      "  warnings.warn(msg, UserWarning)\n"
     ]
    },
    {
     "name": "stdout",
     "output_type": "stream",
     "text": [
      "Completed d2v model and matrix for all NER most common\n"
     ]
    }
   ],
   "source": [
    "all_columns_list = [ \"NER_most_common_\" + str(i) for i in range(size)]\n",
    "pca_columns_list = [ \"NER_most_common_pca_\" + str(i) for i in range(pca_count)]\n",
    "\n",
    "df_all = df[[\"Id\"]]\n",
    "for pca_column in pca_columns_list:\n",
    "    df_all[ pca_column] = 0.0\n",
    "\n",
    "for all_column in all_columns_list:\n",
    "    df_all[ all_column] = 0.0\n",
    "\n",
    "for index, row in df_all.iterrows():\n",
    "    pca_values = d2v_model.infer_vector_pca( df.at[ index, column])\n",
    "    for i in range(pca_count):\n",
    "        pca_column = \"NER_most_common_pca_\" + str(i)\n",
    "        df_all.at[ index, pca_column] = pca_values[i]\n",
    "\n",
    "    all_values = d2v_model.infer_vector( df.at[ index, column])\n",
    "    for i in range(size):\n",
    "        all_column = \"NER_most_common_\" + str(i)\n",
    "        df_all.at[ index, all_column] = all_values[i]\n",
    "        \n",
    "    if index % 100 == 0:\n",
    "        print( str(index) + \", \", end='')\n",
    "    \n",
    "print()\n",
    "\n",
    "df_all.to_excel('../data/output/2_d2v_NER_most_common.xlsx', index=False)\n",
    "\n",
    "print( \"Completed d2v model and matrix for all NER most common\")"
   ]
  }
 ],
 "metadata": {
  "kernelspec": {
   "display_name": "Python (nlp01) ",
   "language": "python",
   "name": "nlp01"
  },
  "language_info": {
   "codemirror_mode": {
    "name": "ipython",
    "version": 3
   },
   "file_extension": ".py",
   "mimetype": "text/x-python",
   "name": "python",
   "nbconvert_exporter": "python",
   "pygments_lexer": "ipython3",
   "version": "3.6.2"
  }
 },
 "nbformat": 4,
 "nbformat_minor": 2
}
