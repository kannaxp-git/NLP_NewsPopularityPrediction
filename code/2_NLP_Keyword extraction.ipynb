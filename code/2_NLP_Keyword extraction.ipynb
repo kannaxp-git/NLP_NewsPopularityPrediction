{
 "cells": [
  {
   "cell_type": "code",
   "execution_count": 1,
   "metadata": {},
   "outputs": [],
   "source": [
    "from bs4 import BeautifulSoup\n",
    "import requests\n",
    "import codecs\n",
    "\n",
    "import pandas as pd\n",
    "import numpy as np\n",
    "import re"
   ]
  },
  {
   "cell_type": "code",
   "execution_count": 2,
   "metadata": {},
   "outputs": [
    {
     "name": "stdout",
     "output_type": "stream",
     "text": [
      "<meta content=\"(?P<keyword1>[^><\\/\"]*)\"\\s[a-zA-Z=\"\\-]*\\sname=\"keywords\">\n"
     ]
    }
   ],
   "source": [
    "regex_keyword = \"\"\"<meta content=\"(?P<keyword1>[^><\\/\"]*)\"\\s[a-zA-Z=\"\\-]*\\sname=\"keywords\">\"\"\"\n",
    "print( regex_keyword)"
   ]
  },
  {
   "cell_type": "code",
   "execution_count": 3,
   "metadata": {},
   "outputs": [],
   "source": [
    "# Read the html files and extract keywords\n",
    "df = pd.read_excel('../data/output/SS_Extracted_content.xlsx')\n",
    "\n",
    "df_out = pd.DataFrame(columns=['Id', 'keywords'])"
   ]
  },
  {
   "cell_type": "code",
   "execution_count": 4,
   "metadata": {},
   "outputs": [
    {
     "name": "stdout",
     "output_type": "stream",
     "text": [
      "0, 100, 200, 300, 400, 500, 600, 700, 800, 900, 1000, 1100, 1200, 1300, 1400, 1500, 1600, 1700, 1800, 1900, 2000, 2100, 2200, 2300, 2400, 2500, 2600, 2700, 2800, 2900, 3000, 3100, 3200, 3300, 3400, 3500, 3600, 3700, 3800, 3900, 4000, 4100, 4200, 4300, 4400, 4500, 4600, 4700, 4800, 4900, 5000, 5100, 5200, 5300, 5400, 5500, 5600, 5700, 5800, 5900, 6000, 6100, 6200, 6300, 6400, 6500, 6600, 6700, 6800, 6900, 7000, 7100, 7200, 7300, 7400, 7500, 7600, 7700, \n"
     ]
    }
   ],
   "source": [
    "for index, row in df.iterrows():\n",
    "    id = row.Id\n",
    "    \n",
    "    html_doc = row.html\n",
    "    \n",
    "    soup = BeautifulSoup(html_doc, 'html.parser')\n",
    "    keywords = \"\"\n",
    "    for meta in soup.find_all( 'meta'):\n",
    "        meta_text = str(meta)\n",
    "        #print( meta_text)\n",
    "        match = re.search( regex_keyword, meta_text)\n",
    "        #print( match)\n",
    "        if match:\n",
    "            if not match.group(\"keyword1\") == None:\n",
    "                keywords = match.group(\"keyword1\")\n",
    "                break\n",
    "                \n",
    "    #print(keywords)\n",
    "    df_out.loc[index] = [id, keywords]\n",
    "    \n",
    "    if index % 100 == 0:\n",
    "        print( str(index) + \", \", end='')\n",
    "        \n",
    "print()"
   ]
  },
  {
   "cell_type": "code",
   "execution_count": 7,
   "metadata": {},
   "outputs": [],
   "source": [
    "df_out.to_excel('../data/output/2_keywords_list.xlsx', index=False)"
   ]
  },
  {
   "cell_type": "code",
   "execution_count": 5,
   "metadata": {},
   "outputs": [
    {
     "data": {
      "text/plain": [
       "(7795, 2)"
      ]
     },
     "execution_count": 5,
     "metadata": {},
     "output_type": "execute_result"
    }
   ],
   "source": [
    "df_out.shape"
   ]
  }
 ],
 "metadata": {
  "kernelspec": {
   "display_name": "Python 3",
   "language": "python",
   "name": "python3"
  },
  "language_info": {
   "codemirror_mode": {
    "name": "ipython",
    "version": 3
   },
   "file_extension": ".py",
   "mimetype": "text/x-python",
   "name": "python",
   "nbconvert_exporter": "python",
   "pygments_lexer": "ipython3",
   "version": "3.7.1"
  }
 },
 "nbformat": 4,
 "nbformat_minor": 2
}
