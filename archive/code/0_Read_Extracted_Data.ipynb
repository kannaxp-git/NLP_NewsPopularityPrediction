{
 "cells": [
  {
   "cell_type": "code",
   "execution_count": 7,
   "metadata": {},
   "outputs": [],
   "source": [
    "import pandas as pd"
   ]
  },
  {
   "cell_type": "markdown",
   "metadata": {},
   "source": [
    "#### reading from consolidated excel file"
   ]
  },
  {
   "cell_type": "code",
   "execution_count": 9,
   "metadata": {},
   "outputs": [
    {
     "data": {
      "text/html": [
       "<div>\n",
       "<style scoped>\n",
       "    .dataframe tbody tr th:only-of-type {\n",
       "        vertical-align: middle;\n",
       "    }\n",
       "\n",
       "    .dataframe tbody tr th {\n",
       "        vertical-align: top;\n",
       "    }\n",
       "\n",
       "    .dataframe thead th {\n",
       "        text-align: right;\n",
       "    }\n",
       "</style>\n",
       "<table border=\"1\" class=\"dataframe\">\n",
       "  <thead>\n",
       "    <tr style=\"text-align: right;\">\n",
       "      <th></th>\n",
       "      <th>Id</th>\n",
       "      <th>url</th>\n",
       "      <th>title</th>\n",
       "      <th>content</th>\n",
       "    </tr>\n",
       "  </thead>\n",
       "  <tbody>\n",
       "    <tr>\n",
       "      <td>0</td>\n",
       "      <td>1</td>\n",
       "      <td>http://mashable.com/2014/09/01/americans-held-...</td>\n",
       "      <td>Americans Held in North Korea Ask U.S. for Ass...</td>\n",
       "      <td>\\nPYONGYANG, North Korea — North Korea gave fo...</td>\n",
       "    </tr>\n",
       "    <tr>\n",
       "      <td>1</td>\n",
       "      <td>2</td>\n",
       "      <td>http://mashable.com/2014/09/01/apple-visa-mast...</td>\n",
       "      <td>Apple Partners With Visa, MasterCard, AmEx for...</td>\n",
       "      <td>\\n\\n\\n{\"player\":{\"description\":null,\"image\":\"h...</td>\n",
       "    </tr>\n",
       "    <tr>\n",
       "      <td>2</td>\n",
       "      <td>3</td>\n",
       "      <td>http://mashable.com/2014/09/01/aussie-football...</td>\n",
       "      <td>Aussie Football Players Dress Up as Rolf Harri...</td>\n",
       "      <td>\\nSYDNEY — Two Australian football players are...</td>\n",
       "    </tr>\n",
       "    <tr>\n",
       "      <td>3</td>\n",
       "      <td>4</td>\n",
       "      <td>http://mashable.com/2014/09/01/australia-gover...</td>\n",
       "      <td>Australia Government Buys Bombproof BMW Fleet ...</td>\n",
       "      <td>\\nSYDNEY — The Australia Prime Minister has or...</td>\n",
       "    </tr>\n",
       "    <tr>\n",
       "      <td>4</td>\n",
       "      <td>5</td>\n",
       "      <td>http://mashable.com/2014/09/01/australia-jane-...</td>\n",
       "      <td>Author Compares Women in Traditional Marriages...</td>\n",
       "      <td>\\n\\n\\n\\n\\nSYDNEY — On Australian panel show Q&amp;...</td>\n",
       "    </tr>\n",
       "  </tbody>\n",
       "</table>\n",
       "</div>"
      ],
      "text/plain": [
       "   Id                                                url  \\\n",
       "0   1  http://mashable.com/2014/09/01/americans-held-...   \n",
       "1   2  http://mashable.com/2014/09/01/apple-visa-mast...   \n",
       "2   3  http://mashable.com/2014/09/01/aussie-football...   \n",
       "3   4  http://mashable.com/2014/09/01/australia-gover...   \n",
       "4   5  http://mashable.com/2014/09/01/australia-jane-...   \n",
       "\n",
       "                                               title  \\\n",
       "0  Americans Held in North Korea Ask U.S. for Ass...   \n",
       "1  Apple Partners With Visa, MasterCard, AmEx for...   \n",
       "2  Aussie Football Players Dress Up as Rolf Harri...   \n",
       "3  Australia Government Buys Bombproof BMW Fleet ...   \n",
       "4  Author Compares Women in Traditional Marriages...   \n",
       "\n",
       "                                             content  \n",
       "0  \\nPYONGYANG, North Korea — North Korea gave fo...  \n",
       "1  \\n\\n\\n{\"player\":{\"description\":null,\"image\":\"h...  \n",
       "2  \\nSYDNEY — Two Australian football players are...  \n",
       "3  \\nSYDNEY — The Australia Prime Minister has or...  \n",
       "4  \\n\\n\\n\\n\\nSYDNEY — On Australian panel show Q&...  "
      ]
     },
     "execution_count": 9,
     "metadata": {},
     "output_type": "execute_result"
    }
   ],
   "source": [
    "filepath='../data/SS_Extracted_content.xlsx'\n",
    "df=pd.read_excel(filepath)\n",
    "df.head()"
   ]
  },
  {
   "cell_type": "code",
   "execution_count": 13,
   "metadata": {},
   "outputs": [
    {
     "data": {
      "text/plain": [
       "(7795, 4)"
      ]
     },
     "execution_count": 13,
     "metadata": {},
     "output_type": "execute_result"
    }
   ],
   "source": [
    "df.shape"
   ]
  },
  {
   "cell_type": "markdown",
   "metadata": {},
   "source": [
    "#### reading from consoidated text file"
   ]
  },
  {
   "cell_type": "code",
   "execution_count": 10,
   "metadata": {},
   "outputs": [
    {
     "data": {
      "text/html": [
       "<div>\n",
       "<style scoped>\n",
       "    .dataframe tbody tr th:only-of-type {\n",
       "        vertical-align: middle;\n",
       "    }\n",
       "\n",
       "    .dataframe tbody tr th {\n",
       "        vertical-align: top;\n",
       "    }\n",
       "\n",
       "    .dataframe thead th {\n",
       "        text-align: right;\n",
       "    }\n",
       "</style>\n",
       "<table border=\"1\" class=\"dataframe\">\n",
       "  <thead>\n",
       "    <tr style=\"text-align: right;\">\n",
       "      <th></th>\n",
       "      <th>Id</th>\n",
       "      <th>url</th>\n",
       "      <th>title</th>\n",
       "      <th>content</th>\n",
       "    </tr>\n",
       "  </thead>\n",
       "  <tbody>\n",
       "    <tr>\n",
       "      <td>0</td>\n",
       "      <td>1</td>\n",
       "      <td>http://mashable.com/2014/09/01/americans-held-...</td>\n",
       "      <td>Americans Held in North Korea Ask U.S. for Ass...</td>\n",
       "      <td>\\nPYONGYANG, North Korea — North Korea gave fo...</td>\n",
       "    </tr>\n",
       "    <tr>\n",
       "      <td>1</td>\n",
       "      <td>2</td>\n",
       "      <td>http://mashable.com/2014/09/01/apple-visa-mast...</td>\n",
       "      <td>Apple Partners With Visa, MasterCard, AmEx for...</td>\n",
       "      <td>\\n\\n\\n{\"player\":{\"description\":null,\"image\":\"h...</td>\n",
       "    </tr>\n",
       "    <tr>\n",
       "      <td>2</td>\n",
       "      <td>3</td>\n",
       "      <td>http://mashable.com/2014/09/01/aussie-football...</td>\n",
       "      <td>Aussie Football Players Dress Up as Rolf Harri...</td>\n",
       "      <td>\\nSYDNEY — Two Australian football players are...</td>\n",
       "    </tr>\n",
       "    <tr>\n",
       "      <td>3</td>\n",
       "      <td>4</td>\n",
       "      <td>http://mashable.com/2014/09/01/australia-gover...</td>\n",
       "      <td>Australia Government Buys Bombproof BMW Fleet ...</td>\n",
       "      <td>\\nSYDNEY — The Australia Prime Minister has or...</td>\n",
       "    </tr>\n",
       "    <tr>\n",
       "      <td>4</td>\n",
       "      <td>5</td>\n",
       "      <td>http://mashable.com/2014/09/01/australia-jane-...</td>\n",
       "      <td>Author Compares Women in Traditional Marriages...</td>\n",
       "      <td>\\n\\n\\n\\n\\nSYDNEY — On Australian panel show Q&amp;...</td>\n",
       "    </tr>\n",
       "  </tbody>\n",
       "</table>\n",
       "</div>"
      ],
      "text/plain": [
       "   Id                                                url  \\\n",
       "0   1  http://mashable.com/2014/09/01/americans-held-...   \n",
       "1   2  http://mashable.com/2014/09/01/apple-visa-mast...   \n",
       "2   3  http://mashable.com/2014/09/01/aussie-football...   \n",
       "3   4  http://mashable.com/2014/09/01/australia-gover...   \n",
       "4   5  http://mashable.com/2014/09/01/australia-jane-...   \n",
       "\n",
       "                                               title  \\\n",
       "0  Americans Held in North Korea Ask U.S. for Ass...   \n",
       "1  Apple Partners With Visa, MasterCard, AmEx for...   \n",
       "2  Aussie Football Players Dress Up as Rolf Harri...   \n",
       "3  Australia Government Buys Bombproof BMW Fleet ...   \n",
       "4  Author Compares Women in Traditional Marriages...   \n",
       "\n",
       "                                             content  \n",
       "0  \\nPYONGYANG, North Korea — North Korea gave fo...  \n",
       "1  \\n\\n\\n{\"player\":{\"description\":null,\"image\":\"h...  \n",
       "2  \\nSYDNEY — Two Australian football players are...  \n",
       "3  \\nSYDNEY — The Australia Prime Minister has or...  \n",
       "4  \\n\\n\\n\\n\\nSYDNEY — On Australian panel show Q&...  "
      ]
     },
     "execution_count": 10,
     "metadata": {},
     "output_type": "execute_result"
    }
   ],
   "source": [
    "filepath='../data/SS_Extracted_content.txt'\n",
    "df=pd.read_csv(filepath,sep='\\t')\n",
    "df.head()"
   ]
  },
  {
   "cell_type": "code",
   "execution_count": 12,
   "metadata": {},
   "outputs": [
    {
     "data": {
      "text/plain": [
       "['\\n',\n",
       " 'PYONGYANG, North Korea â€” North Korea gave foreign media access on Monday to three detained Americans who said they have been able to contact their families and â€” watched by officials as they spoke â€” called for Washington to send a high-ranking representative to negotiate for their freedom.\\n',\n",
       " 'Jeffrey Fowle and Mathew Miller said they expect to face trial within a month. But they said they do not know what punishment they could face or what the specific charges against them are. Kenneth Bae, who already is serving a 15-year term, said his health has deteriorated at the labor camp where he works eight hours a day.\\n',\n",
       " \"See also: North Korea's Marathon: A Rare Chance to Tour Pyongyang on Foot\\n\",\n",
       " 'The three were allowed to speak briefly with The Associated Press at a meeting center in Pyongyang. North Korean officials were present during the interviews, conducted separately and in different rooms, but did not censor the questions that were asked. The three said they did not know they were going to be interviewed until immediately beforehand.\\n',\n",
       " 'All said they believe the only solution to their situation is for a U.S. representative to come to North Korea to make a direct appeal.\\n',\n",
       " \"That has often been North Korea's bargaining chip in the past, when senior statesmen including former President Bill Clinton made trips to Pyongyang to secure the release of detainees.\\n\",\n",
       " 'North Korea says Fowle and Miller committed hostile acts which violated their status as tourists. It has announced that authorities are preparing for the trial, but has not announced the date.\\n',\n",
       " 'Fowle arrived in North Korea on April 29. He is suspected of leaving a Bible in a nightclub in the northern port city of Chongjin. Christian proselytizing is considered a crime in North Korea. Fowle, 56, lives in Miamisburg, Ohio, where he works in a city streets department. He has a wife and three children aged 9, 10, and 12.\\n',\n",
       " '\"Within a month I could be sharing a jail cell with Ken Bae,\" he said, adding that he hasn\\'t spoken with his family for three weeks. \"I\\'m desperate to get back to them.\"\\n',\n",
       " 'North Korea says Miller, 24, entered the country on April 10 with a tourist visa, but tore it up at the airport and shouted that he wanted to seek asylum. Miller refused to comment on whether he was seeking asylum.\\n',\n",
       " 'Bae, a 46-year-old Korean-American missionary, has been held since November 2012. He was moved from a work camp to a hospital because of failing health and weight loss but last month was sent back to the work camp outside of Pyongyang, where he said he does farm-related labor. He said he has lost 15 pounds and has severe back pain, along with a sleep disorder. His family has said his health problems include diabetes, an enlarged heart, liver problems and back pain.\\n',\n",
       " '\"The only hope that I have is to have someone from the U.S. come,\" he said. \"But so far, the latest I\\'ve heard is that there has been no response yet. So I believe that officials here are waiting for that.\"\\n',\n",
       " 'Bae said he did not realize before the trial that he was violating North Korean law, but refused to go into details.\\n',\n",
       " 'He said the lead up to his trial lasted about four months, but the trial itself only took about an hour. He said he elected not to have a defense attorney because \"at that point there was no sense of me to get a lawyer because the only chance I had was to ask for mercy.\"\\n',\n",
       " '\"It was very quick,\" he said.\\n',\n",
       " 'The U.S. has repeatedly offered to send its envoy for North Korean human rights issues, Robert King, to Pyongyang to seek a pardon for Bae and other U.S. detainees, but without success. Washington has no diplomatic ties with North Korea and no embassy in Pyongyang. Instead, the Swedish Embassy takes responsibility for U.S. consular affairs.\\n',\n",
       " 'Fowle and Miller said they have met with the Swedish ambassador and have been allowed to make phone calls to their relatives.\\n',\n",
       " 'Though a small number of U.S. citizens visit North Korea each year as tourists, the State Department strongly advises against it. After Miller\\'s detention, Washington updated its travel warning to note that over the past 18 months, \"North Korea detained several U.S. citizens who were part of organized tours.\"\\n',\n",
       " 'Organized tours with sanctioned travel companies are the only way North Korea permits foreigners to visit.\\n',\n",
       " 'North Korea has been strongly pushing tourism lately in an effort to bring in foreign cash.\\n',\n",
       " \"Those efforts include opening up an annual marathon in Pyongyang to amateur foreigners, encouraging foreign attendance at a children's summer camp, and supporting the creation of a travel app.\\n\",\n",
       " 'But despite its efforts it remains highly sensitive to any actions it considers political and is particularly wary of anything it deems to be Christian proselytizing.\\n',\n",
       " 'In March, North Korea deported an Australian missionary detained for spreading Christianity after he apologized and requested forgiveness.\\n',\n",
       " 'Additional reporting by Mashable\\n',\n",
       " ' ']"
      ]
     },
     "execution_count": 12,
     "metadata": {},
     "output_type": "execute_result"
    }
   ],
   "source": [
    "#read a news article\n",
    "filepath='../data/output/txt/1.txt'\n",
    "file = open(filepath,'r')\n",
    "content=file.readlines()\n",
    "content"
   ]
  },
  {
   "cell_type": "code",
   "execution_count": null,
   "metadata": {},
   "outputs": [],
   "source": []
  }
 ],
 "metadata": {
  "kernelspec": {
   "display_name": "Python 3",
   "language": "python",
   "name": "python3"
  },
  "language_info": {
   "codemirror_mode": {
    "name": "ipython",
    "version": 3
   },
   "file_extension": ".py",
   "mimetype": "text/x-python",
   "name": "python",
   "nbconvert_exporter": "python",
   "pygments_lexer": "ipython3",
   "version": "3.7.4"
  }
 },
 "nbformat": 4,
 "nbformat_minor": 2
}
